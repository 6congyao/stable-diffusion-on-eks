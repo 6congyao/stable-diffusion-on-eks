{
 "cells": [
  {
   "cell_type": "markdown",
   "id": "65711416-e4bd-4ba9-9189-9d4b3817f277",
   "metadata": {},
   "source": [
    "### 一. 基本环境初始化"
   ]
  },
  {
   "cell_type": "markdown",
   "id": "e47f4dba-4f59-4b55-9496-2959c74eed45",
   "metadata": {},
   "source": [
    "#### 1. 初始化基本环境"
   ]
  },
  {
   "cell_type": "code",
   "execution_count": 1,
   "id": "d8cf0a29-90ff-46e0-9da8-c80f7b6aec6e",
   "metadata": {
    "tags": []
   },
   "outputs": [
    {
     "name": "stdout",
     "output_type": "stream",
     "text": [
      "/home/ec2-user/SageMaker/stable-diffusion-on-eks/deploy\n"
     ]
    }
   ],
   "source": [
    "!pwd"
   ]
  },
  {
   "cell_type": "code",
   "execution_count": 37,
   "id": "7aa2cef0-b28c-4247-a7c1-f3e90f2ee209",
   "metadata": {
    "tags": []
   },
   "outputs": [],
   "source": [
    "%%bash\n",
    "sudo chmod +x init-env.sh\n",
    "./init-env.sh"
   ]
  },
  {
   "cell_type": "markdown",
   "id": "096642a4-e2f0-4c7d-9da9-4eb02857717c",
   "metadata": {},
   "source": [
    "### 二. 自定义镜像及Snapshot制备 (可选)"
   ]
  },
  {
   "cell_type": "markdown",
   "id": "805799f3-9685-4855-b91a-a55385608c83",
   "metadata": {},
   "source": [
    "#### 1. 镜像制作(~15min)"
   ]
  },
  {
   "cell_type": "code",
   "execution_count": null,
   "id": "09379f29-9d52-4716-bf09-e3fd37193bc4",
   "metadata": {
    "scrolled": true,
    "tags": []
   },
   "outputs": [],
   "source": [
    "import boto3,os\n",
    "account_id = boto3.client(\"sts\").get_caller_identity().get(\"Account\")\n",
    "region_name = boto3.session.Session().region_name\n",
    "os.chdir('/home/ec2-user/SageMaker/stable-diffusion-on-eks/deploy/tools')\n",
    "cmd = \"/bin/sh ./build_and_push.sh %s\" %(region_name)\n",
    "os.system(cmd)"
   ]
  },
  {
   "cell_type": "markdown",
   "id": "bd29a7d6-b866-4ff7-8f42-3c5722b66b02",
   "metadata": {},
   "source": [
    "上述命令执行完成后,请检查ECR中是否有对应的存储库和镜像"
   ]
  },
  {
   "cell_type": "markdown",
   "id": "1d6b26fd-02a3-47c5-b9a9-f508d9555619",
   "metadata": {},
   "source": [
    "#### 2. Snapshot 制作(可选)(~20min)"
   ]
  },
  {
   "cell_type": "code",
   "execution_count": null,
   "id": "ac527fc1-9512-48db-a2dd-02f52e3dc254",
   "metadata": {
    "scrolled": true,
    "tags": []
   },
   "outputs": [],
   "source": [
    "import boto3,os\n",
    "account_id = boto3.client(\"sts\").get_caller_identity().get(\"Account\")\n",
    "region_name = boto3.session.Session().region_name\n",
    "Infer_API_IMG= \"%s.dkr.ecr.%s.amazonaws.com/sd-on-eks/inference-api:latest\" %(account_id,region_name)\n",
    "Queue_Agent_IMG= \"%s.dkr.ecr.%s.amazonaws.com/sd-on-eks/queue-agent:latest\" %(account_id,region_name)\n",
    "OCI_URL = \"oci://%s.dkr.ecr.%s.amazonaws.com/sd-on-eks/charts/\" %(account_id,region_name)\n",
    "print (\"OCI_URL is :\",OCI_URL)\n",
    "os.chdir('/home/ec2-user/SageMaker/stable-diffusion-on-eks/utils/bottlerocket-images-cache')\n",
    "cmd = \"/bin/sh ./snapshot.sh %s %s\" %(Infer_API_IMG,Queue_Agent_IMG)\n",
    "os.system(cmd)"
   ]
  },
  {
   "cell_type": "code",
   "execution_count": null,
   "id": "809e2897-4785-48bb-9927-91dae6d94de9",
   "metadata": {},
   "outputs": [],
   "source": [
    "#记录上面输出的snapshot id"
   ]
  },
  {
   "cell_type": "markdown",
   "id": "dd9fd608-411e-4d84-899c-5c3846228609",
   "metadata": {},
   "source": [
    "### 三. CDK 部署"
   ]
  },
  {
   "cell_type": "code",
   "execution_count": 2,
   "id": "db411cc7",
   "metadata": {},
   "outputs": [],
   "source": [
    "# 创建模型S3桶\n",
    "# 替换<bucket name>为自定义桶名，替换<deployment region>为部署区域如'us-east-1'或者'us-west-2'\n",
    "!aws s3api create-bucket --bucket <bucket_name> --region <deployment_region> "
   ]
  },
  {
   "cell_type": "markdown",
   "id": "5ae39432",
   "metadata": {},
   "source": [
    "修改stable-diffusion-on-eks/config.yaml。其中modelBucketArn: 'arn:aws:s3:::<bucket_name>' <bucket_name>为上一步自定义桶名。\n",
    "\n",
    "其他项请参考文档说明。\n",
    "\n",
    "最简配置请将：https://github.com/aws-samples/stable-diffusion-on-eks/blob/main/examples/dynamic-runtime.yaml 替换stable-diffusion-on-eks/config.yaml。\n",
    "\n"
   ]
  },
  {
   "cell_type": "markdown",
   "id": "633fa3a0-be7f-4a69-a63d-85845aec91aa",
   "metadata": {},
   "source": [
    "#### 执行CDK 部署 (~20min)"
   ]
  },
  {
   "cell_type": "code",
   "execution_count": 38,
   "id": "5383b24a-0d9d-4f25-a410-dc8322ae8ac2",
   "metadata": {
    "scrolled": true,
    "tags": []
   },
   "outputs": [],
   "source": [
    "import os\n",
    "os.chdir('/home/ec2-user/SageMaker/stable-diffusion-on-eks/deploy/')\n",
    "cmd = \"/bin/sh ./cdk_deploy.sh\"\n",
    "os.system(cmd)"
   ]
  },
  {
   "cell_type": "markdown",
   "id": "e124b7bb-06fc-494d-99fc-3a8aa606eb61",
   "metadata": {},
   "source": [
    "### 四. 模型下载同步\n",
    "#### 1. 模型下载 (根据模型大小,所需时间也不同)\n",
    "找到tools目录下S3uploader文件夹,修改其中的down.csv \n",
    "修改模型下载url,和目标key列(严格按照prefix/key的结构)后保存\n",
    "\n",
    "其中prefix 允许值:\"stable-diffusion\",\"lora\",\"vae\",\"embeddings\""
   ]
  },
  {
   "cell_type": "code",
   "execution_count": 28,
   "id": "b2350732-3dfd-47d3-b2d1-3b804d123b92",
   "metadata": {
    "tags": []
   },
   "outputs": [],
   "source": [
    "%%bash\n",
    "export s3uri=<bucket_name>\n",
    "cd /home/ec2-user/SageMaker/stable-diffusion-on-eks/deploy/tools/S3uploader\n",
    "sed -i \"s/\\,\\,/\\,$s3uri,/g\" down.csv\n",
    "python3 s3uploader.py down.csv"
   ]
  },
  {
   "cell_type": "markdown",
   "id": "b6aa7260-ff82-447a-b2e9-98d3f549359b",
   "metadata": {},
   "source": [
    "#### 2. 模型同步\n",
    "进入datasync 服务访问控制台中找到历史记录是否有执行记录."
   ]
  },
  {
   "cell_type": "markdown",
   "id": "efd18c57-9111-4337-9857-c3a13c3f3cda",
   "metadata": {
    "tags": []
   },
   "source": [
    "### 五.请求测试"
   ]
  },
  {
   "cell_type": "code",
   "execution_count": 6,
   "id": "01e3ce86",
   "metadata": {
    "tags": []
   },
   "outputs": [
    {
     "name": "stdout",
     "output_type": "stream",
     "text": [
      "\"CREATE_COMPLETE\"\n"
     ]
    }
   ],
   "source": [
    "#等待cloudformation 执行完成\n",
    "!aws cloudformation describe-stacks --stack-name SdOnEKSStack --output json --query 'Stacks[0].StackStatus'"
   ]
  },
  {
   "cell_type": "markdown",
   "id": "7f7b86da-cf73-4399-bcd1-7e4590e62edd",
   "metadata": {},
   "source": [
    "执行完毕后从cloudformation输出记录 APIGateway 地址"
   ]
  },
  {
   "cell_type": "code",
   "execution_count": 33,
   "id": "50ccc101",
   "metadata": {
    "tags": []
   },
   "outputs": [],
   "source": [
    "APIGW_URL=\"$(aws cloudformation describe-stacks --stack-name SdOnEKSStack --output text --query 'Stacks[0].Outputs[?OutputKey==`FrontApiEndpoint`].OutputValue')\"\n",
    "!echo \"APIGW URL:\" $APIGW_URL\n"
   ]
  },
  {
   "cell_type": "markdown",
   "id": "481c49d3-9881-4a2a-8c9c-8d3af7c49f46",
   "metadata": {},
   "source": [
    "执行完毕后如果需要管理EKS,则执行以下命令,输出记录 eks config update命令,拷贝到bash中执行"
   ]
  },
  {
   "cell_type": "code",
   "execution_count": 31,
   "id": "afe8fd45",
   "metadata": {
    "tags": []
   },
   "outputs": [],
   "source": [
    "!aws cloudformation describe-stacks --stack-name SdOnEKSStack --output text --query 'Stacks[0].Outputs[?OutputKey==`GetAPIKeyCommand`].OutputValue'\n",
    "# 上一步输出value运行\n",
    "!aws apigateway get-api-keys --query 'items[?id==``].value' --include-values --output text\n"
   ]
  },
  {
   "cell_type": "code",
   "execution_count": 36,
   "id": "50a9a4c9-abaa-4358-8564-eb7e6c8df1ad",
   "metadata": {
    "tags": []
   },
   "outputs": [],
   "source": [
    "!aws cloudformation describe-stacks --stack-name SdOnEKSStack --output text --query 'Stacks[0].Outputs[?OutputKey==`ConfigCommand`].OutputValue'"
   ]
  },
  {
   "cell_type": "markdown",
   "id": "355ca030-db0f-4499-9b9e-b4d3b04f7392",
   "metadata": {},
   "source": [
    "### 六. Lab2 curl范例"
   ]
  },
  {
   "cell_type": "code",
   "execution_count": 32,
   "id": "1e7eff30-9327-49d8-b72f-5e48870bfde8",
   "metadata": {
    "tags": []
   },
   "outputs": [],
   "source": [
    "!curl -X POST https://12345678.execute-api.us-east-2.amazonaws.com/prod/ \\\n",
    "    -H 'Content-Type: application/json' \\\n",
    "    -H 'x-api-key: ' \\\n",
    "    -d @test.json\n"
   ]
  }
 ],
 "metadata": {
  "kernelspec": {
   "display_name": "conda_pytorch_p310",
   "language": "python",
   "name": "conda_pytorch_p310"
  },
  "language_info": {
   "codemirror_mode": {
    "name": "ipython",
    "version": 3
   },
   "file_extension": ".py",
   "mimetype": "text/x-python",
   "name": "python",
   "nbconvert_exporter": "python",
   "pygments_lexer": "ipython3",
   "version": "3.10.12"
  }
 },
 "nbformat": 4,
 "nbformat_minor": 5
}

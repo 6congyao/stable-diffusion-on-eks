{
 "cells": [
  {
   "cell_type": "markdown",
   "id": "65711416-e4bd-4ba9-9189-9d4b3817f277",
   "metadata": {},
   "source": [
    "### 一. 基本环境初始化"
   ]
  },
  {
   "cell_type": "markdown",
   "id": "e47f4dba-4f59-4b55-9496-2959c74eed45",
   "metadata": {},
   "source": [
    "#### 1. 初始化基本环境"
   ]
  },
  {
   "cell_type": "code",
   "execution_count": 1,
   "id": "d8cf0a29-90ff-46e0-9da8-c80f7b6aec6e",
   "metadata": {
    "tags": []
   },
   "outputs": [
    {
     "name": "stdout",
     "output_type": "stream",
     "text": [
      "/home/ec2-user/SageMaker/stable-diffusion-on-eks/deploy\n"
     ]
    }
   ],
   "source": [
    "!pwd"
   ]
  },
  {
   "cell_type": "code",
   "execution_count": 2,
   "id": "7aa2cef0-b28c-4247-a7c1-f3e90f2ee209",
   "metadata": {
    "tags": []
   },
   "outputs": [
    {
     "name": "stderr",
     "output_type": "stream",
     "text": [
      "  % Total    % Received % Xferd  Average Speed   Time    Time     Time  Current\n",
      "                                 Dload  Upload   Total   Spent    Left  Speed\n",
      "100 15916  100 15916    0     0   135k      0 --:--:-- --:--:-- --:--:--  136k\n"
     ]
    },
    {
     "name": "stdout",
     "output_type": "stream",
     "text": [
      "=> nvm is already installed in /home/ec2-user/.nvm, trying to update using git\n",
      "=> => Compressing and cleaning up git repository\n",
      "\n",
      "=> nvm source string already in /home/ec2-user/.bashrc\n",
      "=> bash_completion source string already in /home/ec2-user/.bashrc\n",
      "=> Close and reopen your terminal to start using nvm or run the following to use it now:\n",
      "\n",
      "export NVM_DIR=\"$HOME/.nvm\"\n",
      "[ -s \"$NVM_DIR/nvm.sh\" ] && \\. \"$NVM_DIR/nvm.sh\"  # This loads nvm\n",
      "[ -s \"$NVM_DIR/bash_completion\" ] && \\. \"$NVM_DIR/bash_completion\"  # This loads nvm bash_completion\n"
     ]
    },
    {
     "name": "stderr",
     "output_type": "stream",
     "text": [
      "v16.20.2 is already installed.\n"
     ]
    },
    {
     "name": "stdout",
     "output_type": "stream",
     "text": [
      "Now using node v16.20.2 (npm v8.19.4)\n",
      "\n",
      "changed 1 package, and audited 2 packages in 2s\n",
      "\n",
      "found 0 vulnerabilities\n"
     ]
    },
    {
     "name": "stderr",
     "output_type": "stream",
     "text": [
      "  % Total    % Received % Xferd  Average Speed   Time    Time     Time  Current\n",
      "                                 Dload  Upload   Total   Spent    Left  Speed\n",
      "100 46.9M  100 46.9M    0     0  32.1M      0  0:00:01  0:00:01 --:--:-- 32.1M\n",
      "  % Total    % Received % Xferd  Average Speed   Time    Time     Time  Current\n",
      "                                 Dload  Upload   Total   Spent    Left  Speed\n",
      "100 11715  100 11715    0     0   116k      0 --:--:-- --:--:-- --:--:--  116k\n"
     ]
    },
    {
     "name": "stdout",
     "output_type": "stream",
     "text": [
      "Helm v3.13.1 is already latest\n",
      "Use bash shell via Terminal\n"
     ]
    }
   ],
   "source": [
    "%%bash\n",
    "sudo chmod +x init-env.sh\n",
    "./init-env.sh"
   ]
  },
  {
   "cell_type": "markdown",
   "id": "096642a4-e2f0-4c7d-9da9-4eb02857717c",
   "metadata": {},
   "source": [
    "### 二. 自定义镜像及Snapshot制备 (可选)"
   ]
  },
  {
   "cell_type": "markdown",
   "id": "805799f3-9685-4855-b91a-a55385608c83",
   "metadata": {},
   "source": [
    "#### 1. 镜像制作(~15min)"
   ]
  },
  {
   "cell_type": "code",
   "execution_count": null,
   "id": "09379f29-9d52-4716-bf09-e3fd37193bc4",
   "metadata": {
    "scrolled": true,
    "tags": []
   },
   "outputs": [],
   "source": [
    "import boto3,os\n",
    "account_id = boto3.client(\"sts\").get_caller_identity().get(\"Account\")\n",
    "region_name = boto3.session.Session().region_name\n",
    "os.chdir('/home/ec2-user/SageMaker/stable-diffusion-on-eks/deploy/tools')\n",
    "cmd = \"/bin/sh ./build_and_push.sh %s\" %(region_name)\n",
    "os.system(cmd)"
   ]
  },
  {
   "cell_type": "markdown",
   "id": "bd29a7d6-b866-4ff7-8f42-3c5722b66b02",
   "metadata": {},
   "source": [
    "上述命令执行完成后,请检查ECR中是否有对应的存储库和镜像"
   ]
  },
  {
   "cell_type": "markdown",
   "id": "1d6b26fd-02a3-47c5-b9a9-f508d9555619",
   "metadata": {},
   "source": [
    "#### 2. Snapshot 制作(可选)(~20min)"
   ]
  },
  {
   "cell_type": "code",
   "execution_count": null,
   "id": "ac527fc1-9512-48db-a2dd-02f52e3dc254",
   "metadata": {
    "scrolled": true,
    "tags": []
   },
   "outputs": [],
   "source": [
    "import boto3,os\n",
    "account_id = boto3.client(\"sts\").get_caller_identity().get(\"Account\")\n",
    "region_name = boto3.session.Session().region_name\n",
    "Infer_API_IMG= \"%s.dkr.ecr.%s.amazonaws.com/sd-on-eks/inference-api:latest\" %(account_id,region_name)\n",
    "Queue_Agent_IMG= \"%s.dkr.ecr.%s.amazonaws.com/sd-on-eks/queue-agent:latest\" %(account_id,region_name)\n",
    "OCI_URL = \"oci://%s.dkr.ecr.%s.amazonaws.com/sd-on-eks/charts/\" %(account_id,region_name)\n",
    "print (\"OCI_URL is :\",OCI_URL)\n",
    "os.chdir('/home/ec2-user/SageMaker/stable-diffusion-on-eks/utils/bottlerocket-images-cache')\n",
    "cmd = \"/bin/sh ./snapshot.sh %s %s\" %(Infer_API_IMG,Queue_Agent_IMG)\n",
    "os.system(cmd)"
   ]
  },
  {
   "cell_type": "code",
   "execution_count": null,
   "id": "809e2897-4785-48bb-9927-91dae6d94de9",
   "metadata": {},
   "outputs": [],
   "source": [
    "#记录上面输出的snapshot id"
   ]
  },
  {
   "cell_type": "markdown",
   "id": "dd9fd608-411e-4d84-899c-5c3846228609",
   "metadata": {},
   "source": [
    "### 三. CDK 部署"
   ]
  },
  {
   "cell_type": "code",
   "execution_count": 2,
   "id": "db411cc7",
   "metadata": {},
   "outputs": [],
   "source": [
    "# 创建模型S3桶\n",
    "# 替换<bucket name>为自定义桶名，替换<deployment region>为部署区域如'us-east-1'或者'us-west-2'\n",
    "!aws s3api create-bucket --bucket <bucket_name> --region <deployment_region> "
   ]
  },
  {
   "cell_type": "markdown",
   "id": "5ae39432",
   "metadata": {},
   "source": [
    "修改stable-diffusion-on-eks/config.yaml。其中modelBucketArn: 'arn:aws:s3:::<bucket_name>' <bucket_name>为上一步自定义桶名。\n",
    "\n",
    "其他项请参考文档说明。\n",
    "\n",
    "最简配置请将：https://github.com/aws-samples/stable-diffusion-on-eks/blob/main/examples/dynamic-runtime.yaml 替换stable-diffusion-on-eks/config.yaml。\n",
    "\n"
   ]
  },
  {
   "cell_type": "markdown",
   "id": "633fa3a0-be7f-4a69-a63d-85845aec91aa",
   "metadata": {},
   "source": [
    "#### 执行CDK 部署 (~20min)"
   ]
  },
  {
   "cell_type": "code",
   "execution_count": 4,
   "id": "5383b24a-0d9d-4f25-a410-dc8322ae8ac2",
   "metadata": {
    "scrolled": true,
    "tags": []
   },
   "outputs": [
    {
     "name": "stdout",
     "output_type": "stream",
     "text": [
      "\n",
      "up to date, audited 539 packages in 2s\n",
      "\n",
      "46 packages are looking for funding\n",
      "  run `npm fund` for details\n",
      "\n",
      "1 low severity vulnerability\n",
      "\n",
      "To address all issues, run:\n",
      "  npm audit fix\n",
      "\n",
      "Run `npm audit` for details.\n"
     ]
    },
    {
     "name": "stderr",
     "output_type": "stream",
     "text": [
      "\u001b[41m\u001b[37m\u001b[1m!!!!!!!!!!!!!!!!!!!!!!!!!!!!!!!!!!!!!!!!!!!!!!!!!!!!!!!!!!!!!!!!!!!!!!!!!!!!!!!!\u001b[22m\u001b[39m\u001b[49m\n",
      "\u001b[41m\u001b[37m\u001b[1m!!                                                                            !!\u001b[22m\u001b[39m\u001b[49m\n",
      "\u001b[41m\u001b[37m\u001b[1m!!  Node 16 has reached end-of-life on 2023-09-11 and is not supported.       !!\u001b[22m\u001b[39m\u001b[49m\n",
      "\u001b[41m\u001b[37m\u001b[1m!!  Please upgrade to a supported node version as soon as possible.           !!\u001b[22m\u001b[39m\u001b[49m\n",
      "\u001b[41m\u001b[37m\u001b[1m!!                                                                            !!\u001b[22m\u001b[39m\u001b[49m\n",
      "\u001b[41m\u001b[37m\u001b[1m!!  This software is currently running on node v16.20.2.                      !!\u001b[22m\u001b[39m\u001b[49m\n",
      "\u001b[41m\u001b[37m\u001b[1m!!  As of the current release of this software, supported node releases are:  !!\u001b[22m\u001b[39m\u001b[49m\n",
      "\u001b[41m\u001b[37m\u001b[1m!!  - ^20.0.0 (Planned end-of-life: 2026-04-30)                               !!\u001b[22m\u001b[39m\u001b[49m\n",
      "\u001b[41m\u001b[37m\u001b[1m!!  - ^18.0.0 (Planned end-of-life: 2025-04-30)                               !!\u001b[22m\u001b[39m\u001b[49m\n",
      "\u001b[41m\u001b[37m\u001b[1m!!                                                                            !!\u001b[22m\u001b[39m\u001b[49m\n",
      "\u001b[41m\u001b[37m\u001b[1m!!!!!!!!!!!!!!!!!!!!!!!!!!!!!!!!!!!!!!!!!!!!!!!!!!!!!!!!!!!!!!!!!!!!!!!!!!!!!!!!\u001b[22m\u001b[39m\u001b[49m\n"
     ]
    },
    {
     "name": "stdout",
     "output_type": "stream",
     "text": [
      "\u001b[32m\u001b[1mDEBUG\u001b[22m\u001b[39m\u001b[0m\u001b[0m Core add-on vpc-cni is at version v1.13.4-eksbuild.1\n",
      "\u001b[32m\u001b[1mDEBUG\u001b[22m\u001b[39m\u001b[0m\u001b[0m Core add-on coredns is at version v1.10.1-eksbuild.2\n",
      "\u001b[32m\u001b[1mDEBUG\u001b[22m\u001b[39m\u001b[0m\u001b[0m Core add-on kube-proxy is at version auto\n",
      "\u001b[32m\u001b[1mDEBUG\u001b[22m\u001b[39m\u001b[0m\u001b[0m Core add-on aws-ebs-csi-driver is at version v1.21.0-eksbuild.1\n",
      "\u001b[32m\u001b[1mDEBUG\u001b[22m\u001b[39m\u001b[0m\u001b[0m Core add-on kube-proxy has autoselected version v1.27.1-eksbuild.1\n"
     ]
    },
    {
     "name": "stderr",
     "output_type": "stream",
     "text": [
      "\u001b[32m ⏳  Bootstrapping environment \u001b[34maws://310850127430/us-east-2\u001b[39m\u001b[32m...\u001b[39m\n",
      "\u001b[33mUsing default execution policy of 'arn:aws:iam::aws:policy/AdministratorAccess'. Pass '--cloudformation-execution-policies' to customize.\u001b[39m\n"
     ]
    },
    {
     "name": "stdout",
     "output_type": "stream",
     "text": [
      "Trusted accounts for deployment: (none)\n",
      "Trusted accounts for lookup: (none)\n"
     ]
    },
    {
     "name": "stderr",
     "output_type": "stream",
     "text": [
      "\n",
      " ✨ \u001b[1mhotswap deployment skipped - no changes were detected (use --force to override)\u001b[22m\n",
      "\n",
      "\u001b[32m ✅  Environment \u001b[34maws://310850127430/us-east-2\u001b[39m\u001b[32m bootstrapped (no changes).\u001b[39m\n",
      "\n",
      "\u001b[41m\u001b[37m\u001b[1m!!!!!!!!!!!!!!!!!!!!!!!!!!!!!!!!!!!!!!!!!!!!!!!!!!!!!!!!!!!!!!!!!!!!!!!!!!!!!!!!\u001b[22m\u001b[39m\u001b[49m\n",
      "\u001b[41m\u001b[37m\u001b[1m!!                                                                            !!\u001b[22m\u001b[39m\u001b[49m\n",
      "\u001b[41m\u001b[37m\u001b[1m!!  Node 16 has reached end-of-life on 2023-09-11 and is not supported.       !!\u001b[22m\u001b[39m\u001b[49m\n",
      "\u001b[41m\u001b[37m\u001b[1m!!  Please upgrade to a supported node version as soon as possible.           !!\u001b[22m\u001b[39m\u001b[49m\n",
      "\u001b[41m\u001b[37m\u001b[1m!!                                                                            !!\u001b[22m\u001b[39m\u001b[49m\n",
      "\u001b[41m\u001b[37m\u001b[1m!!  This software is currently running on node v16.20.2.                      !!\u001b[22m\u001b[39m\u001b[49m\n",
      "\u001b[41m\u001b[37m\u001b[1m!!  As of the current release of this software, supported node releases are:  !!\u001b[22m\u001b[39m\u001b[49m\n",
      "\u001b[41m\u001b[37m\u001b[1m!!  - ^20.0.0 (Planned end-of-life: 2026-04-30)                               !!\u001b[22m\u001b[39m\u001b[49m\n",
      "\u001b[41m\u001b[37m\u001b[1m!!  - ^18.0.0 (Planned end-of-life: 2025-04-30)                               !!\u001b[22m\u001b[39m\u001b[49m\n",
      "\u001b[41m\u001b[37m\u001b[1m!!                                                                            !!\u001b[22m\u001b[39m\u001b[49m\n",
      "\u001b[41m\u001b[37m\u001b[1m!!!!!!!!!!!!!!!!!!!!!!!!!!!!!!!!!!!!!!!!!!!!!!!!!!!!!!!!!!!!!!!!!!!!!!!!!!!!!!!!\u001b[22m\u001b[39m\u001b[49m\n"
     ]
    },
    {
     "name": "stdout",
     "output_type": "stream",
     "text": [
      "\u001b[32m\u001b[1mDEBUG\u001b[22m\u001b[39m\u001b[0m\u001b[0m Core add-on vpc-cni is at version v1.13.4-eksbuild.1\n",
      "\u001b[32m\u001b[1mDEBUG\u001b[22m\u001b[39m\u001b[0m\u001b[0m Core add-on coredns is at version v1.10.1-eksbuild.2\n",
      "\u001b[32m\u001b[1mDEBUG\u001b[22m\u001b[39m\u001b[0m\u001b[0m Core add-on kube-proxy is at version auto\n",
      "\u001b[32m\u001b[1mDEBUG\u001b[22m\u001b[39m\u001b[0m\u001b[0m Core add-on aws-ebs-csi-driver is at version v1.21.0-eksbuild.1\n",
      "\u001b[32m\u001b[1mDEBUG\u001b[22m\u001b[39m\u001b[0m\u001b[0m Core add-on kube-proxy has autoselected version v1.27.1-eksbuild.1\n"
     ]
    },
    {
     "name": "stderr",
     "output_type": "stream",
     "text": [
      "\n",
      "✨  Synthesis time: 13.18s\n",
      "\n",
      "\u001b[1mSdOnEKSStack\u001b[22m: deploying... [1/1]\n",
      "\u001b[1mSdOnEKSStack\u001b[22m: creating CloudFormation changeset...\n",
      "SdOnEKSStack |   0/173 | 4:56:43 AM | \u001b[0mREVIEW_IN_PROGRESS  \u001b[0m | AWS::CloudFormation::Stack            | \u001b[0m\u001b[1mSdOnEKSStack\u001b[22m\u001b[0m \u001b[36m\u001b[1mUser Initiated\u001b[22m\u001b[39m\n",
      "SdOnEKSStack |   0/173 | 4:57:04 AM | \u001b[0mCREATE_IN_PROGRESS  \u001b[0m | AWS::CloudFormation::Stack            | \u001b[0m\u001b[1mSdOnEKSStack\u001b[22m\u001b[0m \u001b[36m\u001b[1mUser Initiated\u001b[22m\u001b[39m\n",
      "SdOnEKSStack-awscdkawseksClusterResourceProviderNestedStackawscdkawseksClusterResource-1WUIZDD6JFL91 |   0/173 | 4:57:12 AM | \u001b[0mCREATE_IN_PROGRESS  \u001b[0m | AWS::CloudFormation::Stack            | \u001b[0m\u001b[1mSdOnEKSStack-awscdkawseksClusterResourceProviderNestedStackawscdkawseksClusterResource-1WUIZDD6JFL91\u001b[22m\u001b[0m \u001b[36m\u001b[1mUser Initiated\u001b[22m\u001b[39m\n",
      "\u001b[31mError occurred while monitoring stack: Error [ValidationError]: 2 validation errors detected: Value '' at 'stackName' failed to satisfy constraint: Member must satisfy regular expression pattern: [a-zA-Z][-a-zA-Z0-9]*|arn:[-a-zA-Z0-9:/._+]*; Value '' at 'stackName' failed to satisfy constraint: Member must have length greater than or equal to 1\u001b[39m\n",
      "\u001b[31m    at Request.extractError (/home/ec2-user/.nvm/versions/node/v16.20.2/lib/node_modules/aws-cdk/lib/index.js:362:46430)\u001b[39m\n",
      "\u001b[31m    at Request.callListeners (/home/ec2-user/.nvm/versions/node/v16.20.2/lib/node_modules/aws-cdk/lib/index.js:362:90083)\u001b[39m\n",
      "\u001b[31m    at Request.emit (/home/ec2-user/.nvm/versions/node/v16.20.2/lib/node_modules/aws-cdk/lib/index.js:362:89531)\u001b[39m\n",
      "\u001b[31m    at Request.emit (/home/ec2-user/.nvm/versions/node/v16.20.2/lib/node_modules/aws-cdk/lib/index.js:362:196289)\u001b[39m\n",
      "\u001b[31m    at Request.transition (/home/ec2-user/.nvm/versions/node/v16.20.2/lib/node_modules/aws-cdk/lib/index.js:362:189841)\u001b[39m\n",
      "\u001b[31m    at AcceptorStateMachine.runTo (/home/ec2-user/.nvm/versions/node/v16.20.2/lib/node_modules/aws-cdk/lib/index.js:362:154713)\u001b[39m\n",
      "\u001b[31m    at /home/ec2-user/.nvm/versions/node/v16.20.2/lib/node_modules/aws-cdk/lib/index.js:362:155043\u001b[39m\n",
      "\u001b[31m    at Request.<anonymous> (/home/ec2-user/.nvm/versions/node/v16.20.2/lib/node_modules/aws-cdk/lib/index.js:362:190133)\u001b[39m\n",
      "\u001b[31m    at Request.<anonymous> (/home/ec2-user/.nvm/versions/node/v16.20.2/lib/node_modules/aws-cdk/lib/index.js:362:196364)\u001b[39m\n",
      "\u001b[31m    at Request.callListeners (/home/ec2-user/.nvm/versions/node/v16.20.2/lib/node_modules/aws-cdk/lib/index.js:362:90251) {\u001b[39m\n",
      "\u001b[31m  code: 'ValidationError',\u001b[39m\n",
      "\u001b[31m  time: 2023-10-16T04:57:15.216Z,\u001b[39m\n",
      "\u001b[31m  requestId: '9155be42-0fa2-4498-8835-3653ba343ffe',\u001b[39m\n",
      "\u001b[31m  statusCode: 400,\u001b[39m\n",
      "\u001b[31m  retryable: false,\u001b[39m\n",
      "\u001b[31m  retryDelay: 76.4438126548348\u001b[39m\n",
      "\u001b[31m}\u001b[39m\n",
      "SdOnEKSStack |   0/173 | 4:57:15 AM | \u001b[0mCREATE_IN_PROGRESS  \u001b[0m | AWS::Events::Rule                     | \u001b[0m\u001b[1mspot-interruption-rule\u001b[22m\u001b[0m (spotinterruptionruleCD5EF0CF) \u001b[36m\u001b[1mResource creation Initiated\u001b[22m\u001b[39m\n",
      "SdOnEKSStack |   0/173 | 4:57:15 AM | \u001b[0mCREATE_IN_PROGRESS  \u001b[0m | AWS::Events::Rule                     | \u001b[0m\u001b[1mrebalance-rule\u001b[22m\u001b[0m (rebalancerule2F79D1C5) \u001b[36m\u001b[1mResource creation Initiated\u001b[22m\u001b[39m\n",
      "SdOnEKSStack |   0/173 | 4:57:15 AM | \u001b[0mCREATE_IN_PROGRESS  \u001b[0m | AWS::Events::Rule                     | \u001b[0m\u001b[1minst-state-change-rule\u001b[22m\u001b[0m (inststatechangerule8B4A7167) \u001b[36m\u001b[1mResource creation Initiated\u001b[22m\u001b[39m\n",
      "SdOnEKSStack |   0/173 | 4:57:15 AM | \u001b[0mCREATE_IN_PROGRESS  \u001b[0m | AWS::SQS::QueuePolicy                 | \u001b[0m\u001b[1mInputQueuedynamicsdruntime/Policy\u001b[22m\u001b[0m (InputQueuedynamicsdruntimePolicy1FFD2EEA) \n",
      "SdOnEKSStack |   0/173 | 4:57:15 AM | \u001b[0mCREATE_IN_PROGRESS  \u001b[0m | AWS::SQS::QueuePolicy                 | \u001b[0m\u001b[1mInputQueuesdruntime/Policy\u001b[22m\u001b[0m (InputQueuesdruntimePolicy68F1EAFE) \n",
      "SdOnEKSStack |   0/173 | 4:57:15 AM | \u001b[0mCREATE_IN_PROGRESS  \u001b[0m | AWS::SQS::QueuePolicy                 | \u001b[0m\u001b[1mInputQueuedynamicsdruntime/Policy\u001b[22m\u001b[0m (InputQueuedynamicsdruntimePolicy1FFD2EEA) \u001b[36m\u001b[1mResource creation Initiated\u001b[22m\u001b[39m\n",
      "SdOnEKSStack |   1/173 | 4:57:16 AM | \u001b[32mCREATE_COMPLETE     \u001b[39m | AWS::EFS::FileSystem                  | \u001b[32m\u001b[1mefs-model-storage\u001b[22m\u001b[39m (efsmodelstorage8CC47EB4) \n",
      "SdOnEKSStack |   2/173 | 4:57:16 AM | \u001b[32mCREATE_COMPLETE     \u001b[39m | AWS::SQS::QueuePolicy                 | \u001b[32m\u001b[1mInputQueuedynamicsdruntime/Policy\u001b[22m\u001b[39m (InputQueuedynamicsdruntimePolicy1FFD2EEA) \n",
      "SdOnEKSStack |   2/173 | 4:57:16 AM | \u001b[0mCREATE_IN_PROGRESS  \u001b[0m | AWS::Events::Rule                     | \u001b[0m\u001b[1mschedule-change-rule\u001b[22m\u001b[0m (schedulechangeruleBF5392D7) \n",
      "SdOnEKSStack |   2/173 | 4:57:17 AM | \u001b[0mCREATE_IN_PROGRESS  \u001b[0m | AWS::SNS::Subscription                | \u001b[0m\u001b[1mInputQueuedynamicsdruntime/SdOnEKSStacksdNotificationLambdaA55B477E\u001b[22m\u001b[0m (InputQueuedynamicsdruntimeSdOnEKSStacksdNotificationLambdaA55B477E3C52D438) \n",
      "SdOnEKSStack |   2/173 | 4:57:17 AM | \u001b[0mCREATE_IN_PROGRESS  \u001b[0m | AWS::Events::Rule                     | \u001b[0m\u001b[1mschedule-change-rule\u001b[22m\u001b[0m (schedulechangeruleBF5392D7) \u001b[36m\u001b[1mResource creation Initiated\u001b[22m\u001b[39m\n",
      "SdOnEKSStack |   2/173 | 4:57:17 AM | \u001b[0mCREATE_IN_PROGRESS  \u001b[0m | AWS::SNS::Subscription                | \u001b[0m\u001b[1mInputQueuedynamicsdruntime/SdOnEKSStacksdNotificationLambdaA55B477E\u001b[22m\u001b[0m (InputQueuedynamicsdruntimeSdOnEKSStacksdNotificationLambdaA55B477E3C52D438) \u001b[36m\u001b[1mResource creation Initiated\u001b[22m\u001b[39m\n",
      "SdOnEKSStack |   3/173 | 4:57:17 AM | \u001b[32mCREATE_COMPLETE     \u001b[39m | AWS::SNS::Subscription                | \u001b[32m\u001b[1mInputQueuedynamicsdruntime/SdOnEKSStacksdNotificationLambdaA55B477E\u001b[22m\u001b[39m (InputQueuedynamicsdruntimeSdOnEKSStacksdNotificationLambdaA55B477E3C52D438) \n",
      "SdOnEKSStack |   3/173 | 4:57:18 AM | \u001b[0mCREATE_IN_PROGRESS  \u001b[0m | AWS::SQS::QueuePolicy                 | \u001b[0m\u001b[1mInputQueuesdruntime/Policy\u001b[22m\u001b[0m (InputQueuesdruntimePolicy68F1EAFE) \u001b[36m\u001b[1mResource creation Initiated\u001b[22m\u001b[39m\n",
      "SdOnEKSStack |   4/173 | 4:57:19 AM | \u001b[32mCREATE_COMPLETE     \u001b[39m | AWS::SQS::QueuePolicy                 | \u001b[32m\u001b[1mInputQueuesdruntime/Policy\u001b[22m\u001b[39m (InputQueuesdruntimePolicy68F1EAFE) \n",
      "SdOnEKSStack |   4/173 | 4:57:20 AM | \u001b[0mCREATE_IN_PROGRESS  \u001b[0m | AWS::SNS::Subscription                | \u001b[0m\u001b[1mInputQueuesdruntime/SdOnEKSStacksdNotificationLambdaA55B477E\u001b[22m\u001b[0m (InputQueuesdruntimeSdOnEKSStacksdNotificationLambdaA55B477EF697BCEC) \n",
      "SdOnEKSStack |   4/173 | 4:57:20 AM | \u001b[0mCREATE_IN_PROGRESS  \u001b[0m | AWS::SNS::Subscription                | \u001b[0m\u001b[1mInputQueuesdruntime/SdOnEKSStacksdNotificationLambdaA55B477E\u001b[22m\u001b[0m (InputQueuesdruntimeSdOnEKSStacksdNotificationLambdaA55B477EF697BCEC) \u001b[36m\u001b[1mResource creation Initiated\u001b[22m\u001b[39m\n",
      "SdOnEKSStack |   5/173 | 4:57:20 AM | \u001b[32mCREATE_COMPLETE     \u001b[39m | AWS::SNS::Subscription                | \u001b[32m\u001b[1mInputQueuesdruntime/SdOnEKSStacksdNotificationLambdaA55B477E\u001b[22m\u001b[39m (InputQueuesdruntimeSdOnEKSStacksdNotificationLambdaA55B477EF697BCEC) \n",
      "SdOnEKSStack |   5/173 | 4:57:22 AM | \u001b[0mCREATE_IN_PROGRESS  \u001b[0m | AWS::Lambda::LayerVersion             | \u001b[0m\u001b[1mkubectllayer27\u001b[22m\u001b[0m (kubectllayer275BD88CD2) \u001b[36m\u001b[1mResource creation Initiated\u001b[22m\u001b[39m\n",
      "SdOnEKSStack |   6/173 | 4:57:24 AM | \u001b[32mCREATE_COMPLETE     \u001b[39m | AWS::EC2::VPC                         | \u001b[32m\u001b[1mSdOnEKSStack-vpc\u001b[22m\u001b[39m (SdOnEKSStackvpcF7D45B91) \n",
      "SdOnEKSStack |   6/173 | 4:57:25 AM | \u001b[0mCREATE_IN_PROGRESS  \u001b[0m | AWS::EC2::Subnet                      | \u001b[0m\u001b[1mSdOnEKSStack-vpc/PublicSubnet2/Subnet\u001b[22m\u001b[0m (SdOnEKSStackvpcPublicSubnet2SubnetFAFE0577) \n",
      "SdOnEKSStack |   6/173 | 4:57:25 AM | \u001b[0mCREATE_IN_PROGRESS  \u001b[0m | AWS::EC2::RouteTable                  | \u001b[0m\u001b[1mSdOnEKSStack-vpc/PublicSubnet1/RouteTable\u001b[22m\u001b[0m (SdOnEKSStackvpcPublicSubnet1RouteTable180D1058) \n",
      "SdOnEKSStack |   6/173 | 4:57:25 AM | \u001b[0mCREATE_IN_PROGRESS  \u001b[0m | AWS::EC2::RouteTable                  | \u001b[0m\u001b[1mSdOnEKSStack-vpc/PrivateSubnet3/RouteTable\u001b[22m\u001b[0m (SdOnEKSStackvpcPrivateSubnet3RouteTable872EFC4D) \n",
      "SdOnEKSStack |   6/173 | 4:57:25 AM | \u001b[0mCREATE_IN_PROGRESS  \u001b[0m | AWS::EC2::Subnet                      | \u001b[0m\u001b[1mSdOnEKSStack-vpc/PrivateSubnet3/Subnet\u001b[22m\u001b[0m (SdOnEKSStackvpcPrivateSubnet3SubnetAB14DA99) \n",
      "SdOnEKSStack |   6/173 | 4:57:25 AM | \u001b[0mCREATE_IN_PROGRESS  \u001b[0m | AWS::EC2::RouteTable                  | \u001b[0m\u001b[1mSdOnEKSStack-vpc/PublicSubnet3/RouteTable\u001b[22m\u001b[0m (SdOnEKSStackvpcPublicSubnet3RouteTable6246D6F9) \n",
      "SdOnEKSStack |   6/173 | 4:57:25 AM | \u001b[0mCREATE_IN_PROGRESS  \u001b[0m | AWS::EC2::RouteTable                  | \u001b[0m\u001b[1mSdOnEKSStack-vpc/PrivateSubnet2/RouteTable\u001b[22m\u001b[0m (SdOnEKSStackvpcPrivateSubnet2RouteTableAA23A95C) \n",
      "SdOnEKSStack |   6/173 | 4:57:25 AM | \u001b[0mCREATE_IN_PROGRESS  \u001b[0m | AWS::EC2::Subnet                      | \u001b[0m\u001b[1mSdOnEKSStack-vpc/PrivateSubnet2/Subnet\u001b[22m\u001b[0m (SdOnEKSStackvpcPrivateSubnet2Subnet30667EA0) \n",
      "SdOnEKSStack |   6/173 | 4:57:25 AM | \u001b[0mCREATE_IN_PROGRESS  \u001b[0m | AWS::EC2::Subnet                      | \u001b[0m\u001b[1mSdOnEKSStack-vpc/PrivateSubnet1/Subnet\u001b[22m\u001b[0m (SdOnEKSStackvpcPrivateSubnet1SubnetD46529C8) \n",
      "SdOnEKSStack |   6/173 | 4:57:25 AM | \u001b[0mCREATE_IN_PROGRESS  \u001b[0m | AWS::EC2::Subnet                      | \u001b[0m\u001b[1mSdOnEKSStack-vpc/PublicSubnet1/Subnet\u001b[22m\u001b[0m (SdOnEKSStackvpcPublicSubnet1Subnet330E5EF9) \n",
      "SdOnEKSStack |   6/173 | 4:57:25 AM | \u001b[0mCREATE_IN_PROGRESS  \u001b[0m | AWS::EC2::RouteTable                  | \u001b[0m\u001b[1mSdOnEKSStack-vpc/PublicSubnet2/RouteTable\u001b[22m\u001b[0m (SdOnEKSStackvpcPublicSubnet2RouteTableD478DCBF) \n",
      "SdOnEKSStack |   6/173 | 4:57:25 AM | \u001b[0mCREATE_IN_PROGRESS  \u001b[0m | AWS::EC2::RouteTable                  | \u001b[0m\u001b[1mSdOnEKSStack-vpc/PrivateSubnet1/RouteTable\u001b[22m\u001b[0m (SdOnEKSStackvpcPrivateSubnet1RouteTable1964853E) \n",
      "SdOnEKSStack |   6/173 | 4:57:25 AM | \u001b[0mCREATE_IN_PROGRESS  \u001b[0m | AWS::EC2::Subnet                      | \u001b[0m\u001b[1mSdOnEKSStack-vpc/PublicSubnet3/Subnet\u001b[22m\u001b[0m (SdOnEKSStackvpcPublicSubnet3Subnet83B0EE6F) \n",
      "SdOnEKSStack |   6/173 | 4:57:26 AM | \u001b[0mCREATE_IN_PROGRESS  \u001b[0m | AWS::IAM::Role                        | \u001b[0m\u001b[1mCustom::VpcRestrictDefaultSGCustomResourceProvider/Role\u001b[22m\u001b[0m (CustomVpcRestrictDefaultSGCustomResourceProviderRole26592FE0) \n",
      "SdOnEKSStack |   6/173 | 4:57:26 AM | \u001b[0mCREATE_IN_PROGRESS  \u001b[0m | AWS::EC2::SecurityGroup               | \u001b[0m\u001b[1mSdOnEKSStack-efs-model-storage-EfsSecurityGroup\u001b[22m\u001b[0m (SdOnEKSStackefsmodelstorageEfsSecurityGroup6D6AA9D3) \n",
      "SdOnEKSStack |   6/173 | 4:57:26 AM | \u001b[0mCREATE_IN_PROGRESS  \u001b[0m | AWS::EC2::RouteTable                  | \u001b[0m\u001b[1mSdOnEKSStack-vpc/PrivateSubnet3/RouteTable\u001b[22m\u001b[0m (SdOnEKSStackvpcPrivateSubnet3RouteTable872EFC4D) \u001b[36m\u001b[1mResource creation Initiated\u001b[22m\u001b[39m\n",
      "SdOnEKSStack |   6/173 | 4:57:26 AM | \u001b[0mCREATE_IN_PROGRESS  \u001b[0m | AWS::EC2::Subnet                      | \u001b[0m\u001b[1mSdOnEKSStack-vpc/PublicSubnet3/Subnet\u001b[22m\u001b[0m (SdOnEKSStackvpcPublicSubnet3Subnet83B0EE6F) \u001b[36m\u001b[1mResource creation Initiated\u001b[22m\u001b[39m\n",
      "SdOnEKSStack |   6/173 | 4:57:26 AM | \u001b[0mCREATE_IN_PROGRESS  \u001b[0m | AWS::EC2::RouteTable                  | \u001b[0m\u001b[1mSdOnEKSStack-vpc/PrivateSubnet2/RouteTable\u001b[22m\u001b[0m (SdOnEKSStackvpcPrivateSubnet2RouteTableAA23A95C) \u001b[36m\u001b[1mResource creation Initiated\u001b[22m\u001b[39m\n",
      "SdOnEKSStack |   6/173 | 4:57:26 AM | \u001b[0mCREATE_IN_PROGRESS  \u001b[0m | AWS::EC2::Subnet                      | \u001b[0m\u001b[1mSdOnEKSStack-vpc/PublicSubnet2/Subnet\u001b[22m\u001b[0m (SdOnEKSStackvpcPublicSubnet2SubnetFAFE0577) \u001b[36m\u001b[1mResource creation Initiated\u001b[22m\u001b[39m\n",
      "SdOnEKSStack |   6/173 | 4:57:27 AM | \u001b[0mCREATE_IN_PROGRESS  \u001b[0m | AWS::EC2::RouteTable                  | \u001b[0m\u001b[1mSdOnEKSStack-vpc/PublicSubnet1/RouteTable\u001b[22m\u001b[0m (SdOnEKSStackvpcPublicSubnet1RouteTable180D1058) \u001b[36m\u001b[1mResource creation Initiated\u001b[22m\u001b[39m\n",
      "SdOnEKSStack |   6/173 | 4:57:27 AM | \u001b[0mCREATE_IN_PROGRESS  \u001b[0m | AWS::EC2::Subnet                      | \u001b[0m\u001b[1mSdOnEKSStack-vpc/PublicSubnet1/Subnet\u001b[22m\u001b[0m (SdOnEKSStackvpcPublicSubnet1Subnet330E5EF9) \u001b[36m\u001b[1mResource creation Initiated\u001b[22m\u001b[39m\n",
      "SdOnEKSStack |   6/173 | 4:57:27 AM | \u001b[0mCREATE_IN_PROGRESS  \u001b[0m | AWS::EC2::RouteTable                  | \u001b[0m\u001b[1mSdOnEKSStack-vpc/PublicSubnet3/RouteTable\u001b[22m\u001b[0m (SdOnEKSStackvpcPublicSubnet3RouteTable6246D6F9) \u001b[36m\u001b[1mResource creation Initiated\u001b[22m\u001b[39m\n",
      "SdOnEKSStack |   6/173 | 4:57:27 AM | \u001b[0mCREATE_IN_PROGRESS  \u001b[0m | AWS::EC2::RouteTable                  | \u001b[0m\u001b[1mSdOnEKSStack-vpc/PrivateSubnet1/RouteTable\u001b[22m\u001b[0m (SdOnEKSStackvpcPrivateSubnet1RouteTable1964853E) \u001b[36m\u001b[1mResource creation Initiated\u001b[22m\u001b[39m\n",
      "SdOnEKSStack |   6/173 | 4:57:27 AM | \u001b[0mCREATE_IN_PROGRESS  \u001b[0m | AWS::EC2::Subnet                      | \u001b[0m\u001b[1mSdOnEKSStack-vpc/PrivateSubnet1/Subnet\u001b[22m\u001b[0m (SdOnEKSStackvpcPrivateSubnet1SubnetD46529C8) \u001b[36m\u001b[1mResource creation Initiated\u001b[22m\u001b[39m\n",
      "SdOnEKSStack |   6/173 | 4:57:27 AM | \u001b[0mCREATE_IN_PROGRESS  \u001b[0m | AWS::EC2::Subnet                      | \u001b[0m\u001b[1mSdOnEKSStack-vpc/PrivateSubnet2/Subnet\u001b[22m\u001b[0m (SdOnEKSStackvpcPrivateSubnet2Subnet30667EA0) \u001b[36m\u001b[1mResource creation Initiated\u001b[22m\u001b[39m\n",
      "SdOnEKSStack |   6/173 | 4:57:27 AM | \u001b[0mCREATE_IN_PROGRESS  \u001b[0m | AWS::EC2::RouteTable                  | \u001b[0m\u001b[1mSdOnEKSStack-vpc/PublicSubnet2/RouteTable\u001b[22m\u001b[0m (SdOnEKSStackvpcPublicSubnet2RouteTableD478DCBF) \u001b[36m\u001b[1mResource creation Initiated\u001b[22m\u001b[39m\n",
      "SdOnEKSStack |   6/173 | 4:57:27 AM | \u001b[0mCREATE_IN_PROGRESS  \u001b[0m | AWS::IAM::Role                        | \u001b[0m\u001b[1mCustom::VpcRestrictDefaultSGCustomResourceProvider/Role\u001b[22m\u001b[0m (CustomVpcRestrictDefaultSGCustomResourceProviderRole26592FE0) \u001b[36m\u001b[1mResource creation Initiated\u001b[22m\u001b[39m\n",
      "SdOnEKSStack |   7/173 | 4:57:28 AM | \u001b[32mCREATE_COMPLETE     \u001b[39m | AWS::EC2::InternetGateway             | \u001b[32m\u001b[1mSdOnEKSStack-vpc/IGW\u001b[22m\u001b[39m (SdOnEKSStackvpcIGWE9EB7903) \n",
      "SdOnEKSStack |   8/173 | 4:57:28 AM | \u001b[32mCREATE_COMPLETE     \u001b[39m | AWS::EC2::EIP                         | \u001b[32m\u001b[1mSdOnEKSStack-vpc/PublicSubnet3/EIP\u001b[22m\u001b[39m (SdOnEKSStackvpcPublicSubnet3EIPFF9009E2) \n",
      "SdOnEKSStack |   9/173 | 4:57:28 AM | \u001b[32mCREATE_COMPLETE     \u001b[39m | AWS::EC2::EIP                         | \u001b[32m\u001b[1mSdOnEKSStack-vpc/PublicSubnet1/EIP\u001b[22m\u001b[39m (SdOnEKSStackvpcPublicSubnet1EIPE4889155) \n",
      "SdOnEKSStack |  10/173 | 4:57:28 AM | \u001b[32mCREATE_COMPLETE     \u001b[39m | AWS::EC2::EIP                         | \u001b[32m\u001b[1mSdOnEKSStack-vpc/PublicSubnet2/EIP\u001b[22m\u001b[39m (SdOnEKSStackvpcPublicSubnet2EIPF04A3963) \n",
      "SdOnEKSStack |  10/173 | 4:57:28 AM | \u001b[0mCREATE_IN_PROGRESS  \u001b[0m | AWS::EC2::Subnet                      | \u001b[0m\u001b[1mSdOnEKSStack-vpc/PrivateSubnet3/Subnet\u001b[22m\u001b[0m (SdOnEKSStackvpcPrivateSubnet3SubnetAB14DA99) \u001b[36m\u001b[1mResource creation Initiated\u001b[22m\u001b[39m\n",
      "SdOnEKSStack |  10/173 | 4:57:28 AM | \u001b[0mCREATE_IN_PROGRESS  \u001b[0m | AWS::EC2::VPCGatewayAttachment        | \u001b[0m\u001b[1mSdOnEKSStack-vpc/VPCGW\u001b[22m\u001b[0m (SdOnEKSStackvpcVPCGW9277E293) \n",
      "SdOnEKSStack |  10/173 | 4:57:29 AM | \u001b[0mCREATE_IN_PROGRESS  \u001b[0m | AWS::EC2::VPCGatewayAttachment        | \u001b[0m\u001b[1mSdOnEKSStack-vpc/VPCGW\u001b[22m\u001b[0m (SdOnEKSStackvpcVPCGW9277E293) \u001b[36m\u001b[1mResource creation Initiated\u001b[22m\u001b[39m\n",
      "SdOnEKSStack |  11/173 | 4:57:29 AM | \u001b[32mCREATE_COMPLETE     \u001b[39m | AWS::EC2::Subnet                      | \u001b[32m\u001b[1mSdOnEKSStack-vpc/PublicSubnet3/Subnet\u001b[22m\u001b[39m (SdOnEKSStackvpcPublicSubnet3Subnet83B0EE6F) \n",
      "SdOnEKSStack |  12/173 | 4:57:29 AM | \u001b[32mCREATE_COMPLETE     \u001b[39m | AWS::EC2::Subnet                      | \u001b[32m\u001b[1mSdOnEKSStack-vpc/PublicSubnet2/Subnet\u001b[22m\u001b[39m (SdOnEKSStackvpcPublicSubnet2SubnetFAFE0577) \n",
      "SdOnEKSStack |  13/173 | 4:57:29 AM | \u001b[32mCREATE_COMPLETE     \u001b[39m | AWS::IAM::Role                        | \u001b[32m\u001b[1mEbsThroughputTunerStateMachine/EventsRole\u001b[22m\u001b[39m (EbsThroughputTunerStateMachineEventsRole52973A85) \n",
      "SdOnEKSStack |  14/173 | 4:57:29 AM | \u001b[32mCREATE_COMPLETE     \u001b[39m | AWS::IAM::Role                        | \u001b[32m\u001b[1mInputLambda/ServiceRole\u001b[22m\u001b[39m (InputLambdaServiceRole4E05AD7C) \n",
      "SdOnEKSStack |  15/173 | 4:57:29 AM | \u001b[32mCREATE_COMPLETE     \u001b[39m | AWS::IAM::Role                        | \u001b[32m\u001b[1mSchedulerRole\u001b[22m\u001b[39m (SchedulerRole59E73443) \n",
      "SdOnEKSStack |  16/173 | 4:57:29 AM | \u001b[32mCREATE_COMPLETE     \u001b[39m | AWS::IAM::Role                        | \u001b[32m\u001b[1mDataSyncS3Role\u001b[22m\u001b[39m (DataSyncS3RoleDD8CBD03) \n",
      "SdOnEKSStack |  17/173 | 4:57:29 AM | \u001b[32mCREATE_COMPLETE     \u001b[39m | AWS::IAM::Role                        | \u001b[32m\u001b[1mEbsThroughputTunerLambda/ServiceRole\u001b[22m\u001b[39m (EbsThroughputTunerLambdaServiceRoleC323D626) \n",
      "SdOnEKSStack |  18/173 | 4:57:29 AM | \u001b[32mCREATE_COMPLETE     \u001b[39m | AWS::IAM::Role                        | \u001b[32m\u001b[1mSdOnEKSStack-AccessRole\u001b[22m\u001b[39m (SdOnEKSStackAccessRole9650AD2D) \n",
      "SdOnEKSStack |  19/173 | 4:57:29 AM | \u001b[32mCREATE_COMPLETE     \u001b[39m | AWS::IAM::Role                        | \u001b[32m\u001b[1mAWSCDKCfnUtilsProviderCustomResourceProvider/Role\u001b[22m\u001b[39m (AWSCDKCfnUtilsProviderCustomResourceProviderRoleFE0EE867) \n",
      "SdOnEKSStack |  20/173 | 4:57:30 AM | \u001b[32mCREATE_COMPLETE     \u001b[39m | AWS::EC2::Subnet                      | \u001b[32m\u001b[1mSdOnEKSStack-vpc/PrivateSubnet2/Subnet\u001b[22m\u001b[39m (SdOnEKSStackvpcPrivateSubnet2Subnet30667EA0) \n",
      "SdOnEKSStack |  21/173 | 4:57:30 AM | \u001b[32mCREATE_COMPLETE     \u001b[39m | AWS::IAM::Role                        | \u001b[32m\u001b[1mEbsThroughputTunerStateMachine/Role\u001b[22m\u001b[39m (EbsThroughputTunerStateMachineRoleB49F74B5) \n",
      "SdOnEKSStack |  22/173 | 4:57:30 AM | \u001b[32mCREATE_COMPLETE     \u001b[39m | AWS::EC2::Subnet                      | \u001b[32m\u001b[1mSdOnEKSStack-vpc/PrivateSubnet1/Subnet\u001b[22m\u001b[39m (SdOnEKSStackvpcPrivateSubnet1SubnetD46529C8) \n",
      "SdOnEKSStack |  23/173 | 4:57:30 AM | \u001b[32mCREATE_COMPLETE     \u001b[39m | AWS::EC2::Subnet                      | \u001b[32m\u001b[1mSdOnEKSStack-vpc/PublicSubnet1/Subnet\u001b[22m\u001b[39m (SdOnEKSStackvpcPublicSubnet1Subnet330E5EF9) \n",
      "SdOnEKSStack |  24/173 | 4:57:30 AM | \u001b[32mCREATE_COMPLETE     \u001b[39m | AWS::IAM::Role                        | \u001b[32m\u001b[1mCustom::AWSCDKOpenIdConnectProviderCustomResourceProvider/Role\u001b[22m\u001b[39m (CustomAWSCDKOpenIdConnectProviderCustomResourceProviderRole517FED65) \n",
      "SdOnEKSStack |  24/173 | 4:57:30 AM | \u001b[0mCREATE_IN_PROGRESS  \u001b[0m | AWS::IAM::Policy                      | \u001b[0m\u001b[1mInputLambda/ServiceRole/DefaultPolicy\u001b[22m\u001b[0m (InputLambdaServiceRoleDefaultPolicy9708E6F3) \n",
      "SdOnEKSStack |  24/173 | 4:57:30 AM | \u001b[0mCREATE_IN_PROGRESS  \u001b[0m | AWS::IAM::Policy                      | \u001b[0m\u001b[1mDataSyncS3Role/DefaultPolicy\u001b[22m\u001b[0m (DataSyncS3RoleDefaultPolicyD545A9B8) \n",
      "SdOnEKSStack |  25/173 | 4:57:31 AM | \u001b[32mCREATE_COMPLETE     \u001b[39m | AWS::EC2::Subnet                      | \u001b[32m\u001b[1mSdOnEKSStack-vpc/PrivateSubnet3/Subnet\u001b[22m\u001b[39m (SdOnEKSStackvpcPrivateSubnet3SubnetAB14DA99) \n",
      "SdOnEKSStack |  25/173 | 4:57:31 AM | \u001b[0mCREATE_IN_PROGRESS  \u001b[0m | AWS::Lambda::Function                 | \u001b[0m\u001b[1mEbsThroughputTunerLambda\u001b[22m\u001b[0m (EbsThroughputTunerLambda8398462B) \n",
      "SdOnEKSStack |  25/173 | 4:57:31 AM | \u001b[0mCREATE_IN_PROGRESS  \u001b[0m | AWS::Lambda::Function                 | \u001b[0m\u001b[1mAWSCDKCfnUtilsProviderCustomResourceProvider/Handler\u001b[22m\u001b[0m (AWSCDKCfnUtilsProviderCustomResourceProviderHandlerCF82AA57) \n",
      "SdOnEKSStack |  25/173 | 4:57:31 AM | \u001b[0mCREATE_IN_PROGRESS  \u001b[0m | AWS::IAM::Policy                      | \u001b[0m\u001b[1mInputLambda/ServiceRole/DefaultPolicy\u001b[22m\u001b[0m (InputLambdaServiceRoleDefaultPolicy9708E6F3) \u001b[36m\u001b[1mResource creation Initiated\u001b[22m\u001b[39m\n",
      "SdOnEKSStack |  25/173 | 4:57:31 AM | \u001b[0mCREATE_IN_PROGRESS  \u001b[0m | AWS::Lambda::Function                 | \u001b[0m\u001b[1mCustom::AWSCDKOpenIdConnectProviderCustomResourceProvider/Handler\u001b[22m\u001b[0m (CustomAWSCDKOpenIdConnectProviderCustomResourceProviderHandlerF2C543E0) \n",
      "SdOnEKSStack |  25/173 | 4:57:31 AM | \u001b[0mCREATE_IN_PROGRESS  \u001b[0m | AWS::IAM::Policy                      | \u001b[0m\u001b[1mDataSyncS3Role/DefaultPolicy\u001b[22m\u001b[0m (DataSyncS3RoleDefaultPolicyD545A9B8) \u001b[36m\u001b[1mResource creation Initiated\u001b[22m\u001b[39m\n",
      "SdOnEKSStack |  25/173 | 4:57:31 AM | \u001b[0mCREATE_IN_PROGRESS  \u001b[0m | AWS::EC2::SecurityGroup               | \u001b[0m\u001b[1mSdOnEKSStack-efs-model-storage-EfsSecurityGroup\u001b[22m\u001b[0m (SdOnEKSStackefsmodelstorageEfsSecurityGroup6D6AA9D3) \u001b[36m\u001b[1mResource creation Initiated\u001b[22m\u001b[39m\n",
      "SdOnEKSStack |  25/173 | 4:57:32 AM | \u001b[0mCREATE_IN_PROGRESS  \u001b[0m | AWS::Lambda::Function                 | \u001b[0m\u001b[1mEbsThroughputTunerLambda\u001b[22m\u001b[0m (EbsThroughputTunerLambda8398462B) \u001b[36m\u001b[1mResource creation Initiated\u001b[22m\u001b[39m\n",
      "SdOnEKSStack |  25/173 | 4:57:32 AM | \u001b[0mCREATE_IN_PROGRESS  \u001b[0m | AWS::Lambda::Function                 | \u001b[0m\u001b[1mAWSCDKCfnUtilsProviderCustomResourceProvider/Handler\u001b[22m\u001b[0m (AWSCDKCfnUtilsProviderCustomResourceProviderHandlerCF82AA57) \u001b[36m\u001b[1mResource creation Initiated\u001b[22m\u001b[39m\n",
      "SdOnEKSStack |  26/173 | 4:57:32 AM | \u001b[32mCREATE_COMPLETE     \u001b[39m | AWS::S3::Bucket                       | \u001b[32m\u001b[1moutputS3Bucket\u001b[22m\u001b[39m (outputS3Bucket9FE85B9F) \n",
      "SdOnEKSStack |  27/173 | 4:57:32 AM | \u001b[32mCREATE_COMPLETE     \u001b[39m | AWS::EC2::SecurityGroup               | \u001b[32m\u001b[1mSdOnEKSStack-efs-model-storage-EfsSecurityGroup\u001b[22m\u001b[39m (SdOnEKSStackefsmodelstorageEfsSecurityGroup6D6AA9D3) \n",
      "SdOnEKSStack |  27/173 | 4:57:32 AM | \u001b[0mCREATE_IN_PROGRESS  \u001b[0m | AWS::Lambda::Function                 | \u001b[0m\u001b[1mCustom::AWSCDKOpenIdConnectProviderCustomResourceProvider/Handler\u001b[22m\u001b[0m (CustomAWSCDKOpenIdConnectProviderCustomResourceProviderHandlerF2C543E0) \u001b[36m\u001b[1mResource creation Initiated\u001b[22m\u001b[39m\n",
      "SdOnEKSStack |  27/173 | 4:57:33 AM | \u001b[0mCREATE_IN_PROGRESS  \u001b[0m | AWS::EFS::MountTarget                 | \u001b[0m\u001b[1mefs-model-storage/EfsMountTarget1\u001b[22m\u001b[0m (efsmodelstorageEfsMountTarget1672DF8AA) \n",
      "SdOnEKSStack |  27/173 | 4:57:33 AM | \u001b[0mCREATE_IN_PROGRESS  \u001b[0m | AWS::EFS::MountTarget                 | \u001b[0m\u001b[1mefs-model-storage/EfsMountTarget3\u001b[22m\u001b[0m (efsmodelstorageEfsMountTarget31DE5DED0) \n",
      "SdOnEKSStack |  27/173 | 4:57:33 AM | \u001b[0mCREATE_IN_PROGRESS  \u001b[0m | AWS::EFS::MountTarget                 | \u001b[0m\u001b[1mefs-model-storage/EfsMountTarget2\u001b[22m\u001b[0m (efsmodelstorageEfsMountTarget24CC3E986) \n",
      "SdOnEKSStack |  27/173 | 4:57:34 AM | \u001b[0mCREATE_IN_PROGRESS  \u001b[0m | AWS::EFS::MountTarget                 | \u001b[0m\u001b[1mefs-model-storage/EfsMountTarget2\u001b[22m\u001b[0m (efsmodelstorageEfsMountTarget24CC3E986) \u001b[36m\u001b[1mResource creation Initiated\u001b[22m\u001b[39m\n",
      "SdOnEKSStack |  27/173 | 4:57:35 AM | \u001b[0mCREATE_IN_PROGRESS  \u001b[0m | AWS::EFS::MountTarget                 | \u001b[0m\u001b[1mefs-model-storage/EfsMountTarget1\u001b[22m\u001b[0m (efsmodelstorageEfsMountTarget1672DF8AA) \u001b[36m\u001b[1mResource creation Initiated\u001b[22m\u001b[39m\n",
      "SdOnEKSStack |  27/173 | 4:57:35 AM | \u001b[0mCREATE_IN_PROGRESS  \u001b[0m | AWS::EFS::MountTarget                 | \u001b[0m\u001b[1mefs-model-storage/EfsMountTarget3\u001b[22m\u001b[0m (efsmodelstorageEfsMountTarget31DE5DED0) \u001b[36m\u001b[1mResource creation Initiated\u001b[22m\u001b[39m\n",
      "SdOnEKSStack |  28/173 | 4:57:37 AM | \u001b[32mCREATE_COMPLETE     \u001b[39m | AWS::EC2::RouteTable                  | \u001b[32m\u001b[1mSdOnEKSStack-vpc/PrivateSubnet3/RouteTable\u001b[22m\u001b[39m (SdOnEKSStackvpcPrivateSubnet3RouteTable872EFC4D) \n",
      "SdOnEKSStack |  29/173 | 4:57:37 AM | \u001b[32mCREATE_COMPLETE     \u001b[39m | AWS::EC2::RouteTable                  | \u001b[32m\u001b[1mSdOnEKSStack-vpc/PrivateSubnet2/RouteTable\u001b[22m\u001b[39m (SdOnEKSStackvpcPrivateSubnet2RouteTableAA23A95C) \n",
      "SdOnEKSStack |  30/173 | 4:57:37 AM | \u001b[32mCREATE_COMPLETE     \u001b[39m | AWS::EC2::RouteTable                  | \u001b[32m\u001b[1mSdOnEKSStack-vpc/PublicSubnet1/RouteTable\u001b[22m\u001b[39m (SdOnEKSStackvpcPublicSubnet1RouteTable180D1058) \n",
      "SdOnEKSStack |  30/173 | 4:57:37 AM | \u001b[0mCREATE_IN_PROGRESS  \u001b[0m | AWS::EC2::SubnetRouteTableAssociation | \u001b[0m\u001b[1mSdOnEKSStack-vpc/PrivateSubnet3/RouteTableAssociation\u001b[22m\u001b[0m (SdOnEKSStackvpcPrivateSubnet3RouteTableAssociationDD46BA67) \n",
      "SdOnEKSStack |  31/173 | 4:57:37 AM | \u001b[32mCREATE_COMPLETE     \u001b[39m | AWS::EC2::RouteTable                  | \u001b[32m\u001b[1mSdOnEKSStack-vpc/PrivateSubnet1/RouteTable\u001b[22m\u001b[39m (SdOnEKSStackvpcPrivateSubnet1RouteTable1964853E) \n",
      "SdOnEKSStack |  32/173 | 4:57:37 AM | \u001b[32mCREATE_COMPLETE     \u001b[39m | AWS::EC2::RouteTable                  | \u001b[32m\u001b[1mSdOnEKSStack-vpc/PublicSubnet3/RouteTable\u001b[22m\u001b[39m (SdOnEKSStackvpcPublicSubnet3RouteTable6246D6F9) \n",
      "SdOnEKSStack |  33/173 | 4:57:38 AM | \u001b[32mCREATE_COMPLETE     \u001b[39m | AWS::EC2::RouteTable                  | \u001b[32m\u001b[1mSdOnEKSStack-vpc/PublicSubnet2/RouteTable\u001b[22m\u001b[39m (SdOnEKSStackvpcPublicSubnet2RouteTableD478DCBF) \n",
      "SdOnEKSStack |  34/173 | 4:57:38 AM | \u001b[32mCREATE_COMPLETE     \u001b[39m | AWS::Lambda::Function                 | \u001b[32m\u001b[1mEbsThroughputTunerLambda\u001b[22m\u001b[39m (EbsThroughputTunerLambda8398462B) \n",
      "SdOnEKSStack |  34/173 | 4:57:38 AM | \u001b[0mCREATE_IN_PROGRESS  \u001b[0m | AWS::EC2::SubnetRouteTableAssociation | \u001b[0m\u001b[1mSdOnEKSStack-vpc/PrivateSubnet2/RouteTableAssociation\u001b[22m\u001b[0m (SdOnEKSStackvpcPrivateSubnet2RouteTableAssociation1997CFF1) \n",
      "SdOnEKSStack |  35/173 | 4:57:38 AM | \u001b[32mCREATE_COMPLETE     \u001b[39m | AWS::Lambda::Function                 | \u001b[32m\u001b[1mAWSCDKCfnUtilsProviderCustomResourceProvider/Handler\u001b[22m\u001b[39m (AWSCDKCfnUtilsProviderCustomResourceProviderHandlerCF82AA57) \n",
      "SdOnEKSStack |  35/173 | 4:57:38 AM | \u001b[0mCREATE_IN_PROGRESS  \u001b[0m | AWS::EC2::SubnetRouteTableAssociation | \u001b[0m\u001b[1mSdOnEKSStack-vpc/PublicSubnet1/RouteTableAssociation\u001b[22m\u001b[0m (SdOnEKSStackvpcPublicSubnet1RouteTableAssociation47E1EF15) \n",
      "SdOnEKSStack |  36/173 | 4:57:38 AM | \u001b[32mCREATE_COMPLETE     \u001b[39m | AWS::Lambda::Function                 | \u001b[32m\u001b[1mCustom::AWSCDKOpenIdConnectProviderCustomResourceProvider/Handler\u001b[22m\u001b[39m (CustomAWSCDKOpenIdConnectProviderCustomResourceProviderHandlerF2C543E0) \n",
      "SdOnEKSStack |  36/173 | 4:57:38 AM | \u001b[0mCREATE_IN_PROGRESS  \u001b[0m | AWS::EC2::SubnetRouteTableAssociation | \u001b[0m\u001b[1mSdOnEKSStack-vpc/PrivateSubnet1/RouteTableAssociation\u001b[22m\u001b[0m (SdOnEKSStackvpcPrivateSubnet1RouteTableAssociation167BB4B4) \n",
      "SdOnEKSStack |  36/173 | 4:57:38 AM | \u001b[0mCREATE_IN_PROGRESS  \u001b[0m | AWS::EC2::SubnetRouteTableAssociation | \u001b[0m\u001b[1mSdOnEKSStack-vpc/PublicSubnet3/RouteTableAssociation\u001b[22m\u001b[0m (SdOnEKSStackvpcPublicSubnet3RouteTableAssociationB74CB035) \n",
      "SdOnEKSStack |  36/173 | 4:57:38 AM | \u001b[0mCREATE_IN_PROGRESS  \u001b[0m | AWS::EC2::SubnetRouteTableAssociation | \u001b[0m\u001b[1mSdOnEKSStack-vpc/PublicSubnet2/RouteTableAssociation\u001b[22m\u001b[0m (SdOnEKSStackvpcPublicSubnet2RouteTableAssociation2FEA7FEB) \n",
      "SdOnEKSStack |  36/173 | 4:57:39 AM | \u001b[0mCREATE_IN_PROGRESS  \u001b[0m | AWS::IAM::Policy                      | \u001b[0m\u001b[1mEbsThroughputTunerStateMachine/Role/DefaultPolicy\u001b[22m\u001b[0m (EbsThroughputTunerStateMachineRoleDefaultPolicyB0DBC9A2) \n",
      "SdOnEKSStack |  36/173 | 4:57:39 AM | \u001b[0mCREATE_IN_PROGRESS  \u001b[0m | AWS::EC2::SubnetRouteTableAssociation | \u001b[0m\u001b[1mSdOnEKSStack-vpc/PrivateSubnet3/RouteTableAssociation\u001b[22m\u001b[0m (SdOnEKSStackvpcPrivateSubnet3RouteTableAssociationDD46BA67) \u001b[36m\u001b[1mResource creation Initiated\u001b[22m\u001b[39m\n",
      "SdOnEKSStack |  37/173 | 4:57:39 AM | \u001b[32mCREATE_COMPLETE     \u001b[39m | AWS::EC2::SubnetRouteTableAssociation | \u001b[32m\u001b[1mSdOnEKSStack-vpc/PrivateSubnet3/RouteTableAssociation\u001b[22m\u001b[39m (SdOnEKSStackvpcPrivateSubnet3RouteTableAssociationDD46BA67) \n",
      "SdOnEKSStack |  37/173 | 4:57:39 AM | \u001b[0mCREATE_IN_PROGRESS  \u001b[0m | AWS::EC2::SubnetRouteTableAssociation | \u001b[0m\u001b[1mSdOnEKSStack-vpc/PrivateSubnet2/RouteTableAssociation\u001b[22m\u001b[0m (SdOnEKSStackvpcPrivateSubnet2RouteTableAssociation1997CFF1) \u001b[36m\u001b[1mResource creation Initiated\u001b[22m\u001b[39m\n",
      "SdOnEKSStack |  37/173 | 4:57:39 AM | \u001b[0mCREATE_IN_PROGRESS  \u001b[0m | AWS::EC2::SubnetRouteTableAssociation | \u001b[0m\u001b[1mSdOnEKSStack-vpc/PublicSubnet1/RouteTableAssociation\u001b[22m\u001b[0m (SdOnEKSStackvpcPublicSubnet1RouteTableAssociation47E1EF15) \u001b[36m\u001b[1mResource creation Initiated\u001b[22m\u001b[39m\n",
      "SdOnEKSStack |  38/173 | 4:57:39 AM | \u001b[32mCREATE_COMPLETE     \u001b[39m | AWS::EC2::SubnetRouteTableAssociation | \u001b[32m\u001b[1mSdOnEKSStack-vpc/PublicSubnet1/RouteTableAssociation\u001b[22m\u001b[39m (SdOnEKSStackvpcPublicSubnet1RouteTableAssociation47E1EF15) \n",
      "SdOnEKSStack |  39/173 | 4:57:39 AM | \u001b[32mCREATE_COMPLETE     \u001b[39m | AWS::EC2::SubnetRouteTableAssociation | \u001b[32m\u001b[1mSdOnEKSStack-vpc/PrivateSubnet2/RouteTableAssociation\u001b[22m\u001b[39m (SdOnEKSStackvpcPrivateSubnet2RouteTableAssociation1997CFF1) \n",
      "SdOnEKSStack |  39/173 | 4:57:39 AM | \u001b[0mCREATE_IN_PROGRESS  \u001b[0m | AWS::EC2::SubnetRouteTableAssociation | \u001b[0m\u001b[1mSdOnEKSStack-vpc/PublicSubnet2/RouteTableAssociation\u001b[22m\u001b[0m (SdOnEKSStackvpcPublicSubnet2RouteTableAssociation2FEA7FEB) \u001b[36m\u001b[1mResource creation Initiated\u001b[22m\u001b[39m\n",
      "SdOnEKSStack |  39/173 | 4:57:40 AM | \u001b[0mCREATE_IN_PROGRESS  \u001b[0m | AWS::EC2::SubnetRouteTableAssociation | \u001b[0m\u001b[1mSdOnEKSStack-vpc/PrivateSubnet1/RouteTableAssociation\u001b[22m\u001b[0m (SdOnEKSStackvpcPrivateSubnet1RouteTableAssociation167BB4B4) \u001b[36m\u001b[1mResource creation Initiated\u001b[22m\u001b[39m\n",
      "SdOnEKSStack |  39/173 | 4:57:40 AM | \u001b[0mCREATE_IN_PROGRESS  \u001b[0m | AWS::EC2::SubnetRouteTableAssociation | \u001b[0m\u001b[1mSdOnEKSStack-vpc/PublicSubnet3/RouteTableAssociation\u001b[22m\u001b[0m (SdOnEKSStackvpcPublicSubnet3RouteTableAssociationB74CB035) \u001b[36m\u001b[1mResource creation Initiated\u001b[22m\u001b[39m\n",
      "SdOnEKSStack |  39/173 | 4:57:40 AM | \u001b[0mCREATE_IN_PROGRESS  \u001b[0m | AWS::IAM::Policy                      | \u001b[0m\u001b[1mEbsThroughputTunerStateMachine/Role/DefaultPolicy\u001b[22m\u001b[0m (EbsThroughputTunerStateMachineRoleDefaultPolicyB0DBC9A2) \u001b[36m\u001b[1mResource creation Initiated\u001b[22m\u001b[39m\n",
      "SdOnEKSStack |  40/173 | 4:57:40 AM | \u001b[32mCREATE_COMPLETE     \u001b[39m | AWS::EC2::SubnetRouteTableAssociation | \u001b[32m\u001b[1mSdOnEKSStack-vpc/PublicSubnet2/RouteTableAssociation\u001b[22m\u001b[39m (SdOnEKSStackvpcPublicSubnet2RouteTableAssociation2FEA7FEB) \n",
      "SdOnEKSStack |  41/173 | 4:57:40 AM | \u001b[32mCREATE_COMPLETE     \u001b[39m | AWS::EC2::SubnetRouteTableAssociation | \u001b[32m\u001b[1mSdOnEKSStack-vpc/PrivateSubnet1/RouteTableAssociation\u001b[22m\u001b[39m (SdOnEKSStackvpcPrivateSubnet1RouteTableAssociation167BB4B4) \n",
      "SdOnEKSStack |  42/173 | 4:57:40 AM | \u001b[32mCREATE_COMPLETE     \u001b[39m | AWS::EC2::SubnetRouteTableAssociation | \u001b[32m\u001b[1mSdOnEKSStack-vpc/PublicSubnet3/RouteTableAssociation\u001b[22m\u001b[39m (SdOnEKSStackvpcPublicSubnet3RouteTableAssociationB74CB035) \n",
      "SdOnEKSStack |  43/173 | 4:57:44 AM | \u001b[32mCREATE_COMPLETE     \u001b[39m | AWS::EC2::VPCGatewayAttachment        | \u001b[32m\u001b[1mSdOnEKSStack-vpc/VPCGW\u001b[22m\u001b[39m (SdOnEKSStackvpcVPCGW9277E293) \n",
      "SdOnEKSStack |  43/173 | 4:57:45 AM | \u001b[0mCREATE_IN_PROGRESS  \u001b[0m | AWS::EC2::Route                       | \u001b[0m\u001b[1mSdOnEKSStack-vpc/PublicSubnet2/DefaultRoute\u001b[22m\u001b[0m (SdOnEKSStackvpcPublicSubnet2DefaultRoute284303F4) \n",
      "SdOnEKSStack |  43/173 | 4:57:45 AM | \u001b[0mCREATE_IN_PROGRESS  \u001b[0m | AWS::EC2::Route                       | \u001b[0m\u001b[1mSdOnEKSStack-vpc/PublicSubnet1/DefaultRoute\u001b[22m\u001b[0m (SdOnEKSStackvpcPublicSubnet1DefaultRoute922F78A5) \n",
      "SdOnEKSStack |  43/173 | 4:57:45 AM | \u001b[0mCREATE_IN_PROGRESS  \u001b[0m | AWS::EC2::Route                       | \u001b[0m\u001b[1mSdOnEKSStack-vpc/PublicSubnet3/DefaultRoute\u001b[22m\u001b[0m (SdOnEKSStackvpcPublicSubnet3DefaultRouteC10AB584) \n",
      "SdOnEKSStack |  44/173 | 4:57:45 AM | \u001b[32mCREATE_COMPLETE     \u001b[39m | AWS::IAM::Role                        | \u001b[32m\u001b[1mCustom::VpcRestrictDefaultSGCustomResourceProvider/Role\u001b[22m\u001b[39m (CustomVpcRestrictDefaultSGCustomResourceProviderRole26592FE0) \n",
      "SdOnEKSStack |  44/173 | 4:57:46 AM | \u001b[0mCREATE_IN_PROGRESS  \u001b[0m | AWS::EC2::Route                       | \u001b[0m\u001b[1mSdOnEKSStack-vpc/PublicSubnet2/DefaultRoute\u001b[22m\u001b[0m (SdOnEKSStackvpcPublicSubnet2DefaultRoute284303F4) \u001b[36m\u001b[1mResource creation Initiated\u001b[22m\u001b[39m\n",
      "SdOnEKSStack |  44/173 | 4:57:46 AM | \u001b[0mCREATE_IN_PROGRESS  \u001b[0m | AWS::EC2::Route                       | \u001b[0m\u001b[1mSdOnEKSStack-vpc/PublicSubnet1/DefaultRoute\u001b[22m\u001b[0m (SdOnEKSStackvpcPublicSubnet1DefaultRoute922F78A5) \u001b[36m\u001b[1mResource creation Initiated\u001b[22m\u001b[39m\n",
      "SdOnEKSStack |  44/173 | 4:57:46 AM | \u001b[0mCREATE_IN_PROGRESS  \u001b[0m | AWS::EC2::Route                       | \u001b[0m\u001b[1mSdOnEKSStack-vpc/PublicSubnet3/DefaultRoute\u001b[22m\u001b[0m (SdOnEKSStackvpcPublicSubnet3DefaultRouteC10AB584) \u001b[36m\u001b[1mResource creation Initiated\u001b[22m\u001b[39m\n",
      "SdOnEKSStack |  45/173 | 4:57:46 AM | \u001b[32mCREATE_COMPLETE     \u001b[39m | AWS::EC2::Route                       | \u001b[32m\u001b[1mSdOnEKSStack-vpc/PublicSubnet1/DefaultRoute\u001b[22m\u001b[39m (SdOnEKSStackvpcPublicSubnet1DefaultRoute922F78A5) \n",
      "SdOnEKSStack |  46/173 | 4:57:46 AM | \u001b[32mCREATE_COMPLETE     \u001b[39m | AWS::EC2::Route                       | \u001b[32m\u001b[1mSdOnEKSStack-vpc/PublicSubnet2/DefaultRoute\u001b[22m\u001b[39m (SdOnEKSStackvpcPublicSubnet2DefaultRoute284303F4) \n",
      "SdOnEKSStack |  47/173 | 4:57:46 AM | \u001b[32mCREATE_COMPLETE     \u001b[39m | AWS::EC2::Route                       | \u001b[32m\u001b[1mSdOnEKSStack-vpc/PublicSubnet3/DefaultRoute\u001b[22m\u001b[39m (SdOnEKSStackvpcPublicSubnet3DefaultRouteC10AB584) \n",
      "SdOnEKSStack |  47/173 | 4:57:46 AM | \u001b[0mCREATE_IN_PROGRESS  \u001b[0m | AWS::Lambda::Function                 | \u001b[0m\u001b[1mCustom::VpcRestrictDefaultSGCustomResourceProvider/Handler\u001b[22m\u001b[0m (CustomVpcRestrictDefaultSGCustomResourceProviderHandlerDC833E5E) \n",
      "SdOnEKSStack |  48/173 | 4:57:47 AM | \u001b[32mCREATE_COMPLETE     \u001b[39m | AWS::IAM::Policy                      | \u001b[32m\u001b[1mInputLambda/ServiceRole/DefaultPolicy\u001b[22m\u001b[39m (InputLambdaServiceRoleDefaultPolicy9708E6F3) \n",
      "SdOnEKSStack |  49/173 | 4:57:47 AM | \u001b[32mCREATE_COMPLETE     \u001b[39m | AWS::IAM::Policy                      | \u001b[32m\u001b[1mDataSyncS3Role/DefaultPolicy\u001b[22m\u001b[39m (DataSyncS3RoleDefaultPolicyD545A9B8) \n",
      "SdOnEKSStack |  49/173 | 4:57:47 AM | \u001b[0mCREATE_IN_PROGRESS  \u001b[0m | AWS::EC2::NatGateway                  | \u001b[0m\u001b[1mSdOnEKSStack-vpc/PublicSubnet1/NATGateway\u001b[22m\u001b[0m (SdOnEKSStackvpcPublicSubnet1NATGateway66B5CFAC) \n",
      "SdOnEKSStack |  49/173 | 4:57:47 AM | \u001b[0mCREATE_IN_PROGRESS  \u001b[0m | AWS::EC2::NatGateway                  | \u001b[0m\u001b[1mSdOnEKSStack-vpc/PublicSubnet2/NATGateway\u001b[22m\u001b[0m (SdOnEKSStackvpcPublicSubnet2NATGateway15F7D88D) \n",
      "SdOnEKSStack |  49/173 | 4:57:47 AM | \u001b[0mCREATE_IN_PROGRESS  \u001b[0m | AWS::EC2::NatGateway                  | \u001b[0m\u001b[1mSdOnEKSStack-vpc/PublicSubnet3/NATGateway\u001b[22m\u001b[0m (SdOnEKSStackvpcPublicSubnet3NATGateway04C703E4) \n",
      "SdOnEKSStack |  49/173 | 4:57:47 AM | \u001b[0mCREATE_IN_PROGRESS  \u001b[0m | AWS::Lambda::Function                 | \u001b[0m\u001b[1mCustom::VpcRestrictDefaultSGCustomResourceProvider/Handler\u001b[22m\u001b[0m (CustomVpcRestrictDefaultSGCustomResourceProviderHandlerDC833E5E) \u001b[36m\u001b[1mResource creation Initiated\u001b[22m\u001b[39m\n",
      "SdOnEKSStack |  49/173 | 4:57:48 AM | \u001b[0mCREATE_IN_PROGRESS  \u001b[0m | AWS::Lambda::Function                 | \u001b[0m\u001b[1mInputLambda\u001b[22m\u001b[0m (InputLambda695C9911) \n",
      "SdOnEKSStack |  49/173 | 4:57:48 AM | \u001b[0mCREATE_IN_PROGRESS  \u001b[0m | AWS::DataSync::LocationS3             | \u001b[0m\u001b[1mSrcLocationS3\u001b[22m\u001b[0m \n",
      "SdOnEKSStack |  49/173 | 4:57:48 AM | \u001b[0mCREATE_IN_PROGRESS  \u001b[0m | AWS::EC2::NatGateway                  | \u001b[0m\u001b[1mSdOnEKSStack-vpc/PublicSubnet1/NATGateway\u001b[22m\u001b[0m (SdOnEKSStackvpcPublicSubnet1NATGateway66B5CFAC) \u001b[36m\u001b[1mResource creation Initiated\u001b[22m\u001b[39m\n",
      "SdOnEKSStack |  49/173 | 4:57:48 AM | \u001b[0mCREATE_IN_PROGRESS  \u001b[0m | AWS::EC2::NatGateway                  | \u001b[0m\u001b[1mSdOnEKSStack-vpc/PublicSubnet2/NATGateway\u001b[22m\u001b[0m (SdOnEKSStackvpcPublicSubnet2NATGateway15F7D88D) \u001b[36m\u001b[1mResource creation Initiated\u001b[22m\u001b[39m\n",
      "SdOnEKSStack |  49/173 | 4:57:48 AM | \u001b[0mCREATE_IN_PROGRESS  \u001b[0m | AWS::EC2::NatGateway                  | \u001b[0m\u001b[1mSdOnEKSStack-vpc/PublicSubnet3/NATGateway\u001b[22m\u001b[0m (SdOnEKSStackvpcPublicSubnet3NATGateway04C703E4) \u001b[36m\u001b[1mResource creation Initiated\u001b[22m\u001b[39m\n",
      "SdOnEKSStack |  49/173 | 4:57:49 AM | \u001b[0mCREATE_IN_PROGRESS  \u001b[0m | AWS::Lambda::Function                 | \u001b[0m\u001b[1mInputLambda\u001b[22m\u001b[0m (InputLambda695C9911) \u001b[36m\u001b[1mResource creation Initiated\u001b[22m\u001b[39m\n",
      "SdOnEKSStack |  49/173 | 4:57:50 AM | \u001b[0mCREATE_IN_PROGRESS  \u001b[0m | AWS::DataSync::LocationS3             | \u001b[0m\u001b[1mSrcLocationS3\u001b[22m\u001b[0m \u001b[36m\u001b[1mResource creation Initiated\u001b[22m\u001b[39m\n",
      "SdOnEKSStack |  50/173 | 4:57:50 AM | \u001b[32mCREATE_COMPLETE     \u001b[39m | AWS::DataSync::LocationS3             | \u001b[32m\u001b[1mSrcLocationS3\u001b[22m\u001b[39m \n",
      "SdOnEKSStack |  51/173 | 4:57:53 AM | \u001b[32mCREATE_COMPLETE     \u001b[39m | AWS::Lambda::Function                 | \u001b[32m\u001b[1mCustom::VpcRestrictDefaultSGCustomResourceProvider/Handler\u001b[22m\u001b[39m (CustomVpcRestrictDefaultSGCustomResourceProviderHandlerDC833E5E) \n",
      "SdOnEKSStack |  51/173 | 4:57:54 AM | \u001b[0mCREATE_IN_PROGRESS  \u001b[0m | Custom::VpcRestrictDefaultSG          | \u001b[0m\u001b[1mSdOnEKSStack-vpc/RestrictDefaultSecurityGroupCustomResource/Default\u001b[22m\u001b[0m (SdOnEKSStackvpcRestrictDefaultSecurityGroupCustomResourceAD637FB2) \n",
      "SdOnEKSStack |  52/173 | 4:57:55 AM | \u001b[32mCREATE_COMPLETE     \u001b[39m | AWS::Lambda::Function                 | \u001b[32m\u001b[1mInputLambda\u001b[22m\u001b[39m (InputLambda695C9911) \n",
      "SdOnEKSStack |  52/173 | 4:57:55 AM | \u001b[0mCREATE_IN_PROGRESS  \u001b[0m | AWS::IAM::Role                        | \u001b[0m\u001b[1mFrontApi/CloudWatchRole\u001b[22m\u001b[0m (FrontApiCloudWatchRole0C975A8F) \n",
      "SdOnEKSStack |  52/173 | 4:57:55 AM | \u001b[0mCREATE_IN_PROGRESS  \u001b[0m | AWS::ApiGateway::RestApi              | \u001b[0m\u001b[1mFrontApi\u001b[22m\u001b[0m (FrontApiA93361AF) \n",
      "SdOnEKSStack |  53/173 | 4:57:55 AM | \u001b[32mCREATE_COMPLETE     \u001b[39m | AWS::IAM::Policy                      | \u001b[32m\u001b[1mEbsThroughputTunerStateMachine/Role/DefaultPolicy\u001b[22m\u001b[39m (EbsThroughputTunerStateMachineRoleDefaultPolicyB0DBC9A2) \n",
      "SdOnEKSStack |  53/173 | 4:57:56 AM | \u001b[0mCREATE_IN_PROGRESS  \u001b[0m | AWS::IAM::Role                        | \u001b[0m\u001b[1mFrontApi/CloudWatchRole\u001b[22m\u001b[0m (FrontApiCloudWatchRole0C975A8F) \u001b[36m\u001b[1mResource creation Initiated\u001b[22m\u001b[39m\n",
      "SdOnEKSStack |  53/173 | 4:57:56 AM | \u001b[0mCREATE_IN_PROGRESS  \u001b[0m | AWS::StepFunctions::StateMachine      | \u001b[0m\u001b[1mEbsThroughputTunerStateMachine\u001b[22m\u001b[0m (EbsThroughputTunerStateMachine98E177D1) \n",
      "SdOnEKSStack |  53/173 | 4:57:56 AM | \u001b[0mCREATE_IN_PROGRESS  \u001b[0m | AWS::ApiGateway::RestApi              | \u001b[0m\u001b[1mFrontApi\u001b[22m\u001b[0m (FrontApiA93361AF) \u001b[36m\u001b[1mResource creation Initiated\u001b[22m\u001b[39m\n",
      "SdOnEKSStack |  54/173 | 4:57:57 AM | \u001b[32mCREATE_COMPLETE     \u001b[39m | AWS::ApiGateway::RestApi              | \u001b[32m\u001b[1mFrontApi\u001b[22m\u001b[39m (FrontApiA93361AF) \n",
      "SdOnEKSStack |  54/173 | 4:57:57 AM | \u001b[0mCREATE_IN_PROGRESS  \u001b[0m | AWS::StepFunctions::StateMachine      | \u001b[0m\u001b[1mEbsThroughputTunerStateMachine\u001b[22m\u001b[0m (EbsThroughputTunerStateMachine98E177D1) \u001b[36m\u001b[1mResource creation Initiated\u001b[22m\u001b[39m\n",
      "SdOnEKSStack |  54/173 | 4:57:58 AM | \u001b[0mCREATE_IN_PROGRESS  \u001b[0m | AWS::Lambda::Permission               | \u001b[0m\u001b[1mFrontApi/Default/{proxy+}/ANY/ApiPermission.Test.SdOnEKSStackFrontApi0A184C78.ANY..{proxy+}\u001b[22m\u001b[0m (FrontApiproxyANYApiPermissionTestSdOnEKSStackFrontApi0A184C78ANYproxy58FDB216) \n",
      "SdOnEKSStack |  55/173 | 4:57:58 AM | \u001b[32mCREATE_COMPLETE     \u001b[39m | AWS::StepFunctions::StateMachine      | \u001b[32m\u001b[1mEbsThroughputTunerStateMachine\u001b[22m\u001b[39m (EbsThroughputTunerStateMachine98E177D1) \n",
      "SdOnEKSStack |  55/173 | 4:57:58 AM | \u001b[0mCREATE_IN_PROGRESS  \u001b[0m | AWS::ApiGateway::Resource             | \u001b[0m\u001b[1mFrontApi/Default/{proxy+}\u001b[22m\u001b[0m (FrontApiproxy597E4EEC) \n",
      "SdOnEKSStack |  55/173 | 4:57:58 AM | \u001b[0mCREATE_IN_PROGRESS  \u001b[0m | AWS::ApiGateway::Method               | \u001b[0m\u001b[1mFrontApi/Default/ANY\u001b[22m\u001b[0m (FrontApiANYF9CEB406) \n",
      "SdOnEKSStack |  55/173 | 4:57:58 AM | \u001b[0mCREATE_IN_PROGRESS  \u001b[0m | AWS::ApiGateway::Method               | \u001b[0m\u001b[1mFrontApi/Default/ANY\u001b[22m\u001b[0m (FrontApiANYF9CEB406) \u001b[36m\u001b[1mResource creation Initiated\u001b[22m\u001b[39m\n",
      "SdOnEKSStack |  55/173 | 4:57:58 AM | \u001b[0mCREATE_IN_PROGRESS  \u001b[0m | AWS::IAM::Policy                      | \u001b[0m\u001b[1mEbsThroughputTunerStateMachine/EventsRole/DefaultPolicy\u001b[22m\u001b[0m (EbsThroughputTunerStateMachineEventsRoleDefaultPolicyCA4BFC4A) \n",
      "SdOnEKSStack |  55/173 | 4:57:59 AM | \u001b[0mCREATE_IN_PROGRESS  \u001b[0m | AWS::Lambda::Permission               | \u001b[0m\u001b[1mFrontApi/Default/ANY/ApiPermission.Test.SdOnEKSStackFrontApi0A184C78.ANY..\u001b[22m\u001b[0m (FrontApiANYApiPermissionTestSdOnEKSStackFrontApi0A184C78ANY83C2033E) \n",
      "SdOnEKSStack |  56/173 | 4:57:59 AM | \u001b[32mCREATE_COMPLETE     \u001b[39m | AWS::ApiGateway::Method               | \u001b[32m\u001b[1mFrontApi/Default/ANY\u001b[22m\u001b[39m (FrontApiANYF9CEB406) \n",
      "SdOnEKSStack |  56/173 | 4:57:59 AM | \u001b[0mCREATE_IN_PROGRESS  \u001b[0m | AWS::ApiGateway::Resource             | \u001b[0m\u001b[1mFrontApi/Default/{proxy+}\u001b[22m\u001b[0m (FrontApiproxy597E4EEC) \u001b[36m\u001b[1mResource creation Initiated\u001b[22m\u001b[39m\n",
      "SdOnEKSStack |  56/173 | 4:57:59 AM | \u001b[0mCREATE_IN_PROGRESS  \u001b[0m | AWS::Lambda::Permission               | \u001b[0m\u001b[1mFrontApi/Default/{proxy+}/ANY/ApiPermission.Test.SdOnEKSStackFrontApi0A184C78.ANY..{proxy+}\u001b[22m\u001b[0m (FrontApiproxyANYApiPermissionTestSdOnEKSStackFrontApi0A184C78ANYproxy58FDB216) \u001b[36m\u001b[1mResource creation Initiated\u001b[22m\u001b[39m\n",
      "SdOnEKSStack |  57/173 | 4:57:59 AM | \u001b[32mCREATE_COMPLETE     \u001b[39m | AWS::ApiGateway::Resource             | \u001b[32m\u001b[1mFrontApi/Default/{proxy+}\u001b[22m\u001b[39m (FrontApiproxy597E4EEC) \n",
      "SdOnEKSStack |  58/173 | 4:57:59 AM | \u001b[32mCREATE_COMPLETE     \u001b[39m | AWS::Lambda::Permission               | \u001b[32m\u001b[1mFrontApi/Default/{proxy+}/ANY/ApiPermission.Test.SdOnEKSStackFrontApi0A184C78.ANY..{proxy+}\u001b[22m\u001b[39m (FrontApiproxyANYApiPermissionTestSdOnEKSStackFrontApi0A184C78ANYproxy58FDB216) \n",
      "SdOnEKSStack |  58/173 | 4:57:59 AM | \u001b[0mCREATE_IN_PROGRESS  \u001b[0m | AWS::IAM::Policy                      | \u001b[0m\u001b[1mEbsThroughputTunerStateMachine/EventsRole/DefaultPolicy\u001b[22m\u001b[0m (EbsThroughputTunerStateMachineEventsRoleDefaultPolicyCA4BFC4A) \u001b[36m\u001b[1mResource creation Initiated\u001b[22m\u001b[39m\n",
      "SdOnEKSStack |  58/173 | 4:58:00 AM | \u001b[0mCREATE_IN_PROGRESS  \u001b[0m | AWS::ApiGateway::Method               | \u001b[0m\u001b[1mFrontApi/Default/{proxy+}/ANY\u001b[22m\u001b[0m (FrontApiproxyANY49F337C7) \n",
      "SdOnEKSStack |  58/173 | 4:58:00 AM | \u001b[0mCREATE_IN_PROGRESS  \u001b[0m | AWS::Lambda::Permission               | \u001b[0m\u001b[1mFrontApi/Default/ANY/ApiPermission.Test.SdOnEKSStackFrontApi0A184C78.ANY..\u001b[22m\u001b[0m (FrontApiANYApiPermissionTestSdOnEKSStackFrontApi0A184C78ANY83C2033E) \u001b[36m\u001b[1mResource creation Initiated\u001b[22m\u001b[39m\n",
      "SdOnEKSStack |  58/173 | 4:58:00 AM | \u001b[0mCREATE_IN_PROGRESS  \u001b[0m | AWS::ApiGateway::Method               | \u001b[0m\u001b[1mFrontApi/Default/{proxy+}/ANY\u001b[22m\u001b[0m (FrontApiproxyANY49F337C7) \u001b[36m\u001b[1mResource creation Initiated\u001b[22m\u001b[39m\n",
      "SdOnEKSStack |  59/173 | 4:58:00 AM | \u001b[32mCREATE_COMPLETE     \u001b[39m | AWS::Lambda::Permission               | \u001b[32m\u001b[1mFrontApi/Default/ANY/ApiPermission.Test.SdOnEKSStackFrontApi0A184C78.ANY..\u001b[22m\u001b[39m (FrontApiANYApiPermissionTestSdOnEKSStackFrontApi0A184C78ANY83C2033E) \n",
      "SdOnEKSStack |  60/173 | 4:58:00 AM | \u001b[32mCREATE_COMPLETE     \u001b[39m | AWS::ApiGateway::Method               | \u001b[32m\u001b[1mFrontApi/Default/{proxy+}/ANY\u001b[22m\u001b[39m (FrontApiproxyANY49F337C7) \n",
      "SdOnEKSStack |  60/173 | 4:58:01 AM | \u001b[0mCREATE_IN_PROGRESS  \u001b[0m | AWS::ApiGateway::Deployment           | \u001b[0m\u001b[1mFrontApi/Deployment\u001b[22m\u001b[0m (FrontApiDeployment69643107d7ade1730f94f318389f77c5fd977474) \n",
      "SdOnEKSStack |  60/173 | 4:58:02 AM | \u001b[0mCREATE_IN_PROGRESS  \u001b[0m | AWS::ApiGateway::Deployment           | \u001b[0m\u001b[1mFrontApi/Deployment\u001b[22m\u001b[0m (FrontApiDeployment69643107d7ade1730f94f318389f77c5fd977474) \u001b[36m\u001b[1mResource creation Initiated\u001b[22m\u001b[39m\n",
      "SdOnEKSStack |  61/173 | 4:58:03 AM | \u001b[32mCREATE_COMPLETE     \u001b[39m | AWS::ApiGateway::Deployment           | \u001b[32m\u001b[1mFrontApi/Deployment\u001b[22m\u001b[39m (FrontApiDeployment69643107d7ade1730f94f318389f77c5fd977474) \n",
      "SdOnEKSStack |  61/173 | 4:58:03 AM | \u001b[0mCREATE_IN_PROGRESS  \u001b[0m | Custom::VpcRestrictDefaultSG          | \u001b[0m\u001b[1mSdOnEKSStack-vpc/RestrictDefaultSecurityGroupCustomResource/Default\u001b[22m\u001b[0m (SdOnEKSStackvpcRestrictDefaultSecurityGroupCustomResourceAD637FB2) \u001b[36m\u001b[1mResource creation Initiated\u001b[22m\u001b[39m\n",
      "SdOnEKSStack |  62/173 | 4:58:04 AM | \u001b[32mCREATE_COMPLETE     \u001b[39m | Custom::VpcRestrictDefaultSG          | \u001b[32m\u001b[1mSdOnEKSStack-vpc/RestrictDefaultSecurityGroupCustomResource/Default\u001b[22m\u001b[39m (SdOnEKSStackvpcRestrictDefaultSecurityGroupCustomResourceAD637FB2) \n",
      "SdOnEKSStack |  63/173 | 4:58:14 AM | \u001b[32mCREATE_COMPLETE     \u001b[39m | AWS::IAM::Role                        | \u001b[32m\u001b[1mFrontApi/CloudWatchRole\u001b[22m\u001b[39m (FrontApiCloudWatchRole0C975A8F) \n",
      "SdOnEKSStack |  63/173 | 4:58:15 AM | \u001b[0mCREATE_IN_PROGRESS  \u001b[0m | AWS::ApiGateway::Account              | \u001b[0m\u001b[1mFrontApi/Account\u001b[22m\u001b[0m (FrontApiAccount97EC82DE) \n",
      "SdOnEKSStack |  64/173 | 4:58:15 AM | \u001b[32mCREATE_COMPLETE     \u001b[39m | AWS::IAM::Policy                      | \u001b[32m\u001b[1mEbsThroughputTunerStateMachine/EventsRole/DefaultPolicy\u001b[22m\u001b[39m (EbsThroughputTunerStateMachineEventsRoleDefaultPolicyCA4BFC4A) \n",
      "SdOnEKSStack |  65/173 | 4:58:15 AM | \u001b[32mCREATE_COMPLETE     \u001b[39m | AWS::Events::Rule                     | \u001b[32m\u001b[1mspot-interruption-rule\u001b[22m\u001b[39m (spotinterruptionruleCD5EF0CF) \n",
      "SdOnEKSStack |  66/173 | 4:58:15 AM | \u001b[32mCREATE_COMPLETE     \u001b[39m | AWS::Events::Rule                     | \u001b[32m\u001b[1minst-state-change-rule\u001b[22m\u001b[39m (inststatechangerule8B4A7167) \n",
      "SdOnEKSStack |  67/173 | 4:58:15 AM | \u001b[32mCREATE_COMPLETE     \u001b[39m | AWS::Events::Rule                     | \u001b[32m\u001b[1mrebalance-rule\u001b[22m\u001b[39m (rebalancerule2F79D1C5) \n",
      "SdOnEKSStack |  67/173 | 4:58:16 AM | \u001b[0mCREATE_IN_PROGRESS  \u001b[0m | AWS::ApiGateway::Account              | \u001b[0m\u001b[1mFrontApi/Account\u001b[22m\u001b[0m (FrontApiAccount97EC82DE) \u001b[36m\u001b[1mResource creation Initiated\u001b[22m\u001b[39m\n",
      "SdOnEKSStack |  68/173 | 4:58:16 AM | \u001b[32mCREATE_COMPLETE     \u001b[39m | AWS::ApiGateway::Account              | \u001b[32m\u001b[1mFrontApi/Account\u001b[22m\u001b[39m (FrontApiAccount97EC82DE) \n",
      "SdOnEKSStack |  68/173 | 4:58:17 AM | \u001b[0mCREATE_IN_PROGRESS  \u001b[0m | AWS::ApiGateway::Stage                | \u001b[0m\u001b[1mFrontApi/DeploymentStage.prod\u001b[22m\u001b[0m (FrontApiDeploymentStageprodF495C148) \n",
      "SdOnEKSStack |  69/173 | 4:58:17 AM | \u001b[32mCREATE_COMPLETE     \u001b[39m | AWS::Events::Rule                     | \u001b[32m\u001b[1mschedule-change-rule\u001b[22m\u001b[39m (schedulechangeruleBF5392D7) \n",
      "SdOnEKSStack |  69/173 | 4:58:18 AM | \u001b[0mCREATE_IN_PROGRESS  \u001b[0m | AWS::SQS::QueuePolicy                 | \u001b[0m\u001b[1mkarpenter-queue/Policy\u001b[22m\u001b[0m (karpenterqueuePolicyB21F0BA3) \n",
      "SdOnEKSStack |  69/173 | 4:58:19 AM | \u001b[0mCREATE_IN_PROGRESS  \u001b[0m | AWS::ApiGateway::Stage                | \u001b[0m\u001b[1mFrontApi/DeploymentStage.prod\u001b[22m\u001b[0m (FrontApiDeploymentStageprodF495C148) \u001b[36m\u001b[1mResource creation Initiated\u001b[22m\u001b[39m\n",
      "SdOnEKSStack |  69/173 | 4:58:19 AM | \u001b[0mCREATE_IN_PROGRESS  \u001b[0m | AWS::SQS::QueuePolicy                 | \u001b[0m\u001b[1mkarpenter-queue/Policy\u001b[22m\u001b[0m (karpenterqueuePolicyB21F0BA3) \u001b[36m\u001b[1mResource creation Initiated\u001b[22m\u001b[39m\n",
      "SdOnEKSStack |  70/173 | 4:58:19 AM | \u001b[32mCREATE_COMPLETE     \u001b[39m | AWS::ApiGateway::Stage                | \u001b[32m\u001b[1mFrontApi/DeploymentStage.prod\u001b[22m\u001b[39m (FrontApiDeploymentStageprodF495C148) \n",
      "SdOnEKSStack |  71/173 | 4:58:19 AM | \u001b[32mCREATE_COMPLETE     \u001b[39m | AWS::SQS::QueuePolicy                 | \u001b[32m\u001b[1mkarpenter-queue/Policy\u001b[22m\u001b[39m (karpenterqueuePolicyB21F0BA3) \n",
      "SdOnEKSStack |  71/173 | 4:58:20 AM | \u001b[0mCREATE_IN_PROGRESS  \u001b[0m | AWS::Lambda::Permission               | \u001b[0m\u001b[1mFrontApi/Default/{proxy+}/ANY/ApiPermission.SdOnEKSStackFrontApi0A184C78.ANY..{proxy+}\u001b[22m\u001b[0m (FrontApiproxyANYApiPermissionSdOnEKSStackFrontApi0A184C78ANYproxy6E802296) \n",
      "SdOnEKSStack |  71/173 | 4:58:20 AM | \u001b[0mCREATE_IN_PROGRESS  \u001b[0m | AWS::Lambda::Permission               | \u001b[0m\u001b[1mFrontApi/Default/ANY/ApiPermission.SdOnEKSStackFrontApi0A184C78.ANY..\u001b[22m\u001b[0m (FrontApiANYApiPermissionSdOnEKSStackFrontApi0A184C78ANYDB1752AC) \n",
      "SdOnEKSStack |  71/173 | 4:58:21 AM | \u001b[0mCREATE_IN_PROGRESS  \u001b[0m | AWS::Lambda::Permission               | \u001b[0m\u001b[1mFrontApi/Default/{proxy+}/ANY/ApiPermission.SdOnEKSStackFrontApi0A184C78.ANY..{proxy+}\u001b[22m\u001b[0m (FrontApiproxyANYApiPermissionSdOnEKSStackFrontApi0A184C78ANYproxy6E802296) \u001b[36m\u001b[1mResource creation Initiated\u001b[22m\u001b[39m\n",
      "SdOnEKSStack |  71/173 | 4:58:21 AM | \u001b[0mCREATE_IN_PROGRESS  \u001b[0m | AWS::Lambda::Permission               | \u001b[0m\u001b[1mFrontApi/Default/ANY/ApiPermission.SdOnEKSStackFrontApi0A184C78.ANY..\u001b[22m\u001b[0m (FrontApiANYApiPermissionSdOnEKSStackFrontApi0A184C78ANYDB1752AC) \u001b[36m\u001b[1mResource creation Initiated\u001b[22m\u001b[39m\n",
      "SdOnEKSStack |  72/173 | 4:58:21 AM | \u001b[32mCREATE_COMPLETE     \u001b[39m | AWS::Lambda::Permission               | \u001b[32m\u001b[1mFrontApi/Default/{proxy+}/ANY/ApiPermission.SdOnEKSStackFrontApi0A184C78.ANY..{proxy+}\u001b[22m\u001b[39m (FrontApiproxyANYApiPermissionSdOnEKSStackFrontApi0A184C78ANYproxy6E802296) \n",
      "SdOnEKSStack |  73/173 | 4:58:21 AM | \u001b[32mCREATE_COMPLETE     \u001b[39m | AWS::Lambda::Permission               | \u001b[32m\u001b[1mFrontApi/Default/ANY/ApiPermission.SdOnEKSStackFrontApi0A184C78.ANY..\u001b[22m\u001b[39m (FrontApiANYApiPermissionSdOnEKSStackFrontApi0A184C78ANYDB1752AC) \n",
      " 73/173 Currently in progress: \u001b[1mSdOnEKSStack, SdOnEKSStack-awscdkawseksClusterResourceProviderNestedStackawscdkawseksClusterResource-1WUIZDD6JFL91, kubectllayer275BD88CD2, efsmodelstorageEfsMountTarget1672DF8AA, efsmodelstorageEfsMountTarget31DE5DED0, efsmodelstorageEfsMountTarget24CC3E986, SdOnEKSStackvpcPublicSubnet1NATGateway66B5CFAC, SdOnEKSStackvpcPublicSubnet2NATGateway15F7D88D, SdOnEKSStackvpcPublicSubnet3NATGateway04C703E4\u001b[22m\n",
      "SdOnEKSStack |  74/173 | 4:59:05 AM | \u001b[32mCREATE_COMPLETE     \u001b[39m | AWS::CloudFormation::Stack            | \u001b[32m\u001b[1m@aws-cdk--aws-eks.ClusterResourceProvider.NestedStack/@aws-cdk--aws-eks.ClusterResourceProvider.NestedStackResource\u001b[22m\u001b[39m (awscdkawseksClusterResourceProviderNestedStackawscdkawseksClusterResourceProviderNestedStackResource9827C454) \n",
      "SdOnEKSStack |  75/173 | 4:59:06 AM | \u001b[32mCREATE_COMPLETE     \u001b[39m | AWS::EFS::MountTarget                 | \u001b[32m\u001b[1mefs-model-storage/EfsMountTarget1\u001b[22m\u001b[39m (efsmodelstorageEfsMountTarget1672DF8AA) \n",
      "SdOnEKSStack |  76/173 | 4:59:06 AM | \u001b[32mCREATE_COMPLETE     \u001b[39m | AWS::EFS::MountTarget                 | \u001b[32m\u001b[1mefs-model-storage/EfsMountTarget2\u001b[22m\u001b[39m (efsmodelstorageEfsMountTarget24CC3E986) \n",
      "SdOnEKSStack |  77/173 | 4:59:06 AM | \u001b[32mCREATE_COMPLETE     \u001b[39m | AWS::EFS::MountTarget                 | \u001b[32m\u001b[1mefs-model-storage/EfsMountTarget3\u001b[22m\u001b[39m (efsmodelstorageEfsMountTarget31DE5DED0) \n",
      "SdOnEKSStack |  77/173 | 4:59:08 AM | \u001b[0mCREATE_IN_PROGRESS  \u001b[0m | AWS::DataSync::LocationEFS            | \u001b[0m\u001b[1mDstLocationEFS\u001b[22m\u001b[0m \n",
      "SdOnEKSStack |  78/173 | 4:59:13 AM | \u001b[32mCREATE_COMPLETE     \u001b[39m | AWS::KMS::Key                         | \u001b[32m\u001b[1mSdOnEKSStack-kms-key\u001b[22m\u001b[39m (SdOnEKSStackkmskeyADA1E1ED) \n",
      "SdOnEKSStack |  78/173 | 4:59:14 AM | \u001b[0mCREATE_IN_PROGRESS  \u001b[0m | AWS::DataSync::LocationEFS            | \u001b[0m\u001b[1mDstLocationEFS\u001b[22m\u001b[0m \u001b[36m\u001b[1mResource creation Initiated\u001b[22m\u001b[39m\n",
      "SdOnEKSStack |  79/173 | 4:59:14 AM | \u001b[32mCREATE_COMPLETE     \u001b[39m | AWS::DataSync::LocationEFS            | \u001b[32m\u001b[1mDstLocationEFS\u001b[22m\u001b[39m \n",
      "SdOnEKSStack |  79/173 | 4:59:16 AM | \u001b[0mCREATE_IN_PROGRESS  \u001b[0m | AWS::DataSync::Task                   | \u001b[0m\u001b[1mDataSyncTask\u001b[22m\u001b[0m \n",
      "SdOnEKSStack |  79/173 | 4:59:17 AM | \u001b[0mCREATE_IN_PROGRESS  \u001b[0m | AWS::DataSync::Task                   | \u001b[0m\u001b[1mDataSyncTask\u001b[22m\u001b[0m \u001b[36m\u001b[1mResource creation Initiated\u001b[22m\u001b[39m\n",
      "SdOnEKSStack |  80/173 | 4:59:18 AM | \u001b[32mCREATE_COMPLETE     \u001b[39m | AWS::DataSync::Task                   | \u001b[32m\u001b[1mDataSyncTask\u001b[22m\u001b[39m \n",
      "SdOnEKSStack |  81/173 | 4:59:24 AM | \u001b[32mCREATE_COMPLETE     \u001b[39m | AWS::EC2::NatGateway                  | \u001b[32m\u001b[1mSdOnEKSStack-vpc/PublicSubnet3/NATGateway\u001b[22m\u001b[39m (SdOnEKSStackvpcPublicSubnet3NATGateway04C703E4) \n",
      "SdOnEKSStack |  81/173 | 4:59:24 AM | \u001b[0mCREATE_IN_PROGRESS  \u001b[0m | AWS::EC2::Route                       | \u001b[0m\u001b[1mSdOnEKSStack-vpc/PrivateSubnet3/DefaultRoute\u001b[22m\u001b[0m (SdOnEKSStackvpcPrivateSubnet3DefaultRoute08F06ADA) \n",
      "SdOnEKSStack |  81/173 | 4:59:26 AM | \u001b[0mCREATE_IN_PROGRESS  \u001b[0m | AWS::EC2::Route                       | \u001b[0m\u001b[1mSdOnEKSStack-vpc/PrivateSubnet3/DefaultRoute\u001b[22m\u001b[0m (SdOnEKSStackvpcPrivateSubnet3DefaultRoute08F06ADA) \u001b[36m\u001b[1mResource creation Initiated\u001b[22m\u001b[39m\n",
      "SdOnEKSStack |  82/173 | 4:59:26 AM | \u001b[32mCREATE_COMPLETE     \u001b[39m | AWS::EC2::Route                       | \u001b[32m\u001b[1mSdOnEKSStack-vpc/PrivateSubnet3/DefaultRoute\u001b[22m\u001b[39m (SdOnEKSStackvpcPrivateSubnet3DefaultRoute08F06ADA) \n",
      "SdOnEKSStack |  83/173 | 4:59:34 AM | \u001b[32mCREATE_COMPLETE     \u001b[39m | AWS::EC2::NatGateway                  | \u001b[32m\u001b[1mSdOnEKSStack-vpc/PublicSubnet2/NATGateway\u001b[22m\u001b[39m (SdOnEKSStackvpcPublicSubnet2NATGateway15F7D88D) \n",
      "SdOnEKSStack |  83/173 | 4:59:35 AM | \u001b[0mCREATE_IN_PROGRESS  \u001b[0m | AWS::EC2::Route                       | \u001b[0m\u001b[1mSdOnEKSStack-vpc/PrivateSubnet2/DefaultRoute\u001b[22m\u001b[0m (SdOnEKSStackvpcPrivateSubnet2DefaultRouteF5B8AB21) \n",
      "SdOnEKSStack |  83/173 | 4:59:36 AM | \u001b[0mCREATE_IN_PROGRESS  \u001b[0m | AWS::EC2::Route                       | \u001b[0m\u001b[1mSdOnEKSStack-vpc/PrivateSubnet2/DefaultRoute\u001b[22m\u001b[0m (SdOnEKSStackvpcPrivateSubnet2DefaultRouteF5B8AB21) \u001b[36m\u001b[1mResource creation Initiated\u001b[22m\u001b[39m\n",
      "SdOnEKSStack |  84/173 | 4:59:36 AM | \u001b[32mCREATE_COMPLETE     \u001b[39m | AWS::EC2::Route                       | \u001b[32m\u001b[1mSdOnEKSStack-vpc/PrivateSubnet2/DefaultRoute\u001b[22m\u001b[39m (SdOnEKSStackvpcPrivateSubnet2DefaultRouteF5B8AB21) \n",
      "SdOnEKSStack |  85/173 | 4:59:38 AM | \u001b[32mCREATE_COMPLETE     \u001b[39m | AWS::EC2::NatGateway                  | \u001b[32m\u001b[1mSdOnEKSStack-vpc/PublicSubnet1/NATGateway\u001b[22m\u001b[39m (SdOnEKSStackvpcPublicSubnet1NATGateway66B5CFAC) \n",
      "SdOnEKSStack |  85/173 | 4:59:39 AM | \u001b[0mCREATE_IN_PROGRESS  \u001b[0m | AWS::EC2::Route                       | \u001b[0m\u001b[1mSdOnEKSStack-vpc/PrivateSubnet1/DefaultRoute\u001b[22m\u001b[0m (SdOnEKSStackvpcPrivateSubnet1DefaultRoute4B2F1F72) \n",
      "SdOnEKSStack |  85/173 | 4:59:41 AM | \u001b[0mCREATE_IN_PROGRESS  \u001b[0m | AWS::EC2::Route                       | \u001b[0m\u001b[1mSdOnEKSStack-vpc/PrivateSubnet1/DefaultRoute\u001b[22m\u001b[0m (SdOnEKSStackvpcPrivateSubnet1DefaultRoute4B2F1F72) \u001b[36m\u001b[1mResource creation Initiated\u001b[22m\u001b[39m\n",
      "SdOnEKSStack |  86/173 | 4:59:41 AM | \u001b[32mCREATE_COMPLETE     \u001b[39m | AWS::EC2::Route                       | \u001b[32m\u001b[1mSdOnEKSStack-vpc/PrivateSubnet1/DefaultRoute\u001b[22m\u001b[39m (SdOnEKSStackvpcPrivateSubnet1DefaultRoute4B2F1F72) \n",
      "SdOnEKSStack |  86/173 | 4:59:42 AM | \u001b[0mCREATE_IN_PROGRESS  \u001b[0m | AWS::IAM::Role                        | \u001b[0m\u001b[1mSdOnEKSStack/Role\u001b[22m\u001b[0m (SdOnEKSStackRoleF9B4A5A2) \n",
      "SdOnEKSStack |  86/173 | 4:59:42 AM | \u001b[0mCREATE_IN_PROGRESS  \u001b[0m | AWS::IAM::ManagedPolicy               | \u001b[0m\u001b[1mSdOnEKSStack/aws-ebs-csi-driver-managed-policy\u001b[22m\u001b[0m (SdOnEKSStackawsebscsidrivermanagedpolicyF04DCB49) \n",
      "SdOnEKSStack |  86/173 | 4:59:42 AM | \u001b[0mCREATE_IN_PROGRESS  \u001b[0m | AWS::EC2::SecurityGroup               | \u001b[0m\u001b[1mSdOnEKSStack/ControlPlaneSecurityGroup\u001b[22m\u001b[0m (SdOnEKSStackControlPlaneSecurityGroupEE235119) \n",
      "SdOnEKSStack |  86/173 | 4:59:42 AM | \u001b[0mCREATE_IN_PROGRESS  \u001b[0m | AWS::IAM::Role                        | \u001b[0m\u001b[1mSdOnEKSStack/Nodegroupeks-blueprints-mng-ng/NodeGroupRole\u001b[22m\u001b[0m (SdOnEKSStackNodegroupeksblueprintsmngngNodeGroupRoleB5D002EB) \n",
      "SdOnEKSStack |  86/173 | 4:59:42 AM | \u001b[0mCREATE_IN_PROGRESS  \u001b[0m | AWS::IAM::Role                        | \u001b[0m\u001b[1mSdOnEKSStack/karpenter-node-role\u001b[22m\u001b[0m (SdOnEKSStackkarpenternoderole6390A467) \n",
      "SdOnEKSStack |  86/173 | 4:59:42 AM | \u001b[0mCREATE_IN_PROGRESS  \u001b[0m | AWS::IAM::Role                        | \u001b[0m\u001b[1mSdOnEKSStack/KubectlHandlerRole\u001b[22m\u001b[0m (SdOnEKSStackKubectlHandlerRole9627A0C3) \n",
      "SdOnEKSStack |  86/173 | 4:59:43 AM | \u001b[0mCREATE_IN_PROGRESS  \u001b[0m | AWS::IAM::Role                        | \u001b[0m\u001b[1mSdOnEKSStack/karpenter-node-role\u001b[22m\u001b[0m (SdOnEKSStackkarpenternoderole6390A467) \u001b[36m\u001b[1mResource creation Initiated\u001b[22m\u001b[39m\n",
      "SdOnEKSStack |  86/173 | 4:59:43 AM | \u001b[0mCREATE_IN_PROGRESS  \u001b[0m | AWS::IAM::ManagedPolicy               | \u001b[0m\u001b[1mSdOnEKSStack/aws-ebs-csi-driver-managed-policy\u001b[22m\u001b[0m (SdOnEKSStackawsebscsidrivermanagedpolicyF04DCB49) \u001b[36m\u001b[1mResource creation Initiated\u001b[22m\u001b[39m\n",
      "SdOnEKSStack |  86/173 | 4:59:43 AM | \u001b[0mCREATE_IN_PROGRESS  \u001b[0m | AWS::IAM::Role                        | \u001b[0m\u001b[1mSdOnEKSStack/Nodegroupeks-blueprints-mng-ng/NodeGroupRole\u001b[22m\u001b[0m (SdOnEKSStackNodegroupeksblueprintsmngngNodeGroupRoleB5D002EB) \u001b[36m\u001b[1mResource creation Initiated\u001b[22m\u001b[39m\n",
      "SdOnEKSStack |  86/173 | 4:59:43 AM | \u001b[0mCREATE_IN_PROGRESS  \u001b[0m | AWS::IAM::Role                        | \u001b[0m\u001b[1mSdOnEKSStack/Role\u001b[22m\u001b[0m (SdOnEKSStackRoleF9B4A5A2) \u001b[36m\u001b[1mResource creation Initiated\u001b[22m\u001b[39m\n",
      "SdOnEKSStack |  86/173 | 4:59:43 AM | \u001b[0mCREATE_IN_PROGRESS  \u001b[0m | AWS::IAM::Role                        | \u001b[0m\u001b[1mSdOnEKSStack/KubectlHandlerRole\u001b[22m\u001b[0m (SdOnEKSStackKubectlHandlerRole9627A0C3) \u001b[36m\u001b[1mResource creation Initiated\u001b[22m\u001b[39m\n",
      "SdOnEKSStack |  86/173 | 4:59:46 AM | \u001b[0mCREATE_IN_PROGRESS  \u001b[0m | AWS::EC2::SecurityGroup               | \u001b[0m\u001b[1mSdOnEKSStack/ControlPlaneSecurityGroup\u001b[22m\u001b[0m (SdOnEKSStackControlPlaneSecurityGroupEE235119) \u001b[36m\u001b[1mResource creation Initiated\u001b[22m\u001b[39m\n",
      "SdOnEKSStack |  87/173 | 4:59:48 AM | \u001b[32mCREATE_COMPLETE     \u001b[39m | AWS::EC2::SecurityGroup               | \u001b[32m\u001b[1mSdOnEKSStack/ControlPlaneSecurityGroup\u001b[22m\u001b[39m (SdOnEKSStackControlPlaneSecurityGroupEE235119) \n",
      "SdOnEKSStack |  88/173 | 4:59:58 AM | \u001b[32mCREATE_COMPLETE     \u001b[39m | AWS::IAM::ManagedPolicy               | \u001b[32m\u001b[1mSdOnEKSStack/aws-ebs-csi-driver-managed-policy\u001b[22m\u001b[39m (SdOnEKSStackawsebscsidrivermanagedpolicyF04DCB49) \n",
      "SdOnEKSStack |  89/173 | 5:00:00 AM | \u001b[32mCREATE_COMPLETE     \u001b[39m | AWS::IAM::Role                        | \u001b[32m\u001b[1mSdOnEKSStack/karpenter-node-role\u001b[22m\u001b[39m (SdOnEKSStackkarpenternoderole6390A467) \n",
      "SdOnEKSStack |  90/173 | 5:00:00 AM | \u001b[32mCREATE_COMPLETE     \u001b[39m | AWS::IAM::Role                        | \u001b[32m\u001b[1mSdOnEKSStack/Role\u001b[22m\u001b[39m (SdOnEKSStackRoleF9B4A5A2) \n",
      "SdOnEKSStack |  91/173 | 5:00:01 AM | \u001b[32mCREATE_COMPLETE     \u001b[39m | AWS::IAM::Role                        | \u001b[32m\u001b[1mSdOnEKSStack/Nodegroupeks-blueprints-mng-ng/NodeGroupRole\u001b[22m\u001b[39m (SdOnEKSStackNodegroupeksblueprintsmngngNodeGroupRoleB5D002EB) \n",
      "SdOnEKSStack |  92/173 | 5:00:01 AM | \u001b[32mCREATE_COMPLETE     \u001b[39m | AWS::IAM::Role                        | \u001b[32m\u001b[1mSdOnEKSStack/KubectlHandlerRole\u001b[22m\u001b[39m (SdOnEKSStackKubectlHandlerRole9627A0C3) \n",
      "SdOnEKSStack |  92/173 | 5:00:01 AM | \u001b[0mCREATE_IN_PROGRESS  \u001b[0m | AWS::IAM::InstanceProfile             | \u001b[0m\u001b[1mSdOnEKSStack/karpenter-instance-profile\u001b[22m\u001b[0m (SdOnEKSStackkarpenterinstanceprofileFC50A8A3) \n",
      "SdOnEKSStack |  92/173 | 5:00:01 AM | \u001b[0mCREATE_IN_PROGRESS  \u001b[0m | AWS::IAM::ManagedPolicy               | \u001b[0m\u001b[1mSdOnEKSStack/blueprints-addon-karpenter-managed-policy\u001b[22m\u001b[0m (SdOnEKSStackblueprintsaddonkarpentermanagedpolicyB2ECA797) \n",
      "SdOnEKSStack |  92/173 | 5:00:02 AM | \u001b[0mCREATE_IN_PROGRESS  \u001b[0m | AWS::IAM::InstanceProfile             | \u001b[0m\u001b[1mSdOnEKSStack/karpenter-instance-profile\u001b[22m\u001b[0m (SdOnEKSStackkarpenterinstanceprofileFC50A8A3) \u001b[36m\u001b[1mResource creation Initiated\u001b[22m\u001b[39m\n",
      "SdOnEKSStack |  92/173 | 5:00:03 AM | \u001b[0mCREATE_IN_PROGRESS  \u001b[0m | AWS::IAM::ManagedPolicy               | \u001b[0m\u001b[1mSdOnEKSStack/blueprints-addon-karpenter-managed-policy\u001b[22m\u001b[0m (SdOnEKSStackblueprintsaddonkarpentermanagedpolicyB2ECA797) \u001b[36m\u001b[1mResource creation Initiated\u001b[22m\u001b[39m\n",
      "SdOnEKSStack |  92/173 | 5:00:04 AM | \u001b[0mCREATE_IN_PROGRESS  \u001b[0m | AWS::IAM::Role                        | \u001b[0m\u001b[1mSdOnEKSStack/Resource/CreationRole\u001b[22m\u001b[0m (SdOnEKSStackCreationRoleD19B0453) \n",
      "SdOnEKSStack |  92/173 | 5:00:05 AM | \u001b[0mCREATE_IN_PROGRESS  \u001b[0m | AWS::IAM::Role                        | \u001b[0m\u001b[1mSdOnEKSStack/Resource/CreationRole\u001b[22m\u001b[0m (SdOnEKSStackCreationRoleD19B0453) \u001b[36m\u001b[1mResource creation Initiated\u001b[22m\u001b[39m\n",
      "SdOnEKSStack |  93/173 | 5:00:18 AM | \u001b[32mCREATE_COMPLETE     \u001b[39m | AWS::IAM::ManagedPolicy               | \u001b[32m\u001b[1mSdOnEKSStack/blueprints-addon-karpenter-managed-policy\u001b[22m\u001b[39m (SdOnEKSStackblueprintsaddonkarpentermanagedpolicyB2ECA797) \n",
      "SdOnEKSStack |  94/173 | 5:00:23 AM | \u001b[32mCREATE_COMPLETE     \u001b[39m | AWS::IAM::Role                        | \u001b[32m\u001b[1mSdOnEKSStack/Resource/CreationRole\u001b[22m\u001b[39m (SdOnEKSStackCreationRoleD19B0453) \n",
      "SdOnEKSStack |  94/173 | 5:00:24 AM | \u001b[0mCREATE_IN_PROGRESS  \u001b[0m | AWS::IAM::Policy                      | \u001b[0m\u001b[1mSdOnEKSStack/Resource/CreationRole/DefaultPolicy\u001b[22m\u001b[0m (SdOnEKSStackCreationRoleDefaultPolicy1395123C) \n",
      "SdOnEKSStack |  94/173 | 5:00:25 AM | \u001b[0mCREATE_IN_PROGRESS  \u001b[0m | AWS::IAM::Policy                      | \u001b[0m\u001b[1mSdOnEKSStack/Resource/CreationRole/DefaultPolicy\u001b[22m\u001b[0m (SdOnEKSStackCreationRoleDefaultPolicy1395123C) \u001b[36m\u001b[1mResource creation Initiated\u001b[22m\u001b[39m\n",
      "SdOnEKSStack |  95/173 | 5:00:41 AM | \u001b[32mCREATE_COMPLETE     \u001b[39m | AWS::IAM::Policy                      | \u001b[32m\u001b[1mSdOnEKSStack/Resource/CreationRole/DefaultPolicy\u001b[22m\u001b[39m (SdOnEKSStackCreationRoleDefaultPolicy1395123C) \n",
      "SdOnEKSStack |  95/173 | 5:00:42 AM | \u001b[0mCREATE_IN_PROGRESS  \u001b[0m | Custom::AWSCDK-EKS-Cluster            | \u001b[0m\u001b[1mSdOnEKSStack/Resource/Resource/Default\u001b[22m\u001b[0m (SdOnEKSStack50A2693C) \n",
      " 95/173 Currently in progress: \u001b[1mSdOnEKSStack, SdOnEKSStack-awscdkawseksClusterResourceProviderNestedStackawscdkawseksClusterResource-1WUIZDD6JFL91, kubectllayer275BD88CD2, SdOnEKSStackkarpenterinstanceprofileFC50A8A3, SdOnEKSStack50A2693C\u001b[22m\n",
      "SdOnEKSStack |  96/173 | 5:02:13 AM | \u001b[32mCREATE_COMPLETE     \u001b[39m | AWS::IAM::InstanceProfile             | \u001b[32m\u001b[1mSdOnEKSStack/karpenter-instance-profile\u001b[22m\u001b[39m (SdOnEKSStackkarpenterinstanceprofileFC50A8A3) \n",
      " 96/173 Currently in progress: \u001b[1mSdOnEKSStack, SdOnEKSStack-awscdkawseksClusterResourceProviderNestedStackawscdkawseksClusterResource-1WUIZDD6JFL91, kubectllayer275BD88CD2, SdOnEKSStack50A2693C\u001b[22m\n",
      "SdOnEKSStack |  96/173 | 5:11:03 AM | \u001b[0mCREATE_IN_PROGRESS  \u001b[0m | Custom::AWSCDK-EKS-Cluster            | \u001b[0m\u001b[1mSdOnEKSStack/Resource/Resource/Default\u001b[22m\u001b[0m (SdOnEKSStack50A2693C) \u001b[36m\u001b[1mResource creation Initiated\u001b[22m\u001b[39m\n",
      "SdOnEKSStack |  97/173 | 5:11:03 AM | \u001b[32mCREATE_COMPLETE     \u001b[39m | Custom::AWSCDK-EKS-Cluster            | \u001b[32m\u001b[1mSdOnEKSStack/Resource/Resource/Default\u001b[22m\u001b[39m (SdOnEKSStack50A2693C) \n",
      "SdOnEKSStack |  97/173 | 5:11:05 AM | \u001b[0mCREATE_IN_PROGRESS  \u001b[0m | AWS::EKS::Addon                       | \u001b[0m\u001b[1mvpc-cni-addOn\u001b[22m\u001b[0m (vpccniaddOn) \n",
      "SdOnEKSStack |  97/173 | 5:11:05 AM | \u001b[0mCREATE_IN_PROGRESS  \u001b[0m | AWS::EKS::Addon                       | \u001b[0m\u001b[1mkube-proxy-addOn\u001b[22m\u001b[0m (kubeproxyaddOn) \n",
      "SdOnEKSStack |  97/173 | 5:11:05 AM | \u001b[0mCREATE_IN_PROGRESS  \u001b[0m | AWS::EKS::Addon                       | \u001b[0m\u001b[1mcoredns-addOn\u001b[22m\u001b[0m (corednsaddOn) \n",
      "SdOnEKSStack |  97/173 | 5:11:05 AM | \u001b[0mCREATE_IN_PROGRESS  \u001b[0m | AWS::IAM::Policy                      | \u001b[0m\u001b[1mSdOnEKSStack/KubectlHandlerRole/DefaultPolicy\u001b[22m\u001b[0m (SdOnEKSStackKubectlHandlerRoleDefaultPolicyDAB846C1) \n",
      "SdOnEKSStack |  97/173 | 5:11:05 AM | \u001b[0mCREATE_IN_PROGRESS  \u001b[0m | AWS::SSM::Parameter                   | \u001b[0m\u001b[1mSdOnEKSStack/KubectlReadyBarrier\u001b[22m\u001b[0m (SdOnEKSStackKubectlReadyBarrier88B6FBB3) \n",
      "SdOnEKSStack |  97/173 | 5:11:05 AM | \u001b[0mCREATE_IN_PROGRESS  \u001b[0m | Custom::AWSCDKOpenIdConnectProvider   | \u001b[0m\u001b[1mSdOnEKSStack/OpenIdConnectProvider/Resource/Default\u001b[22m\u001b[0m (SdOnEKSStackOpenIdConnectProvider30D0533A) \n",
      "SdOnEKSStack |  97/173 | 5:11:05 AM | \u001b[0mCREATE_IN_PROGRESS  \u001b[0m | AWS::EKS::Nodegroup                   | \u001b[0m\u001b[1mSdOnEKSStack/Nodegroupeks-blueprints-mng-ng\u001b[22m\u001b[0m (SdOnEKSStackNodegroupeksblueprintsmngng630BE05C) \n",
      "SdOnEKSStack |  97/173 | 5:11:06 AM | \u001b[0mCREATE_IN_PROGRESS  \u001b[0m | AWS::IAM::Policy                      | \u001b[0m\u001b[1mSdOnEKSStack/KubectlHandlerRole/DefaultPolicy\u001b[22m\u001b[0m (SdOnEKSStackKubectlHandlerRoleDefaultPolicyDAB846C1) \u001b[36m\u001b[1mResource creation Initiated\u001b[22m\u001b[39m\n",
      "SdOnEKSStack |  97/173 | 5:11:06 AM | \u001b[0mCREATE_IN_PROGRESS  \u001b[0m | AWS::EKS::Addon                       | \u001b[0m\u001b[1mcoredns-addOn\u001b[22m\u001b[0m (corednsaddOn) \u001b[36m\u001b[1mResource creation Initiated\u001b[22m\u001b[39m\n",
      "SdOnEKSStack |  97/173 | 5:11:06 AM | \u001b[0mCREATE_IN_PROGRESS  \u001b[0m | AWS::SSM::Parameter                   | \u001b[0m\u001b[1mSdOnEKSStack/KubectlReadyBarrier\u001b[22m\u001b[0m (SdOnEKSStackKubectlReadyBarrier88B6FBB3) \u001b[36m\u001b[1mResource creation Initiated\u001b[22m\u001b[39m\n",
      "SdOnEKSStack |  98/173 | 5:11:06 AM | \u001b[32mCREATE_COMPLETE     \u001b[39m | AWS::SSM::Parameter                   | \u001b[32m\u001b[1mSdOnEKSStack/KubectlReadyBarrier\u001b[22m\u001b[39m (SdOnEKSStackKubectlReadyBarrier88B6FBB3) \n",
      "SdOnEKSStack |  98/173 | 5:11:07 AM | \u001b[0mCREATE_IN_PROGRESS  \u001b[0m | AWS::EKS::Nodegroup                   | \u001b[0m\u001b[1mSdOnEKSStack/Nodegroupeks-blueprints-mng-ng\u001b[22m\u001b[0m (SdOnEKSStackNodegroupeksblueprintsmngng630BE05C) \u001b[36m\u001b[1mResource creation Initiated\u001b[22m\u001b[39m\n",
      "SdOnEKSStack |  98/173 | 5:11:10 AM | \u001b[0mCREATE_IN_PROGRESS  \u001b[0m | AWS::EKS::Addon                       | \u001b[0m\u001b[1mkube-proxy-addOn\u001b[22m\u001b[0m (kubeproxyaddOn) \u001b[36m\u001b[1mResource creation Initiated\u001b[22m\u001b[39m\n",
      "SdOnEKSStack |  98/173 | 5:11:10 AM | \u001b[0mCREATE_IN_PROGRESS  \u001b[0m | AWS::EKS::Addon                       | \u001b[0m\u001b[1mvpc-cni-addOn\u001b[22m\u001b[0m (vpccniaddOn) \u001b[36m\u001b[1mResource creation Initiated\u001b[22m\u001b[39m\n",
      "SdOnEKSStack |  98/173 | 5:11:13 AM | \u001b[0mCREATE_IN_PROGRESS  \u001b[0m | Custom::AWSCDKOpenIdConnectProvider   | \u001b[0m\u001b[1mSdOnEKSStack/OpenIdConnectProvider/Resource/Default\u001b[22m\u001b[0m (SdOnEKSStackOpenIdConnectProvider30D0533A) \u001b[36m\u001b[1mResource creation Initiated\u001b[22m\u001b[39m\n",
      "SdOnEKSStack |  99/173 | 5:11:14 AM | \u001b[32mCREATE_COMPLETE     \u001b[39m | Custom::AWSCDKOpenIdConnectProvider   | \u001b[32m\u001b[1mSdOnEKSStack/OpenIdConnectProvider/Resource/Default\u001b[22m\u001b[39m (SdOnEKSStackOpenIdConnectProvider30D0533A) \n",
      "SdOnEKSStack |  99/173 | 5:11:15 AM | \u001b[0mCREATE_IN_PROGRESS  \u001b[0m | Custom::AWSCDKCfnJson                 | \u001b[0m\u001b[1mSdOnEKSStack/ebs-csi-controller-sa-sa/ConditionJson/Resource/Default\u001b[22m\u001b[0m (SdOnEKSStackebscsicontrollersasaConditionJson9897B490) \n",
      "SdOnEKSStack |  99/173 | 5:11:15 AM | \u001b[0mCREATE_IN_PROGRESS  \u001b[0m | Custom::AWSCDKCfnJson                 | \u001b[0m\u001b[1mSdOnEKSStack/aws-load-balancer-controller/ConditionJson/Resource/Default\u001b[22m\u001b[0m (SdOnEKSStackawsloadbalancercontrollerConditionJsonB945A79B) \n",
      "SdOnEKSStack |  99/173 | 5:11:15 AM | \u001b[0mCREATE_IN_PROGRESS  \u001b[0m | Custom::AWSCDKCfnJson                 | \u001b[0m\u001b[1mSdOnEKSStack/efs-csi-controller-sa/ConditionJson/Resource/Default\u001b[22m\u001b[0m (SdOnEKSStackefscsicontrollersaConditionJson8131050F) \n",
      "SdOnEKSStack | 100/173 | 5:11:16 AM | \u001b[32mCREATE_COMPLETE     \u001b[39m | AWS::EKS::Addon                       | \u001b[32m\u001b[1mkube-proxy-addOn\u001b[22m\u001b[39m (kubeproxyaddOn) \n",
      "SdOnEKSStack | 101/173 | 5:11:16 AM | \u001b[32mCREATE_COMPLETE     \u001b[39m | AWS::EKS::Addon                       | \u001b[32m\u001b[1mvpc-cni-addOn\u001b[22m\u001b[39m (vpccniaddOn) \n",
      "SdOnEKSStack | 101/173 | 5:11:17 AM | \u001b[0mCREATE_IN_PROGRESS  \u001b[0m | Custom::AWSCDKCfnJson                 | \u001b[0m\u001b[1mSdOnEKSStack/ebs-csi-controller-sa-sa/ConditionJson/Resource/Default\u001b[22m\u001b[0m (SdOnEKSStackebscsicontrollersasaConditionJson9897B490) \u001b[36m\u001b[1mResource creation Initiated\u001b[22m\u001b[39m\n",
      "SdOnEKSStack | 101/173 | 5:11:17 AM | \u001b[0mCREATE_IN_PROGRESS  \u001b[0m | Custom::AWSCDKCfnJson                 | \u001b[0m\u001b[1mSdOnEKSStack/aws-load-balancer-controller/ConditionJson/Resource/Default\u001b[22m\u001b[0m (SdOnEKSStackawsloadbalancercontrollerConditionJsonB945A79B) \u001b[36m\u001b[1mResource creation Initiated\u001b[22m\u001b[39m\n",
      "SdOnEKSStack | 102/173 | 5:11:17 AM | \u001b[32mCREATE_COMPLETE     \u001b[39m | Custom::AWSCDKCfnJson                 | \u001b[32m\u001b[1mSdOnEKSStack/ebs-csi-controller-sa-sa/ConditionJson/Resource/Default\u001b[22m\u001b[39m (SdOnEKSStackebscsicontrollersasaConditionJson9897B490) \n",
      "SdOnEKSStack | 102/173 | 5:11:17 AM | \u001b[0mCREATE_IN_PROGRESS  \u001b[0m | Custom::AWSCDKCfnJson                 | \u001b[0m\u001b[1mSdOnEKSStack/efs-csi-controller-sa/ConditionJson/Resource/Default\u001b[22m\u001b[0m (SdOnEKSStackefscsicontrollersaConditionJson8131050F) \u001b[36m\u001b[1mResource creation Initiated\u001b[22m\u001b[39m\n",
      "SdOnEKSStack | 103/173 | 5:11:17 AM | \u001b[32mCREATE_COMPLETE     \u001b[39m | Custom::AWSCDKCfnJson                 | \u001b[32m\u001b[1mSdOnEKSStack/aws-load-balancer-controller/ConditionJson/Resource/Default\u001b[22m\u001b[39m (SdOnEKSStackawsloadbalancercontrollerConditionJsonB945A79B) \n",
      "SdOnEKSStack | 104/173 | 5:11:17 AM | \u001b[32mCREATE_COMPLETE     \u001b[39m | AWS::EKS::Addon                       | \u001b[32m\u001b[1mcoredns-addOn\u001b[22m\u001b[39m (corednsaddOn) \n",
      "SdOnEKSStack | 105/173 | 5:11:17 AM | \u001b[32mCREATE_COMPLETE     \u001b[39m | Custom::AWSCDKCfnJson                 | \u001b[32m\u001b[1mSdOnEKSStack/efs-csi-controller-sa/ConditionJson/Resource/Default\u001b[22m\u001b[39m (SdOnEKSStackefscsicontrollersaConditionJson8131050F) \n",
      "SdOnEKSStack | 105/173 | 5:11:18 AM | \u001b[0mCREATE_IN_PROGRESS  \u001b[0m | AWS::IAM::Role                        | \u001b[0m\u001b[1mSdOnEKSStack/ebs-csi-controller-sa-sa/Role\u001b[22m\u001b[0m (SdOnEKSStackebscsicontrollersasaRoleF77EB587) \n",
      "SdOnEKSStack | 105/173 | 5:11:18 AM | \u001b[0mCREATE_IN_PROGRESS  \u001b[0m | AWS::IAM::Role                        | \u001b[0m\u001b[1mSdOnEKSStack/aws-load-balancer-controller/Role\u001b[22m\u001b[0m (SdOnEKSStackawsloadbalancercontrollerRoleA814C173) \n",
      "SdOnEKSStack | 105/173 | 5:11:18 AM | \u001b[0mCREATE_IN_PROGRESS  \u001b[0m | AWS::IAM::Role                        | \u001b[0m\u001b[1mSdOnEKSStack/efs-csi-controller-sa/Role\u001b[22m\u001b[0m (SdOnEKSStackefscsicontrollersaRole6A2D053E) \n",
      "SdOnEKSStack | 105/173 | 5:11:19 AM | \u001b[0mCREATE_IN_PROGRESS  \u001b[0m | AWS::IAM::Role                        | \u001b[0m\u001b[1mSdOnEKSStack/ebs-csi-controller-sa-sa/Role\u001b[22m\u001b[0m (SdOnEKSStackebscsicontrollersasaRoleF77EB587) \u001b[36m\u001b[1mResource creation Initiated\u001b[22m\u001b[39m\n",
      "SdOnEKSStack | 105/173 | 5:11:19 AM | \u001b[0mCREATE_IN_PROGRESS  \u001b[0m | AWS::IAM::Role                        | \u001b[0m\u001b[1mSdOnEKSStack/aws-load-balancer-controller/Role\u001b[22m\u001b[0m (SdOnEKSStackawsloadbalancercontrollerRoleA814C173) \u001b[36m\u001b[1mResource creation Initiated\u001b[22m\u001b[39m\n",
      "SdOnEKSStack | 105/173 | 5:11:19 AM | \u001b[0mCREATE_IN_PROGRESS  \u001b[0m | AWS::IAM::Role                        | \u001b[0m\u001b[1mSdOnEKSStack/efs-csi-controller-sa/Role\u001b[22m\u001b[0m (SdOnEKSStackefscsicontrollersaRole6A2D053E) \u001b[36m\u001b[1mResource creation Initiated\u001b[22m\u001b[39m\n",
      "SdOnEKSStack-awscdkawseksKubectlProviderNestedStackawscdkawseksKubectlProviderNestedSt-1A5D1OG8UDIE3 | 105/173 | 5:11:23 AM | \u001b[0mCREATE_IN_PROGRESS  \u001b[0m | AWS::CloudFormation::Stack            | \u001b[0m\u001b[1mSdOnEKSStack-awscdkawseksKubectlProviderNestedStackawscdkawseksKubectlProviderNestedSt-1A5D1OG8UDIE3\u001b[22m\u001b[0m \u001b[36m\u001b[1mUser Initiated\u001b[22m\u001b[39m\n",
      "\u001b[31mError occurred while monitoring stack: Error [ValidationError]: 2 validation errors detected: Value '' at 'stackName' failed to satisfy constraint: Member must satisfy regular expression pattern: [a-zA-Z][-a-zA-Z0-9]*|arn:[-a-zA-Z0-9:/._+]*; Value '' at 'stackName' failed to satisfy constraint: Member must have length greater than or equal to 1\u001b[39m\n",
      "\u001b[31m    at Request.extractError (/home/ec2-user/.nvm/versions/node/v16.20.2/lib/node_modules/aws-cdk/lib/index.js:362:46430)\u001b[39m\n",
      "\u001b[31m    at Request.callListeners (/home/ec2-user/.nvm/versions/node/v16.20.2/lib/node_modules/aws-cdk/lib/index.js:362:90083)\u001b[39m\n",
      "\u001b[31m    at Request.emit (/home/ec2-user/.nvm/versions/node/v16.20.2/lib/node_modules/aws-cdk/lib/index.js:362:89531)\u001b[39m\n",
      "\u001b[31m    at Request.emit (/home/ec2-user/.nvm/versions/node/v16.20.2/lib/node_modules/aws-cdk/lib/index.js:362:196289)\u001b[39m\n",
      "\u001b[31m    at Request.transition (/home/ec2-user/.nvm/versions/node/v16.20.2/lib/node_modules/aws-cdk/lib/index.js:362:189841)\u001b[39m\n",
      "\u001b[31m    at AcceptorStateMachine.runTo (/home/ec2-user/.nvm/versions/node/v16.20.2/lib/node_modules/aws-cdk/lib/index.js:362:154713)\u001b[39m\n",
      "\u001b[31m    at /home/ec2-user/.nvm/versions/node/v16.20.2/lib/node_modules/aws-cdk/lib/index.js:362:155043\u001b[39m\n",
      "\u001b[31m    at Request.<anonymous> (/home/ec2-user/.nvm/versions/node/v16.20.2/lib/node_modules/aws-cdk/lib/index.js:362:190133)\u001b[39m\n",
      "\u001b[31m    at Request.<anonymous> (/home/ec2-user/.nvm/versions/node/v16.20.2/lib/node_modules/aws-cdk/lib/index.js:362:196364)\u001b[39m\n",
      "\u001b[31m    at Request.callListeners (/home/ec2-user/.nvm/versions/node/v16.20.2/lib/node_modules/aws-cdk/lib/index.js:362:90251) {\u001b[39m\n",
      "\u001b[31m  code: 'ValidationError',\u001b[39m\n",
      "\u001b[31m  time: 2023-10-16T05:11:26.252Z,\u001b[39m\n",
      "\u001b[31m  requestId: '486a9bb5-dcc5-4a4e-aa0e-2cd06d7c3b66',\u001b[39m\n",
      "\u001b[31m  statusCode: 400,\u001b[39m\n",
      "\u001b[31m  retryable: false,\u001b[39m\n",
      "\u001b[31m  retryDelay: 593.0579932253597\u001b[39m\n",
      "\u001b[31m}\u001b[39m\n",
      "SdOnEKSStack | 106/173 | 5:11:37 AM | \u001b[32mCREATE_COMPLETE     \u001b[39m | AWS::IAM::Role                        | \u001b[32m\u001b[1mSdOnEKSStack/aws-load-balancer-controller/Role\u001b[22m\u001b[39m (SdOnEKSStackawsloadbalancercontrollerRoleA814C173) \n",
      "SdOnEKSStack | 107/173 | 5:11:37 AM | \u001b[32mCREATE_COMPLETE     \u001b[39m | AWS::IAM::Role                        | \u001b[32m\u001b[1mSdOnEKSStack/ebs-csi-controller-sa-sa/Role\u001b[22m\u001b[39m (SdOnEKSStackebscsicontrollersasaRoleF77EB587) \n",
      "SdOnEKSStack | 108/173 | 5:11:37 AM | \u001b[32mCREATE_COMPLETE     \u001b[39m | AWS::IAM::Role                        | \u001b[32m\u001b[1mSdOnEKSStack/efs-csi-controller-sa/Role\u001b[22m\u001b[39m (SdOnEKSStackefscsicontrollersaRole6A2D053E) \n",
      "SdOnEKSStack | 108/173 | 5:11:38 AM | \u001b[0mCREATE_IN_PROGRESS  \u001b[0m | AWS::IAM::Policy                      | \u001b[0m\u001b[1mSdOnEKSStack/aws-load-balancer-controller/Role/DefaultPolicy\u001b[22m\u001b[0m (SdOnEKSStackawsloadbalancercontrollerRoleDefaultPolicy0F351FBA) \n",
      "SdOnEKSStack | 108/173 | 5:11:38 AM | \u001b[0mCREATE_IN_PROGRESS  \u001b[0m | AWS::IAM::Policy                      | \u001b[0m\u001b[1mSdOnEKSStack/efs-csi-controller-sa/Role/DefaultPolicy\u001b[22m\u001b[0m (SdOnEKSStackefscsicontrollersaRoleDefaultPolicyCCCD9465) \n",
      "SdOnEKSStack | 108/173 | 5:11:39 AM | \u001b[0mCREATE_IN_PROGRESS  \u001b[0m | AWS::IAM::Policy                      | \u001b[0m\u001b[1mSdOnEKSStack/aws-load-balancer-controller/Role/DefaultPolicy\u001b[22m\u001b[0m (SdOnEKSStackawsloadbalancercontrollerRoleDefaultPolicy0F351FBA) \u001b[36m\u001b[1mResource creation Initiated\u001b[22m\u001b[39m\n",
      "SdOnEKSStack | 108/173 | 5:11:39 AM | \u001b[0mCREATE_IN_PROGRESS  \u001b[0m | AWS::IAM::Policy                      | \u001b[0m\u001b[1mSdOnEKSStack/efs-csi-controller-sa/Role/DefaultPolicy\u001b[22m\u001b[0m (SdOnEKSStackefscsicontrollersaRoleDefaultPolicyCCCD9465) \u001b[36m\u001b[1mResource creation Initiated\u001b[22m\u001b[39m\n",
      "SdOnEKSStack | 109/173 | 5:11:55 AM | \u001b[32mCREATE_COMPLETE     \u001b[39m | AWS::IAM::Policy                      | \u001b[32m\u001b[1mSdOnEKSStack/aws-load-balancer-controller/Role/DefaultPolicy\u001b[22m\u001b[39m (SdOnEKSStackawsloadbalancercontrollerRoleDefaultPolicy0F351FBA) \n",
      "SdOnEKSStack | 110/173 | 5:11:55 AM | \u001b[32mCREATE_COMPLETE     \u001b[39m | AWS::IAM::Policy                      | \u001b[32m\u001b[1mSdOnEKSStack/efs-csi-controller-sa/Role/DefaultPolicy\u001b[22m\u001b[39m (SdOnEKSStackefscsicontrollersaRoleDefaultPolicyCCCD9465) \n",
      "110/173 Currently in progress: \u001b[1mSdOnEKSStack, SdOnEKSStack-awscdkawseksClusterResourceProviderNestedStackawscdkawseksClusterResource-1WUIZDD6JFL91, kubectllayer275BD88CD2, SdOnEKSStackKubectlHandlerRoleDefaultPolicyDAB846C1, SdOnEKSStackNodegroupeksblueprintsmngng630BE05C, SdOnEKSStack-awscdkawseksKubectlProviderNestedStackawscdkawseksKubectlProviderNestedSt-1A5D1OG8UDIE3\u001b[22m\n",
      "SdOnEKSStack | 111/173 | 5:13:09 AM | \u001b[32mCREATE_COMPLETE     \u001b[39m | AWS::EKS::Nodegroup                   | \u001b[32m\u001b[1mSdOnEKSStack/Nodegroupeks-blueprints-mng-ng\u001b[22m\u001b[39m (SdOnEKSStackNodegroupeksblueprintsmngng630BE05C) \n",
      "111/173 Currently in progress: \u001b[1mSdOnEKSStack, SdOnEKSStack-awscdkawseksClusterResourceProviderNestedStackawscdkawseksClusterResource-1WUIZDD6JFL91, kubectllayer275BD88CD2, SdOnEKSStackKubectlHandlerRoleDefaultPolicyDAB846C1, SdOnEKSStack-awscdkawseksKubectlProviderNestedStackawscdkawseksKubectlProviderNestedSt-1A5D1OG8UDIE3\u001b[22m\n",
      "SdOnEKSStack | 112/173 | 5:14:26 AM | \u001b[32mCREATE_COMPLETE     \u001b[39m | AWS::CloudFormation::Stack            | \u001b[32m\u001b[1m@aws-cdk--aws-eks.KubectlProvider.NestedStack/@aws-cdk--aws-eks.KubectlProvider.NestedStackResource\u001b[22m\u001b[39m (awscdkawseksKubectlProviderNestedStackawscdkawseksKubectlProviderNestedStackResourceA7AEBA6B) \n",
      "SdOnEKSStack | 112/173 | 5:14:27 AM | \u001b[0mCREATE_IN_PROGRESS  \u001b[0m | Custom::AWSCDK-EKS-KubernetesResource | \u001b[0m\u001b[1mkeda-namespace-struct/Resource/Default\u001b[22m\u001b[0m (kedanamespacestruct22C0E683) \n",
      "SdOnEKSStack | 112/173 | 5:14:27 AM | \u001b[0mCREATE_IN_PROGRESS  \u001b[0m | Custom::AWSCDK-EKS-KubernetesResource | \u001b[0m\u001b[1mkarpenter-namespace-struct/Resource/Default\u001b[22m\u001b[0m (karpenternamespacestructC6800395) \n",
      "SdOnEKSStack | 112/173 | 5:14:27 AM | \u001b[0mCREATE_IN_PROGRESS  \u001b[0m | Custom::AWSCDK-EKS-KubernetesResource | \u001b[0m\u001b[1mamazon-metrics-namespace-struct/Resource/Default\u001b[22m\u001b[0m (amazonmetricsnamespacestructC95174EE) \n",
      "SdOnEKSStack | 112/173 | 5:14:27 AM | \u001b[0mCREATE_IN_PROGRESS  \u001b[0m | Custom::AWSCDK-EKS-KubernetesResource | \u001b[0m\u001b[1mdynamicsdruntime-default-namespace-struct/Resource/Default\u001b[22m\u001b[0m (dynamicsdruntimedefaultnamespacestructB26EA9BA) \n",
      "SdOnEKSStack | 112/173 | 5:14:27 AM | \u001b[0mCREATE_IN_PROGRESS  \u001b[0m | Custom::AWSCDK-EKS-KubernetesResource | \u001b[0m\u001b[1msdruntime-default-namespace-struct/Resource/Default\u001b[22m\u001b[0m (sdruntimedefaultnamespacestruct495FDEB6) \n",
      "SdOnEKSStack | 112/173 | 5:14:27 AM | \u001b[0mCREATE_IN_PROGRESS  \u001b[0m | Custom::AWSCDK-EKS-KubernetesResource | \u001b[0m\u001b[1mSdOnEKSStack/manifest-efs-model-storage-sc/Resource/Default\u001b[22m\u001b[0m (SdOnEKSStackmanifestefsmodelstoragescEF3F222E) \n",
      "SdOnEKSStack | 112/173 | 5:14:28 AM | \u001b[0mCREATE_IN_PROGRESS  \u001b[0m | Custom::AWSCDK-EKS-KubernetesResource | \u001b[0m\u001b[1mamazon-cloudwatch-namespace-struct/Resource/Default\u001b[22m\u001b[0m (amazoncloudwatchnamespacestruct448594E6) \n",
      "SdOnEKSStack | 112/173 | 5:14:28 AM | \u001b[0mCREATE_IN_PROGRESS  \u001b[0m | Custom::AWSCDK-EKS-KubernetesResource | \u001b[0m\u001b[1mSdOnEKSStack/aws-load-balancer-controller/manifest-aws-load-balancer-controllerServiceAccountResource/Resource/Default\u001b[22m\u001b[0m (SdOnEKSStackawsloadbalancercontrollermanifestawsloadbalancercontrollerServiceAccountResource86DE91A6) \n",
      "SdOnEKSStack | 112/173 | 5:14:28 AM | \u001b[0mCREATE_IN_PROGRESS  \u001b[0m | Custom::AWSCDK-EKS-KubernetesResource | \u001b[0m\u001b[1mSdOnEKSStack/ebs-csi-controller-sa-sa/manifest-ebs-csi-controller-sa-saServiceAccountResource/Resource/Default\u001b[22m\u001b[0m (SdOnEKSStackebscsicontrollersasamanifestebscsicontrollersasaServiceAccountResourceA52E93DF) \n",
      "SdOnEKSStack | 112/173 | 5:14:28 AM | \u001b[0mCREATE_IN_PROGRESS  \u001b[0m | Custom::AWSCDK-EKS-KubernetesResource | \u001b[0m\u001b[1mSdOnEKSStack/AwsAuth/manifest/Resource/Default\u001b[22m\u001b[0m (SdOnEKSStackAwsAuthmanifest12326F16) \n",
      "SdOnEKSStack | 112/173 | 5:14:28 AM | \u001b[0mCREATE_IN_PROGRESS  \u001b[0m | Custom::AWSCDK-EKS-KubernetesResource | \u001b[0m\u001b[1mSdOnEKSStack/efs-csi-controller-sa/manifest-efs-csi-controller-saServiceAccountResource/Resource/Default\u001b[22m\u001b[0m (SdOnEKSStackefscsicontrollersamanifestefscsicontrollersaServiceAccountResource7B0AE24F) \n",
      "SdOnEKSStack | 112/173 | 5:14:35 AM | \u001b[0mCREATE_IN_PROGRESS  \u001b[0m | Custom::AWSCDK-EKS-KubernetesResource | \u001b[0m\u001b[1mamazon-metrics-namespace-struct/Resource/Default\u001b[22m\u001b[0m (amazonmetricsnamespacestructC95174EE) \u001b[36m\u001b[1mResource creation Initiated\u001b[22m\u001b[39m\n",
      "SdOnEKSStack | 113/173 | 5:14:35 AM | \u001b[32mCREATE_COMPLETE     \u001b[39m | Custom::AWSCDK-EKS-KubernetesResource | \u001b[32m\u001b[1mamazon-metrics-namespace-struct/Resource/Default\u001b[22m\u001b[39m (amazonmetricsnamespacestructC95174EE) \n",
      "SdOnEKSStack | 113/173 | 5:14:35 AM | \u001b[0mCREATE_IN_PROGRESS  \u001b[0m | Custom::AWSCDK-EKS-KubernetesResource | \u001b[0m\u001b[1mSdOnEKSStack/efs-csi-controller-sa/manifest-efs-csi-controller-saServiceAccountResource/Resource/Default\u001b[22m\u001b[0m (SdOnEKSStackefscsicontrollersamanifestefscsicontrollersaServiceAccountResource7B0AE24F) \u001b[36m\u001b[1mResource creation Initiated\u001b[22m\u001b[39m\n",
      "SdOnEKSStack | 114/173 | 5:14:35 AM | \u001b[32mCREATE_COMPLETE     \u001b[39m | Custom::AWSCDK-EKS-KubernetesResource | \u001b[32m\u001b[1mSdOnEKSStack/efs-csi-controller-sa/manifest-efs-csi-controller-saServiceAccountResource/Resource/Default\u001b[22m\u001b[39m (SdOnEKSStackefscsicontrollersamanifestefscsicontrollersaServiceAccountResource7B0AE24F) \n",
      "SdOnEKSStack | 114/173 | 5:14:36 AM | \u001b[0mCREATE_IN_PROGRESS  \u001b[0m | Custom::AWSCDK-EKS-KubernetesResource | \u001b[0m\u001b[1msdruntime-default-namespace-struct/Resource/Default\u001b[22m\u001b[0m (sdruntimedefaultnamespacestruct495FDEB6) \u001b[36m\u001b[1mResource creation Initiated\u001b[22m\u001b[39m\n",
      "SdOnEKSStack | 114/173 | 5:14:36 AM | \u001b[0mCREATE_IN_PROGRESS  \u001b[0m | Custom::AWSCDK-EKS-KubernetesResource | \u001b[0m\u001b[1mkeda-namespace-struct/Resource/Default\u001b[22m\u001b[0m (kedanamespacestruct22C0E683) \u001b[36m\u001b[1mResource creation Initiated\u001b[22m\u001b[39m\n",
      "SdOnEKSStack | 114/173 | 5:14:36 AM | \u001b[0mCREATE_IN_PROGRESS  \u001b[0m | Custom::AWSCDK-EKS-KubernetesResource | \u001b[0m\u001b[1mkarpenter-namespace-struct/Resource/Default\u001b[22m\u001b[0m (karpenternamespacestructC6800395) \u001b[36m\u001b[1mResource creation Initiated\u001b[22m\u001b[39m\n",
      "SdOnEKSStack | 115/173 | 5:14:36 AM | \u001b[32mCREATE_COMPLETE     \u001b[39m | Custom::AWSCDK-EKS-KubernetesResource | \u001b[32m\u001b[1msdruntime-default-namespace-struct/Resource/Default\u001b[22m\u001b[39m (sdruntimedefaultnamespacestruct495FDEB6) \n",
      "SdOnEKSStack | 116/173 | 5:14:36 AM | \u001b[32mCREATE_COMPLETE     \u001b[39m | Custom::AWSCDK-EKS-KubernetesResource | \u001b[32m\u001b[1mkeda-namespace-struct/Resource/Default\u001b[22m\u001b[39m (kedanamespacestruct22C0E683) \n",
      "SdOnEKSStack | 116/173 | 5:14:36 AM | \u001b[0mCREATE_IN_PROGRESS  \u001b[0m | Custom::AWSCDK-EKS-KubernetesResource | \u001b[0m\u001b[1mdynamicsdruntime-default-namespace-struct/Resource/Default\u001b[22m\u001b[0m (dynamicsdruntimedefaultnamespacestructB26EA9BA) \u001b[36m\u001b[1mResource creation Initiated\u001b[22m\u001b[39m\n",
      "SdOnEKSStack | 117/173 | 5:14:36 AM | \u001b[32mCREATE_COMPLETE     \u001b[39m | Custom::AWSCDK-EKS-KubernetesResource | \u001b[32m\u001b[1mkarpenter-namespace-struct/Resource/Default\u001b[22m\u001b[39m (karpenternamespacestructC6800395) \n",
      "SdOnEKSStack | 118/173 | 5:14:36 AM | \u001b[32mCREATE_COMPLETE     \u001b[39m | Custom::AWSCDK-EKS-KubernetesResource | \u001b[32m\u001b[1mdynamicsdruntime-default-namespace-struct/Resource/Default\u001b[22m\u001b[39m (dynamicsdruntimedefaultnamespacestructB26EA9BA) \n",
      "SdOnEKSStack | 118/173 | 5:14:36 AM | \u001b[0mCREATE_IN_PROGRESS  \u001b[0m | Custom::AWSCDK-EKS-KubernetesResource | \u001b[0m\u001b[1mSdOnEKSStack/manifest-efs-model-storage-sc/Resource/Default\u001b[22m\u001b[0m (SdOnEKSStackmanifestefsmodelstoragescEF3F222E) \u001b[36m\u001b[1mResource creation Initiated\u001b[22m\u001b[39m\n",
      "SdOnEKSStack | 118/173 | 5:14:36 AM | \u001b[0mCREATE_IN_PROGRESS  \u001b[0m | Custom::AWSCDK-EKS-KubernetesResource | \u001b[0m\u001b[1mamazon-cloudwatch-namespace-struct/Resource/Default\u001b[22m\u001b[0m (amazoncloudwatchnamespacestruct448594E6) \u001b[36m\u001b[1mResource creation Initiated\u001b[22m\u001b[39m\n",
      "SdOnEKSStack | 118/173 | 5:14:36 AM | \u001b[0mCREATE_IN_PROGRESS  \u001b[0m | Custom::AWSCDK-EKS-KubernetesResource | \u001b[0m\u001b[1mSdOnEKSStack/ebs-csi-controller-sa-sa/manifest-ebs-csi-controller-sa-saServiceAccountResource/Resource/Default\u001b[22m\u001b[0m (SdOnEKSStackebscsicontrollersasamanifestebscsicontrollersasaServiceAccountResourceA52E93DF) \u001b[36m\u001b[1mResource creation Initiated\u001b[22m\u001b[39m\n",
      "SdOnEKSStack | 119/173 | 5:14:36 AM | \u001b[32mCREATE_COMPLETE     \u001b[39m | Custom::AWSCDK-EKS-KubernetesResource | \u001b[32m\u001b[1mSdOnEKSStack/manifest-efs-model-storage-sc/Resource/Default\u001b[22m\u001b[39m (SdOnEKSStackmanifestefsmodelstoragescEF3F222E) \n",
      "SdOnEKSStack | 120/173 | 5:14:36 AM | \u001b[32mCREATE_COMPLETE     \u001b[39m | Custom::AWSCDK-EKS-KubernetesResource | \u001b[32m\u001b[1mamazon-cloudwatch-namespace-struct/Resource/Default\u001b[22m\u001b[39m (amazoncloudwatchnamespacestruct448594E6) \n",
      "SdOnEKSStack | 120/173 | 5:14:36 AM | \u001b[0mCREATE_IN_PROGRESS  \u001b[0m | Custom::AWSCDK-EKS-KubernetesResource | \u001b[0m\u001b[1mSdOnEKSStack/AwsAuth/manifest/Resource/Default\u001b[22m\u001b[0m (SdOnEKSStackAwsAuthmanifest12326F16) \u001b[36m\u001b[1mResource creation Initiated\u001b[22m\u001b[39m\n",
      "SdOnEKSStack | 121/173 | 5:14:36 AM | \u001b[32mCREATE_COMPLETE     \u001b[39m | Custom::AWSCDK-EKS-KubernetesResource | \u001b[32m\u001b[1mSdOnEKSStack/ebs-csi-controller-sa-sa/manifest-ebs-csi-controller-sa-saServiceAccountResource/Resource/Default\u001b[22m\u001b[39m (SdOnEKSStackebscsicontrollersasamanifestebscsicontrollersasaServiceAccountResourceA52E93DF) \n",
      "SdOnEKSStack | 121/173 | 5:14:36 AM | \u001b[0mCREATE_IN_PROGRESS  \u001b[0m | Custom::AWSCDK-EKS-KubernetesResource | \u001b[0m\u001b[1mSdOnEKSStack/aws-load-balancer-controller/manifest-aws-load-balancer-controllerServiceAccountResource/Resource/Default\u001b[22m\u001b[0m (SdOnEKSStackawsloadbalancercontrollermanifestawsloadbalancercontrollerServiceAccountResource86DE91A6) \u001b[36m\u001b[1mResource creation Initiated\u001b[22m\u001b[39m\n",
      "SdOnEKSStack | 121/173 | 5:14:36 AM | \u001b[0mCREATE_IN_PROGRESS  \u001b[0m | Custom::AWSCDKCfnJson                 | \u001b[0m\u001b[1mSdOnEKSStack/adot-collector-sa/ConditionJson/Resource/Default\u001b[22m\u001b[0m (SdOnEKSStackadotcollectorsaConditionJsonCFF7D02C) \n",
      "SdOnEKSStack | 122/173 | 5:14:37 AM | \u001b[32mCREATE_COMPLETE     \u001b[39m | Custom::AWSCDK-EKS-KubernetesResource | \u001b[32m\u001b[1mSdOnEKSStack/AwsAuth/manifest/Resource/Default\u001b[22m\u001b[39m (SdOnEKSStackAwsAuthmanifest12326F16) \n",
      "SdOnEKSStack | 123/173 | 5:14:37 AM | \u001b[32mCREATE_COMPLETE     \u001b[39m | Custom::AWSCDK-EKS-KubernetesResource | \u001b[32m\u001b[1mSdOnEKSStack/aws-load-balancer-controller/manifest-aws-load-balancer-controllerServiceAccountResource/Resource/Default\u001b[22m\u001b[39m (SdOnEKSStackawsloadbalancercontrollermanifestawsloadbalancercontrollerServiceAccountResource86DE91A6) \n",
      "SdOnEKSStack | 123/173 | 5:14:37 AM | \u001b[0mCREATE_IN_PROGRESS  \u001b[0m | Custom::AWSCDKCfnJson                 | \u001b[0m\u001b[1mSdOnEKSStack/keda-operator/ConditionJson/Resource/Default\u001b[22m\u001b[0m (SdOnEKSStackkedaoperatorConditionJson79DC87C1) \n",
      "SdOnEKSStack | 123/173 | 5:14:37 AM | \u001b[0mCREATE_IN_PROGRESS  \u001b[0m | Custom::AWSCDKCfnJson                 | \u001b[0m\u001b[1mSdOnEKSStack/WebUISAdynamicsdruntime/ConditionJson/Resource/Default\u001b[22m\u001b[0m (SdOnEKSStackWebUISAdynamicsdruntimeConditionJson9BF66A3F) \n",
      "SdOnEKSStack | 123/173 | 5:14:37 AM | \u001b[0mCREATE_IN_PROGRESS  \u001b[0m | Custom::AWSCDK-EKS-KubernetesResource | \u001b[0m\u001b[1mSdOnEKSStack/manifest-sdruntimeEfsModelStoragePv/Resource/Default\u001b[22m\u001b[0m (SdOnEKSStackmanifestsdruntimeEfsModelStoragePv33EDADE1) \n",
      "SdOnEKSStack | 123/173 | 5:14:37 AM | \u001b[0mCREATE_IN_PROGRESS  \u001b[0m | Custom::AWSCDK-EKS-KubernetesResource | \u001b[0m\u001b[1mSdOnEKSStack/manifest-sdruntimeEfsModelStoragePvc/Resource/Default\u001b[22m\u001b[0m (SdOnEKSStackmanifestsdruntimeEfsModelStoragePvcD33466E1) \n",
      "SdOnEKSStack | 123/173 | 5:14:37 AM | \u001b[0mCREATE_IN_PROGRESS  \u001b[0m | Custom::AWSCDKCfnJson                 | \u001b[0m\u001b[1mSdOnEKSStack/WebUISAsdruntime/ConditionJson/Resource/Default\u001b[22m\u001b[0m (SdOnEKSStackWebUISAsdruntimeConditionJson2B21D90B) \n",
      "SdOnEKSStack | 123/173 | 5:14:37 AM | \u001b[0mCREATE_IN_PROGRESS  \u001b[0m | Custom::AWSCDKCfnJson                 | \u001b[0m\u001b[1mSdOnEKSStack/blueprints-addon-karpenter-sa/ConditionJson/Resource/Default\u001b[22m\u001b[0m (SdOnEKSStackblueprintsaddonkarpentersaConditionJsonECAB73FC) \n",
      "SdOnEKSStack | 123/173 | 5:14:37 AM | \u001b[0mCREATE_IN_PROGRESS  \u001b[0m | Custom::AWSCDK-EKS-KubernetesResource | \u001b[0m\u001b[1mSdOnEKSStack/manifest-dynamicsdruntimeEfsModelStoragePv/Resource/Default\u001b[22m\u001b[0m (SdOnEKSStackmanifestdynamicsdruntimeEfsModelStoragePv3F043670) \n",
      "SdOnEKSStack | 123/173 | 5:14:37 AM | \u001b[0mCREATE_IN_PROGRESS  \u001b[0m | Custom::AWSCDK-EKS-KubernetesResource | \u001b[0m\u001b[1mSdOnEKSStack/manifest-dynamicsdruntimeEfsModelStoragePvc/Resource/Default\u001b[22m\u001b[0m (SdOnEKSStackmanifestdynamicsdruntimeEfsModelStoragePvc317F46C9) \n",
      "SdOnEKSStack | 123/173 | 5:14:38 AM | \u001b[0mCREATE_IN_PROGRESS  \u001b[0m | Custom::AWSCDKCfnJson                 | \u001b[0m\u001b[1mSdOnEKSStack/aws-for-fluent-bit-sa/ConditionJson/Resource/Default\u001b[22m\u001b[0m (SdOnEKSStackawsforfluentbitsaConditionJson3A3C1FDC) \n",
      "SdOnEKSStack | 123/173 | 5:14:38 AM | \u001b[0mCREATE_IN_PROGRESS  \u001b[0m | Custom::AWSCDK-EKS-HelmChart          | \u001b[0m\u001b[1mSdOnEKSStack/chart-aws-load-balancer-controller/Resource/Default\u001b[22m\u001b[0m (SdOnEKSStackchartawsloadbalancercontrollerF859548A) \n",
      "SdOnEKSStack | 123/173 | 5:14:38 AM | \u001b[0mCREATE_IN_PROGRESS  \u001b[0m | Custom::AWSCDKCfnJson                 | \u001b[0m\u001b[1mSdOnEKSStack/adot-collector-sa/ConditionJson/Resource/Default\u001b[22m\u001b[0m (SdOnEKSStackadotcollectorsaConditionJsonCFF7D02C) \u001b[36m\u001b[1mResource creation Initiated\u001b[22m\u001b[39m\n",
      "SdOnEKSStack | 124/173 | 5:14:39 AM | \u001b[32mCREATE_COMPLETE     \u001b[39m | Custom::AWSCDKCfnJson                 | \u001b[32m\u001b[1mSdOnEKSStack/adot-collector-sa/ConditionJson/Resource/Default\u001b[22m\u001b[39m (SdOnEKSStackadotcollectorsaConditionJsonCFF7D02C) \n",
      "SdOnEKSStack | 124/173 | 5:14:39 AM | \u001b[0mCREATE_IN_PROGRESS  \u001b[0m | Custom::AWSCDKCfnJson                 | \u001b[0m\u001b[1mSdOnEKSStack/keda-operator/ConditionJson/Resource/Default\u001b[22m\u001b[0m (SdOnEKSStackkedaoperatorConditionJson79DC87C1) \u001b[36m\u001b[1mResource creation Initiated\u001b[22m\u001b[39m\n",
      "SdOnEKSStack | 125/173 | 5:14:39 AM | \u001b[32mCREATE_COMPLETE     \u001b[39m | Custom::AWSCDKCfnJson                 | \u001b[32m\u001b[1mSdOnEKSStack/keda-operator/ConditionJson/Resource/Default\u001b[22m\u001b[39m (SdOnEKSStackkedaoperatorConditionJson79DC87C1) \n",
      "SdOnEKSStack | 125/173 | 5:14:39 AM | \u001b[0mCREATE_IN_PROGRESS  \u001b[0m | Custom::AWSCDKCfnJson                 | \u001b[0m\u001b[1mSdOnEKSStack/WebUISAdynamicsdruntime/ConditionJson/Resource/Default\u001b[22m\u001b[0m (SdOnEKSStackWebUISAdynamicsdruntimeConditionJson9BF66A3F) \u001b[36m\u001b[1mResource creation Initiated\u001b[22m\u001b[39m\n",
      "SdOnEKSStack | 125/173 | 5:14:39 AM | \u001b[0mCREATE_IN_PROGRESS  \u001b[0m | Custom::AWSCDKCfnJson                 | \u001b[0m\u001b[1mSdOnEKSStack/blueprints-addon-karpenter-sa/ConditionJson/Resource/Default\u001b[22m\u001b[0m (SdOnEKSStackblueprintsaddonkarpentersaConditionJsonECAB73FC) \u001b[36m\u001b[1mResource creation Initiated\u001b[22m\u001b[39m\n",
      "SdOnEKSStack | 125/173 | 5:14:39 AM | \u001b[0mCREATE_IN_PROGRESS  \u001b[0m | Custom::AWSCDKCfnJson                 | \u001b[0m\u001b[1mSdOnEKSStack/WebUISAsdruntime/ConditionJson/Resource/Default\u001b[22m\u001b[0m (SdOnEKSStackWebUISAsdruntimeConditionJson2B21D90B) \u001b[36m\u001b[1mResource creation Initiated\u001b[22m\u001b[39m\n",
      "SdOnEKSStack | 125/173 | 5:14:39 AM | \u001b[0mCREATE_IN_PROGRESS  \u001b[0m | Custom::AWSCDKCfnJson                 | \u001b[0m\u001b[1mSdOnEKSStack/aws-for-fluent-bit-sa/ConditionJson/Resource/Default\u001b[22m\u001b[0m (SdOnEKSStackawsforfluentbitsaConditionJson3A3C1FDC) \u001b[36m\u001b[1mResource creation Initiated\u001b[22m\u001b[39m\n",
      "SdOnEKSStack | 126/173 | 5:14:39 AM | \u001b[32mCREATE_COMPLETE     \u001b[39m | Custom::AWSCDKCfnJson                 | \u001b[32m\u001b[1mSdOnEKSStack/WebUISAdynamicsdruntime/ConditionJson/Resource/Default\u001b[22m\u001b[39m (SdOnEKSStackWebUISAdynamicsdruntimeConditionJson9BF66A3F) \n",
      "SdOnEKSStack | 127/173 | 5:14:40 AM | \u001b[32mCREATE_COMPLETE     \u001b[39m | Custom::AWSCDKCfnJson                 | \u001b[32m\u001b[1mSdOnEKSStack/blueprints-addon-karpenter-sa/ConditionJson/Resource/Default\u001b[22m\u001b[39m (SdOnEKSStackblueprintsaddonkarpentersaConditionJsonECAB73FC) \n",
      "SdOnEKSStack | 128/173 | 5:14:40 AM | \u001b[32mCREATE_COMPLETE     \u001b[39m | Custom::AWSCDKCfnJson                 | \u001b[32m\u001b[1mSdOnEKSStack/WebUISAsdruntime/ConditionJson/Resource/Default\u001b[22m\u001b[39m (SdOnEKSStackWebUISAsdruntimeConditionJson2B21D90B) \n",
      "SdOnEKSStack | 129/173 | 5:14:40 AM | \u001b[32mCREATE_COMPLETE     \u001b[39m | Custom::AWSCDKCfnJson                 | \u001b[32m\u001b[1mSdOnEKSStack/aws-for-fluent-bit-sa/ConditionJson/Resource/Default\u001b[22m\u001b[39m (SdOnEKSStackawsforfluentbitsaConditionJson3A3C1FDC) \n",
      "SdOnEKSStack | 129/173 | 5:14:40 AM | \u001b[0mCREATE_IN_PROGRESS  \u001b[0m | AWS::IAM::Role                        | \u001b[0m\u001b[1mSdOnEKSStack/adot-collector-sa/Role\u001b[22m\u001b[0m (SdOnEKSStackadotcollectorsaRole9571449A) \n",
      "SdOnEKSStack | 129/173 | 5:14:41 AM | \u001b[0mCREATE_IN_PROGRESS  \u001b[0m | AWS::IAM::Role                        | \u001b[0m\u001b[1mSdOnEKSStack/keda-operator/Role\u001b[22m\u001b[0m (SdOnEKSStackkedaoperatorRole37F6694F) \n",
      "SdOnEKSStack | 129/173 | 5:14:41 AM | \u001b[0mCREATE_IN_PROGRESS  \u001b[0m | AWS::IAM::Role                        | \u001b[0m\u001b[1mSdOnEKSStack/adot-collector-sa/Role\u001b[22m\u001b[0m (SdOnEKSStackadotcollectorsaRole9571449A) \u001b[36m\u001b[1mResource creation Initiated\u001b[22m\u001b[39m\n",
      "SdOnEKSStack | 129/173 | 5:14:41 AM | \u001b[0mCREATE_IN_PROGRESS  \u001b[0m | AWS::IAM::Role                        | \u001b[0m\u001b[1mSdOnEKSStack/WebUISAsdruntime/Role\u001b[22m\u001b[0m (SdOnEKSStackWebUISAsdruntimeRoleF6DF2E61) \n",
      "SdOnEKSStack | 129/173 | 5:14:41 AM | \u001b[0mCREATE_IN_PROGRESS  \u001b[0m | AWS::IAM::Role                        | \u001b[0m\u001b[1mSdOnEKSStack/aws-for-fluent-bit-sa/Role\u001b[22m\u001b[0m (SdOnEKSStackawsforfluentbitsaRole75342FDD) \n",
      "SdOnEKSStack | 129/173 | 5:14:41 AM | \u001b[0mCREATE_IN_PROGRESS  \u001b[0m | AWS::IAM::Role                        | \u001b[0m\u001b[1mSdOnEKSStack/WebUISAdynamicsdruntime/Role\u001b[22m\u001b[0m (SdOnEKSStackWebUISAdynamicsdruntimeRole6BA96D81) \n",
      "SdOnEKSStack | 129/173 | 5:14:41 AM | \u001b[0mCREATE_IN_PROGRESS  \u001b[0m | AWS::IAM::Role                        | \u001b[0m\u001b[1mSdOnEKSStack/blueprints-addon-karpenter-sa/Role\u001b[22m\u001b[0m (SdOnEKSStackblueprintsaddonkarpentersaRole320E60C0) \n",
      "SdOnEKSStack | 129/173 | 5:14:41 AM | \u001b[0mCREATE_IN_PROGRESS  \u001b[0m | Custom::AWSCDK-EKS-KubernetesResource | \u001b[0m\u001b[1mSdOnEKSStack/manifest-sdruntimeEfsModelStoragePv/Resource/Default\u001b[22m\u001b[0m (SdOnEKSStackmanifestsdruntimeEfsModelStoragePv33EDADE1) \u001b[36m\u001b[1mResource creation Initiated\u001b[22m\u001b[39m\n",
      "SdOnEKSStack | 129/173 | 5:14:41 AM | \u001b[0mCREATE_IN_PROGRESS  \u001b[0m | Custom::AWSCDK-EKS-KubernetesResource | \u001b[0m\u001b[1mSdOnEKSStack/manifest-sdruntimeEfsModelStoragePvc/Resource/Default\u001b[22m\u001b[0m (SdOnEKSStackmanifestsdruntimeEfsModelStoragePvcD33466E1) \u001b[36m\u001b[1mResource creation Initiated\u001b[22m\u001b[39m\n",
      "SdOnEKSStack | 129/173 | 5:14:41 AM | \u001b[0mCREATE_IN_PROGRESS  \u001b[0m | Custom::AWSCDK-EKS-KubernetesResource | \u001b[0m\u001b[1mSdOnEKSStack/manifest-dynamicsdruntimeEfsModelStoragePvc/Resource/Default\u001b[22m\u001b[0m (SdOnEKSStackmanifestdynamicsdruntimeEfsModelStoragePvc317F46C9) \u001b[36m\u001b[1mResource creation Initiated\u001b[22m\u001b[39m\n",
      "SdOnEKSStack | 129/173 | 5:14:42 AM | \u001b[0mCREATE_IN_PROGRESS  \u001b[0m | Custom::AWSCDK-EKS-KubernetesResource | \u001b[0m\u001b[1mSdOnEKSStack/manifest-dynamicsdruntimeEfsModelStoragePv/Resource/Default\u001b[22m\u001b[0m (SdOnEKSStackmanifestdynamicsdruntimeEfsModelStoragePv3F043670) \u001b[36m\u001b[1mResource creation Initiated\u001b[22m\u001b[39m\n",
      "SdOnEKSStack | 130/173 | 5:14:42 AM | \u001b[32mCREATE_COMPLETE     \u001b[39m | Custom::AWSCDK-EKS-KubernetesResource | \u001b[32m\u001b[1mSdOnEKSStack/manifest-sdruntimeEfsModelStoragePv/Resource/Default\u001b[22m\u001b[39m (SdOnEKSStackmanifestsdruntimeEfsModelStoragePv33EDADE1) \n",
      "SdOnEKSStack | 130/173 | 5:14:42 AM | \u001b[0mCREATE_IN_PROGRESS  \u001b[0m | AWS::IAM::Role                        | \u001b[0m\u001b[1mSdOnEKSStack/keda-operator/Role\u001b[22m\u001b[0m (SdOnEKSStackkedaoperatorRole37F6694F) \u001b[36m\u001b[1mResource creation Initiated\u001b[22m\u001b[39m\n",
      "SdOnEKSStack | 131/173 | 5:14:42 AM | \u001b[32mCREATE_COMPLETE     \u001b[39m | Custom::AWSCDK-EKS-KubernetesResource | \u001b[32m\u001b[1mSdOnEKSStack/manifest-dynamicsdruntimeEfsModelStoragePvc/Resource/Default\u001b[22m\u001b[39m (SdOnEKSStackmanifestdynamicsdruntimeEfsModelStoragePvc317F46C9) \n",
      "SdOnEKSStack | 132/173 | 5:14:42 AM | \u001b[32mCREATE_COMPLETE     \u001b[39m | Custom::AWSCDK-EKS-KubernetesResource | \u001b[32m\u001b[1mSdOnEKSStack/manifest-sdruntimeEfsModelStoragePvc/Resource/Default\u001b[22m\u001b[39m (SdOnEKSStackmanifestsdruntimeEfsModelStoragePvcD33466E1) \n",
      "SdOnEKSStack | 132/173 | 5:14:42 AM | \u001b[0mCREATE_IN_PROGRESS  \u001b[0m | AWS::IAM::Role                        | \u001b[0m\u001b[1mSdOnEKSStack/blueprints-addon-karpenter-sa/Role\u001b[22m\u001b[0m (SdOnEKSStackblueprintsaddonkarpentersaRole320E60C0) \u001b[36m\u001b[1mResource creation Initiated\u001b[22m\u001b[39m\n",
      "SdOnEKSStack | 132/173 | 5:14:42 AM | \u001b[0mCREATE_IN_PROGRESS  \u001b[0m | AWS::IAM::Role                        | \u001b[0m\u001b[1mSdOnEKSStack/WebUISAdynamicsdruntime/Role\u001b[22m\u001b[0m (SdOnEKSStackWebUISAdynamicsdruntimeRole6BA96D81) \u001b[36m\u001b[1mResource creation Initiated\u001b[22m\u001b[39m\n",
      "SdOnEKSStack | 133/173 | 5:14:42 AM | \u001b[32mCREATE_COMPLETE     \u001b[39m | Custom::AWSCDK-EKS-KubernetesResource | \u001b[32m\u001b[1mSdOnEKSStack/manifest-dynamicsdruntimeEfsModelStoragePv/Resource/Default\u001b[22m\u001b[39m (SdOnEKSStackmanifestdynamicsdruntimeEfsModelStoragePv3F043670) \n",
      "SdOnEKSStack | 133/173 | 5:14:42 AM | \u001b[0mCREATE_IN_PROGRESS  \u001b[0m | AWS::IAM::Role                        | \u001b[0m\u001b[1mSdOnEKSStack/WebUISAsdruntime/Role\u001b[22m\u001b[0m (SdOnEKSStackWebUISAsdruntimeRoleF6DF2E61) \u001b[36m\u001b[1mResource creation Initiated\u001b[22m\u001b[39m\n",
      "SdOnEKSStack | 133/173 | 5:14:42 AM | \u001b[0mCREATE_IN_PROGRESS  \u001b[0m | AWS::IAM::Role                        | \u001b[0m\u001b[1mSdOnEKSStack/aws-for-fluent-bit-sa/Role\u001b[22m\u001b[0m (SdOnEKSStackawsforfluentbitsaRole75342FDD) \u001b[36m\u001b[1mResource creation Initiated\u001b[22m\u001b[39m\n",
      "SdOnEKSStack | 133/173 | 5:14:47 AM | \u001b[0mCREATE_IN_PROGRESS  \u001b[0m | Custom::AWSCDK-EKS-HelmChart          | \u001b[0m\u001b[1mSdOnEKSStack/chart-aws-load-balancer-controller/Resource/Default\u001b[22m\u001b[0m (SdOnEKSStackchartawsloadbalancercontrollerF859548A) \u001b[36m\u001b[1mResource creation Initiated\u001b[22m\u001b[39m\n",
      "SdOnEKSStack | 134/173 | 5:14:47 AM | \u001b[32mCREATE_COMPLETE     \u001b[39m | Custom::AWSCDK-EKS-HelmChart          | \u001b[32m\u001b[1mSdOnEKSStack/chart-aws-load-balancer-controller/Resource/Default\u001b[22m\u001b[39m (SdOnEKSStackchartawsloadbalancercontrollerF859548A) \n",
      "SdOnEKSStack | 134/173 | 5:14:48 AM | \u001b[0mCREATE_IN_PROGRESS  \u001b[0m | AWS::ApiGateway::UsagePlan            | \u001b[0m\u001b[1mFrontApi/UsagePlan\u001b[22m\u001b[0m (FrontApiUsagePlan38276D77) \n",
      "SdOnEKSStack | 134/173 | 5:14:48 AM | \u001b[0mCREATE_IN_PROGRESS  \u001b[0m | AWS::EKS::Addon                       | \u001b[0m\u001b[1maws-ebs-csi-driver-addOn\u001b[22m\u001b[0m (awsebscsidriveraddOn) \n",
      "SdOnEKSStack | 134/173 | 5:14:48 AM | \u001b[0mCREATE_IN_PROGRESS  \u001b[0m | Custom::AWSCDK-EKS-HelmChart          | \u001b[0m\u001b[1mSdOnEKSStack/chart-nvidiaDevicePluginAddOn/Resource/Default\u001b[22m\u001b[0m (SdOnEKSStackchartnvidiaDevicePluginAddOn869ACF28) \n",
      "SdOnEKSStack | 134/173 | 5:14:48 AM | \u001b[0mCREATE_IN_PROGRESS  \u001b[0m | Custom::AWSCDK-EKS-HelmChart          | \u001b[0m\u001b[1mSdOnEKSStack/chart-aws-efs-csi-driver/Resource/Default\u001b[22m\u001b[0m (SdOnEKSStackchartawsefscsidriver02A9D6A9) \n",
      "SdOnEKSStack | 134/173 | 5:14:48 AM | \u001b[0mCREATE_IN_PROGRESS  \u001b[0m | AWS::Events::Rule                     | \u001b[0m\u001b[1mEbsThroughputTunerRule\u001b[22m\u001b[0m (EbsThroughputTunerRule5E261683) \n",
      "SdOnEKSStack | 134/173 | 5:14:49 AM | \u001b[0mCREATE_IN_PROGRESS  \u001b[0m | AWS::Events::Rule                     | \u001b[0m\u001b[1mEbsThroughputTunerRule\u001b[22m\u001b[0m (EbsThroughputTunerRule5E261683) \u001b[36m\u001b[1mResource creation Initiated\u001b[22m\u001b[39m\n",
      "SdOnEKSStack | 134/173 | 5:14:49 AM | \u001b[0mCREATE_IN_PROGRESS  \u001b[0m | AWS::ApiGateway::UsagePlan            | \u001b[0m\u001b[1mFrontApi/UsagePlan\u001b[22m\u001b[0m (FrontApiUsagePlan38276D77) \u001b[36m\u001b[1mResource creation Initiated\u001b[22m\u001b[39m\n",
      "SdOnEKSStack | 134/173 | 5:14:49 AM | \u001b[0mCREATE_IN_PROGRESS  \u001b[0m | AWS::EKS::Addon                       | \u001b[0m\u001b[1maws-ebs-csi-driver-addOn\u001b[22m\u001b[0m (awsebscsidriveraddOn) \u001b[36m\u001b[1mResource creation Initiated\u001b[22m\u001b[39m\n",
      "SdOnEKSStack | 135/173 | 5:14:50 AM | \u001b[32mCREATE_COMPLETE     \u001b[39m | AWS::ApiGateway::UsagePlan            | \u001b[32m\u001b[1mFrontApi/UsagePlan\u001b[22m\u001b[39m (FrontApiUsagePlan38276D77) \n",
      "SdOnEKSStack | 135/173 | 5:14:51 AM | \u001b[0mCREATE_IN_PROGRESS  \u001b[0m | AWS::ApiGateway::UsagePlanKey         | \u001b[0m\u001b[1mFrontApi/UsagePlan/UsagePlanKeyResource:SdOnEKSStackdefaultAPIKeyD9ABE4E3\u001b[22m\u001b[0m (FrontApiUsagePlanUsagePlanKeyResourceSdOnEKSStackdefaultAPIKeyD9ABE4E3D2A92A92) \n",
      "SdOnEKSStack | 135/173 | 5:14:52 AM | \u001b[0mCREATE_IN_PROGRESS  \u001b[0m | AWS::ApiGateway::UsagePlanKey         | \u001b[0m\u001b[1mFrontApi/UsagePlan/UsagePlanKeyResource:SdOnEKSStackdefaultAPIKeyD9ABE4E3\u001b[22m\u001b[0m (FrontApiUsagePlanUsagePlanKeyResourceSdOnEKSStackdefaultAPIKeyD9ABE4E3D2A92A92) \u001b[36m\u001b[1mResource creation Initiated\u001b[22m\u001b[39m\n",
      "SdOnEKSStack | 136/173 | 5:14:52 AM | \u001b[32mCREATE_COMPLETE     \u001b[39m | AWS::ApiGateway::UsagePlanKey         | \u001b[32m\u001b[1mFrontApi/UsagePlan/UsagePlanKeyResource:SdOnEKSStackdefaultAPIKeyD9ABE4E3\u001b[22m\u001b[39m (FrontApiUsagePlanUsagePlanKeyResourceSdOnEKSStackdefaultAPIKeyD9ABE4E3D2A92A92) \n",
      "SdOnEKSStack | 136/173 | 5:14:53 AM | \u001b[0mCREATE_IN_PROGRESS  \u001b[0m | Custom::AWSCDK-EKS-HelmChart          | \u001b[0m\u001b[1mSdOnEKSStack/chart-nvidiaDevicePluginAddOn/Resource/Default\u001b[22m\u001b[0m (SdOnEKSStackchartnvidiaDevicePluginAddOn869ACF28) \u001b[36m\u001b[1mResource creation Initiated\u001b[22m\u001b[39m\n",
      "SdOnEKSStack | 137/173 | 5:14:53 AM | \u001b[32mCREATE_COMPLETE     \u001b[39m | Custom::AWSCDK-EKS-HelmChart          | \u001b[32m\u001b[1mSdOnEKSStack/chart-nvidiaDevicePluginAddOn/Resource/Default\u001b[22m\u001b[39m (SdOnEKSStackchartnvidiaDevicePluginAddOn869ACF28) \n",
      "SdOnEKSStack | 137/173 | 5:14:54 AM | \u001b[0mCREATE_IN_PROGRESS  \u001b[0m | Custom::AWSCDK-EKS-HelmChart          | \u001b[0m\u001b[1mSdOnEKSStack/chart-aws-efs-csi-driver/Resource/Default\u001b[22m\u001b[0m (SdOnEKSStackchartawsefscsidriver02A9D6A9) \u001b[36m\u001b[1mResource creation Initiated\u001b[22m\u001b[39m\n",
      "SdOnEKSStack | 138/173 | 5:14:54 AM | \u001b[32mCREATE_COMPLETE     \u001b[39m | Custom::AWSCDK-EKS-HelmChart          | \u001b[32m\u001b[1mSdOnEKSStack/chart-aws-efs-csi-driver/Resource/Default\u001b[22m\u001b[39m (SdOnEKSStackchartawsefscsidriver02A9D6A9) \n",
      "SdOnEKSStack | 138/173 | 5:14:58 AM | \u001b[0mCREATE_IN_PROGRESS  \u001b[0m | AWS::Scheduler::Schedule              | \u001b[0m\u001b[1mdataSyncScheduler\u001b[22m\u001b[0m \n",
      "SdOnEKSStack | 139/173 | 5:14:58 AM | \u001b[32mCREATE_COMPLETE     \u001b[39m | AWS::IAM::Role                        | \u001b[32m\u001b[1mSdOnEKSStack/adot-collector-sa/Role\u001b[22m\u001b[39m (SdOnEKSStackadotcollectorsaRole9571449A) \n",
      "SdOnEKSStack | 139/173 | 5:14:59 AM | \u001b[0mCREATE_IN_PROGRESS  \u001b[0m | AWS::Scheduler::Schedule              | \u001b[0m\u001b[1mdataSyncScheduler\u001b[22m\u001b[0m \u001b[36m\u001b[1mResource creation Initiated\u001b[22m\u001b[39m\n",
      "SdOnEKSStack | 140/173 | 5:14:59 AM | \u001b[32mCREATE_COMPLETE     \u001b[39m | AWS::IAM::Role                        | \u001b[32m\u001b[1mSdOnEKSStack/keda-operator/Role\u001b[22m\u001b[39m (SdOnEKSStackkedaoperatorRole37F6694F) \n",
      "SdOnEKSStack | 141/173 | 5:14:59 AM | \u001b[32mCREATE_COMPLETE     \u001b[39m | AWS::IAM::Role                        | \u001b[32m\u001b[1mSdOnEKSStack/WebUISAdynamicsdruntime/Role\u001b[22m\u001b[39m (SdOnEKSStackWebUISAdynamicsdruntimeRole6BA96D81) \n",
      "SdOnEKSStack | 142/173 | 5:14:59 AM | \u001b[32mCREATE_COMPLETE     \u001b[39m | AWS::IAM::Role                        | \u001b[32m\u001b[1mSdOnEKSStack/blueprints-addon-karpenter-sa/Role\u001b[22m\u001b[39m (SdOnEKSStackblueprintsaddonkarpentersaRole320E60C0) \n",
      "SdOnEKSStack | 143/173 | 5:14:59 AM | \u001b[32mCREATE_COMPLETE     \u001b[39m | AWS::Scheduler::Schedule              | \u001b[32m\u001b[1mdataSyncScheduler\u001b[22m\u001b[39m \n",
      "SdOnEKSStack | 144/173 | 5:14:59 AM | \u001b[32mCREATE_COMPLETE     \u001b[39m | AWS::IAM::Role                        | \u001b[32m\u001b[1mSdOnEKSStack/WebUISAsdruntime/Role\u001b[22m\u001b[39m (SdOnEKSStackWebUISAsdruntimeRoleF6DF2E61) \n",
      "SdOnEKSStack | 145/173 | 5:14:59 AM | \u001b[32mCREATE_COMPLETE     \u001b[39m | AWS::IAM::Role                        | \u001b[32m\u001b[1mSdOnEKSStack/aws-for-fluent-bit-sa/Role\u001b[22m\u001b[39m (SdOnEKSStackawsforfluentbitsaRole75342FDD) \n",
      "SdOnEKSStack | 145/173 | 5:14:59 AM | \u001b[0mCREATE_IN_PROGRESS  \u001b[0m | Custom::AWSCDK-EKS-KubernetesResource | \u001b[0m\u001b[1mSdOnEKSStack/adot-collector-sa/manifest-adot-collector-saServiceAccountResource/Resource/Default\u001b[22m\u001b[0m (SdOnEKSStackadotcollectorsamanifestadotcollectorsaServiceAccountResource5452B6BC) \n",
      "SdOnEKSStack | 145/173 | 5:15:00 AM | \u001b[0mCREATE_IN_PROGRESS  \u001b[0m | AWS::IAM::Policy                      | \u001b[0m\u001b[1mSdOnEKSStack/WebUISAdynamicsdruntime/Role/DefaultPolicy\u001b[22m\u001b[0m (SdOnEKSStackWebUISAdynamicsdruntimeRoleDefaultPolicy9D9CC8F4) \n",
      "SdOnEKSStack | 145/173 | 5:15:01 AM | \u001b[0mCREATE_IN_PROGRESS  \u001b[0m | Custom::AWSCDK-EKS-KubernetesResource | \u001b[0m\u001b[1mSdOnEKSStack/keda-operator/manifest-keda-operatorServiceAccountResource/Resource/Default\u001b[22m\u001b[0m (SdOnEKSStackkedaoperatormanifestkedaoperatorServiceAccountResource2E5AB48B) \n",
      "SdOnEKSStack | 145/173 | 5:15:01 AM | \u001b[0mCREATE_IN_PROGRESS  \u001b[0m | Custom::AWSCDK-EKS-KubernetesResource | \u001b[0m\u001b[1mSdOnEKSStack/WebUISAdynamicsdruntime/manifest-WebUISAdynamicsdruntimeServiceAccountResource/Resource/Default\u001b[22m\u001b[0m (SdOnEKSStackWebUISAdynamicsdruntimemanifestWebUISAdynamicsdruntimeServiceAccountResourceDE9D7724) \n",
      "SdOnEKSStack | 145/173 | 5:15:01 AM | \u001b[0mCREATE_IN_PROGRESS  \u001b[0m | AWS::IAM::Policy                      | \u001b[0m\u001b[1mSdOnEKSStack/WebUISAsdruntime/Role/DefaultPolicy\u001b[22m\u001b[0m (SdOnEKSStackWebUISAsdruntimeRoleDefaultPolicy9707591E) \n",
      "SdOnEKSStack | 145/173 | 5:15:01 AM | \u001b[0mCREATE_IN_PROGRESS  \u001b[0m | AWS::IAM::Policy                      | \u001b[0m\u001b[1mSdOnEKSStack/aws-for-fluent-bit-sa/Role/DefaultPolicy\u001b[22m\u001b[0m (SdOnEKSStackawsforfluentbitsaRoleDefaultPolicyB2498E0A) \n",
      "SdOnEKSStack | 145/173 | 5:15:01 AM | \u001b[0mCREATE_IN_PROGRESS  \u001b[0m | Custom::AWSCDK-EKS-KubernetesResource | \u001b[0m\u001b[1mSdOnEKSStack/aws-for-fluent-bit-sa/manifest-aws-for-fluent-bit-saServiceAccountResource/Resource/Default\u001b[22m\u001b[0m (SdOnEKSStackawsforfluentbitsamanifestawsforfluentbitsaServiceAccountResource3029CE56) \n",
      "SdOnEKSStack | 145/173 | 5:15:01 AM | \u001b[0mCREATE_IN_PROGRESS  \u001b[0m | Custom::AWSCDK-EKS-KubernetesResource | \u001b[0m\u001b[1mSdOnEKSStack/blueprints-addon-karpenter-sa/manifest-blueprints-addon-karpenter-saServiceAccountResource/Resource/Default\u001b[22m\u001b[0m (SdOnEKSStackblueprintsaddonkarpentersamanifestblueprintsaddonkarpentersaServiceAccountResourceD30F1B63) \n",
      "SdOnEKSStack | 145/173 | 5:15:01 AM | \u001b[0mCREATE_IN_PROGRESS  \u001b[0m | Custom::AWSCDK-EKS-HelmChart          | \u001b[0m\u001b[1mSdOnEKSStack/chart-karpenter/Resource/Default\u001b[22m\u001b[0m (SdOnEKSStackchartkarpenter4A3ED0A9) \n",
      "SdOnEKSStack | 145/173 | 5:15:01 AM | \u001b[0mCREATE_IN_PROGRESS  \u001b[0m | Custom::AWSCDK-EKS-KubernetesResource | \u001b[0m\u001b[1mSdOnEKSStack/WebUISAsdruntime/manifest-WebUISAsdruntimeServiceAccountResource/Resource/Default\u001b[22m\u001b[0m (SdOnEKSStackWebUISAsdruntimemanifestWebUISAsdruntimeServiceAccountResource762504D4) \n",
      "SdOnEKSStack | 145/173 | 5:15:02 AM | \u001b[0mCREATE_IN_PROGRESS  \u001b[0m | AWS::IAM::Policy                      | \u001b[0m\u001b[1mSdOnEKSStack/WebUISAdynamicsdruntime/Role/DefaultPolicy\u001b[22m\u001b[0m (SdOnEKSStackWebUISAdynamicsdruntimeRoleDefaultPolicy9D9CC8F4) \u001b[36m\u001b[1mResource creation Initiated\u001b[22m\u001b[39m\n",
      "SdOnEKSStack | 145/173 | 5:15:02 AM | \u001b[0mCREATE_IN_PROGRESS  \u001b[0m | AWS::IAM::Policy                      | \u001b[0m\u001b[1mSdOnEKSStack/aws-for-fluent-bit-sa/Role/DefaultPolicy\u001b[22m\u001b[0m (SdOnEKSStackawsforfluentbitsaRoleDefaultPolicyB2498E0A) \u001b[36m\u001b[1mResource creation Initiated\u001b[22m\u001b[39m\n",
      "SdOnEKSStack | 145/173 | 5:15:02 AM | \u001b[0mCREATE_IN_PROGRESS  \u001b[0m | AWS::IAM::Policy                      | \u001b[0m\u001b[1mSdOnEKSStack/WebUISAsdruntime/Role/DefaultPolicy\u001b[22m\u001b[0m (SdOnEKSStackWebUISAsdruntimeRoleDefaultPolicy9707591E) \u001b[36m\u001b[1mResource creation Initiated\u001b[22m\u001b[39m\n",
      "SdOnEKSStack | 145/173 | 5:15:03 AM | \u001b[0mCREATE_IN_PROGRESS  \u001b[0m | Custom::AWSCDK-EKS-KubernetesResource | \u001b[0m\u001b[1mSdOnEKSStack/adot-collector-sa/manifest-adot-collector-saServiceAccountResource/Resource/Default\u001b[22m\u001b[0m (SdOnEKSStackadotcollectorsamanifestadotcollectorsaServiceAccountResource5452B6BC) \u001b[36m\u001b[1mResource creation Initiated\u001b[22m\u001b[39m\n",
      "SdOnEKSStack | 146/173 | 5:15:04 AM | \u001b[32mCREATE_COMPLETE     \u001b[39m | Custom::AWSCDK-EKS-KubernetesResource | \u001b[32m\u001b[1mSdOnEKSStack/adot-collector-sa/manifest-adot-collector-saServiceAccountResource/Resource/Default\u001b[22m\u001b[39m (SdOnEKSStackadotcollectorsamanifestadotcollectorsaServiceAccountResource5452B6BC) \n",
      "SdOnEKSStack | 146/173 | 5:15:05 AM | \u001b[0mCREATE_IN_PROGRESS  \u001b[0m | Custom::AWSCDK-EKS-KubernetesResource | \u001b[0m\u001b[1mSdOnEKSStack/keda-operator/manifest-keda-operatorServiceAccountResource/Resource/Default\u001b[22m\u001b[0m (SdOnEKSStackkedaoperatormanifestkedaoperatorServiceAccountResource2E5AB48B) \u001b[36m\u001b[1mResource creation Initiated\u001b[22m\u001b[39m\n",
      "SdOnEKSStack | 147/173 | 5:15:05 AM | \u001b[32mCREATE_COMPLETE     \u001b[39m | Custom::AWSCDK-EKS-KubernetesResource | \u001b[32m\u001b[1mSdOnEKSStack/keda-operator/manifest-keda-operatorServiceAccountResource/Resource/Default\u001b[22m\u001b[39m (SdOnEKSStackkedaoperatormanifestkedaoperatorServiceAccountResource2E5AB48B) \n",
      "SdOnEKSStack | 147/173 | 5:15:05 AM | \u001b[0mCREATE_IN_PROGRESS  \u001b[0m | Custom::AWSCDK-EKS-KubernetesResource | \u001b[0m\u001b[1mSdOnEKSStack/WebUISAdynamicsdruntime/manifest-WebUISAdynamicsdruntimeServiceAccountResource/Resource/Default\u001b[22m\u001b[0m (SdOnEKSStackWebUISAdynamicsdruntimemanifestWebUISAdynamicsdruntimeServiceAccountResourceDE9D7724) \u001b[36m\u001b[1mResource creation Initiated\u001b[22m\u001b[39m\n",
      "SdOnEKSStack | 148/173 | 5:15:05 AM | \u001b[32mCREATE_COMPLETE     \u001b[39m | Custom::AWSCDK-EKS-KubernetesResource | \u001b[32m\u001b[1mSdOnEKSStack/WebUISAdynamicsdruntime/manifest-WebUISAdynamicsdruntimeServiceAccountResource/Resource/Default\u001b[22m\u001b[39m (SdOnEKSStackWebUISAdynamicsdruntimemanifestWebUISAdynamicsdruntimeServiceAccountResourceDE9D7724) \n",
      "SdOnEKSStack | 148/173 | 5:15:05 AM | \u001b[0mCREATE_IN_PROGRESS  \u001b[0m | Custom::AWSCDK-EKS-KubernetesResource | \u001b[0m\u001b[1mSdOnEKSStack/aws-for-fluent-bit-sa/manifest-aws-for-fluent-bit-saServiceAccountResource/Resource/Default\u001b[22m\u001b[0m (SdOnEKSStackawsforfluentbitsamanifestawsforfluentbitsaServiceAccountResource3029CE56) \u001b[36m\u001b[1mResource creation Initiated\u001b[22m\u001b[39m\n",
      "SdOnEKSStack | 148/173 | 5:15:05 AM | \u001b[0mCREATE_IN_PROGRESS  \u001b[0m | Custom::AWSCDK-EKS-KubernetesResource | \u001b[0m\u001b[1mSdOnEKSStack/blueprints-addon-karpenter-sa/manifest-blueprints-addon-karpenter-saServiceAccountResource/Resource/Default\u001b[22m\u001b[0m (SdOnEKSStackblueprintsaddonkarpentersamanifestblueprintsaddonkarpentersaServiceAccountResourceD30F1B63) \u001b[36m\u001b[1mResource creation Initiated\u001b[22m\u001b[39m\n",
      "SdOnEKSStack | 149/173 | 5:15:05 AM | \u001b[32mCREATE_COMPLETE     \u001b[39m | Custom::AWSCDK-EKS-KubernetesResource | \u001b[32m\u001b[1mSdOnEKSStack/aws-for-fluent-bit-sa/manifest-aws-for-fluent-bit-saServiceAccountResource/Resource/Default\u001b[22m\u001b[39m (SdOnEKSStackawsforfluentbitsamanifestawsforfluentbitsaServiceAccountResource3029CE56) \n",
      "SdOnEKSStack | 149/173 | 5:15:05 AM | \u001b[0mCREATE_IN_PROGRESS  \u001b[0m | Custom::AWSCDK-EKS-KubernetesResource | \u001b[0m\u001b[1mSdOnEKSStack/WebUISAsdruntime/manifest-WebUISAsdruntimeServiceAccountResource/Resource/Default\u001b[22m\u001b[0m (SdOnEKSStackWebUISAsdruntimemanifestWebUISAsdruntimeServiceAccountResource762504D4) \u001b[36m\u001b[1mResource creation Initiated\u001b[22m\u001b[39m\n",
      "SdOnEKSStack | 150/173 | 5:15:05 AM | \u001b[32mCREATE_COMPLETE     \u001b[39m | Custom::AWSCDK-EKS-KubernetesResource | \u001b[32m\u001b[1mSdOnEKSStack/blueprints-addon-karpenter-sa/manifest-blueprints-addon-karpenter-saServiceAccountResource/Resource/Default\u001b[22m\u001b[39m (SdOnEKSStackblueprintsaddonkarpentersamanifestblueprintsaddonkarpentersaServiceAccountResourceD30F1B63) \n",
      "SdOnEKSStack | 151/173 | 5:15:06 AM | \u001b[32mCREATE_COMPLETE     \u001b[39m | Custom::AWSCDK-EKS-KubernetesResource | \u001b[32m\u001b[1mSdOnEKSStack/WebUISAsdruntime/manifest-WebUISAsdruntimeServiceAccountResource/Resource/Default\u001b[22m\u001b[39m (SdOnEKSStackWebUISAsdruntimemanifestWebUISAsdruntimeServiceAccountResource762504D4) \n",
      "SdOnEKSStack | 151/173 | 5:15:06 AM | \u001b[0mCREATE_IN_PROGRESS  \u001b[0m | Custom::AWSCDK-EKS-HelmChart          | \u001b[0m\u001b[1mSdOnEKSStack/chart-adot-exporter-for-eks-on-ec2/Resource/Default\u001b[22m\u001b[0m (SdOnEKSStackchartadotexporterforeksonec2DA266CB3) \n",
      "SdOnEKSStack | 151/173 | 5:15:07 AM | \u001b[0mCREATE_IN_PROGRESS  \u001b[0m | Custom::AWSCDK-EKS-HelmChart          | \u001b[0m\u001b[1mSdOnEKSStack/chart-blueprints-keda-addon/Resource/Default\u001b[22m\u001b[0m (SdOnEKSStackchartblueprintskedaaddon52939EC3) \n",
      "SdOnEKSStack | 151/173 | 5:15:13 AM | \u001b[0mCREATE_IN_PROGRESS  \u001b[0m | Custom::AWSCDK-EKS-HelmChart          | \u001b[0m\u001b[1mSdOnEKSStack/chart-adot-exporter-for-eks-on-ec2/Resource/Default\u001b[22m\u001b[0m (SdOnEKSStackchartadotexporterforeksonec2DA266CB3) \u001b[36m\u001b[1mResource creation Initiated\u001b[22m\u001b[39m\n",
      "SdOnEKSStack | 152/173 | 5:15:13 AM | \u001b[32mCREATE_COMPLETE     \u001b[39m | Custom::AWSCDK-EKS-HelmChart          | \u001b[32m\u001b[1mSdOnEKSStack/chart-adot-exporter-for-eks-on-ec2/Resource/Default\u001b[22m\u001b[39m (SdOnEKSStackchartadotexporterforeksonec2DA266CB3) \n",
      "SdOnEKSStack | 152/173 | 5:15:14 AM | \u001b[0mCREATE_IN_PROGRESS  \u001b[0m | Custom::AWSCDK-EKS-HelmChart          | \u001b[0m\u001b[1mSdOnEKSStack/chart-blueprints-keda-addon/Resource/Default\u001b[22m\u001b[0m (SdOnEKSStackchartblueprintskedaaddon52939EC3) \u001b[36m\u001b[1mResource creation Initiated\u001b[22m\u001b[39m\n",
      "SdOnEKSStack | 153/173 | 5:15:15 AM | \u001b[32mCREATE_COMPLETE     \u001b[39m | Custom::AWSCDK-EKS-HelmChart          | \u001b[32m\u001b[1mSdOnEKSStack/chart-blueprints-keda-addon/Resource/Default\u001b[22m\u001b[39m (SdOnEKSStackchartblueprintskedaaddon52939EC3) \n",
      "SdOnEKSStack | 154/173 | 5:15:17 AM | \u001b[32mCREATE_COMPLETE     \u001b[39m | AWS::IAM::Policy                      | \u001b[32m\u001b[1mSdOnEKSStack/WebUISAdynamicsdruntime/Role/DefaultPolicy\u001b[22m\u001b[39m (SdOnEKSStackWebUISAdynamicsdruntimeRoleDefaultPolicy9D9CC8F4) \n",
      "SdOnEKSStack | 155/173 | 5:15:17 AM | \u001b[32mCREATE_COMPLETE     \u001b[39m | AWS::IAM::Policy                      | \u001b[32m\u001b[1mSdOnEKSStack/aws-for-fluent-bit-sa/Role/DefaultPolicy\u001b[22m\u001b[39m (SdOnEKSStackawsforfluentbitsaRoleDefaultPolicyB2498E0A) \n",
      "SdOnEKSStack | 156/173 | 5:15:18 AM | \u001b[32mCREATE_COMPLETE     \u001b[39m | AWS::IAM::Policy                      | \u001b[32m\u001b[1mSdOnEKSStack/WebUISAsdruntime/Role/DefaultPolicy\u001b[22m\u001b[39m (SdOnEKSStackWebUISAsdruntimeRoleDefaultPolicy9707591E) \n",
      "SdOnEKSStack | 156/173 | 5:15:19 AM | \u001b[0mCREATE_IN_PROGRESS  \u001b[0m | Custom::AWSCDK-EKS-HelmChart          | \u001b[0m\u001b[1mSdOnEKSStack/chart-fluent-bit/Resource/Default\u001b[22m\u001b[0m (SdOnEKSStackchartfluentbit2C5E99C2) \n",
      "SdOnEKSStack | 156/173 | 5:15:22 AM | \u001b[0mCREATE_IN_PROGRESS  \u001b[0m | Custom::AWSCDK-EKS-HelmChart          | \u001b[0m\u001b[1mSdOnEKSStack/chart-karpenter/Resource/Default\u001b[22m\u001b[0m (SdOnEKSStackchartkarpenter4A3ED0A9) \u001b[36m\u001b[1mResource creation Initiated\u001b[22m\u001b[39m\n",
      "SdOnEKSStack | 157/173 | 5:15:22 AM | \u001b[32mCREATE_COMPLETE     \u001b[39m | Custom::AWSCDK-EKS-HelmChart          | \u001b[32m\u001b[1mSdOnEKSStack/chart-karpenter/Resource/Default\u001b[22m\u001b[39m (SdOnEKSStackchartkarpenter4A3ED0A9) \n",
      "SdOnEKSStack | 157/173 | 5:15:24 AM | \u001b[0mCREATE_IN_PROGRESS  \u001b[0m | Custom::AWSCDK-EKS-HelmChart          | \u001b[0m\u001b[1mSdOnEKSStack/chart-dynamicsdruntimeAddon/Resource/Default\u001b[22m\u001b[0m (SdOnEKSStackchartdynamicsdruntimeAddon67AF6F7E) \n",
      "SdOnEKSStack | 157/173 | 5:15:24 AM | \u001b[0mCREATE_IN_PROGRESS  \u001b[0m | Custom::AWSCDK-EKS-HelmChart          | \u001b[0m\u001b[1mSdOnEKSStack/chart-sdruntimeAddon/Resource/Default\u001b[22m\u001b[0m (SdOnEKSStackchartsdruntimeAddon7E505150) \n",
      "SdOnEKSStack | 157/173 | 5:15:24 AM | \u001b[0mCREATE_IN_PROGRESS  \u001b[0m | Custom::AWSCDK-EKS-HelmChart          | \u001b[0m\u001b[1mSdOnEKSStack/chart-fluent-bit/Resource/Default\u001b[22m\u001b[0m (SdOnEKSStackchartfluentbit2C5E99C2) \u001b[36m\u001b[1mResource creation Initiated\u001b[22m\u001b[39m\n",
      "SdOnEKSStack | 158/173 | 5:15:24 AM | \u001b[32mCREATE_COMPLETE     \u001b[39m | Custom::AWSCDK-EKS-HelmChart          | \u001b[32m\u001b[1mSdOnEKSStack/chart-fluent-bit/Resource/Default\u001b[22m\u001b[39m (SdOnEKSStackchartfluentbit2C5E99C2) \n",
      "SdOnEKSStack | 158/173 | 5:15:29 AM | \u001b[0mCREATE_IN_PROGRESS  \u001b[0m | Custom::AWSCDK-EKS-HelmChart          | \u001b[0m\u001b[1mSdOnEKSStack/chart-dynamicsdruntimeAddon/Resource/Default\u001b[22m\u001b[0m (SdOnEKSStackchartdynamicsdruntimeAddon67AF6F7E) \u001b[36m\u001b[1mResource creation Initiated\u001b[22m\u001b[39m\n",
      "SdOnEKSStack | 159/173 | 5:15:29 AM | \u001b[32mCREATE_COMPLETE     \u001b[39m | Custom::AWSCDK-EKS-HelmChart          | \u001b[32m\u001b[1mSdOnEKSStack/chart-dynamicsdruntimeAddon/Resource/Default\u001b[22m\u001b[39m (SdOnEKSStackchartdynamicsdruntimeAddon67AF6F7E) \n",
      "SdOnEKSStack | 159/173 | 5:15:30 AM | \u001b[0mCREATE_IN_PROGRESS  \u001b[0m | Custom::AWSCDK-EKS-HelmChart          | \u001b[0m\u001b[1mSdOnEKSStack/chart-sdruntimeAddon/Resource/Default\u001b[22m\u001b[0m (SdOnEKSStackchartsdruntimeAddon7E505150) \u001b[36m\u001b[1mResource creation Initiated\u001b[22m\u001b[39m\n",
      "SdOnEKSStack | 160/173 | 5:15:30 AM | \u001b[32mCREATE_COMPLETE     \u001b[39m | Custom::AWSCDK-EKS-HelmChart          | \u001b[32m\u001b[1mSdOnEKSStack/chart-sdruntimeAddon/Resource/Default\u001b[22m\u001b[39m (SdOnEKSStackchartsdruntimeAddon7E505150) \n",
      "SdOnEKSStack | 161/173 | 5:15:33 AM | \u001b[32mCREATE_COMPLETE     \u001b[39m | AWS::EKS::Addon                       | \u001b[32m\u001b[1maws-ebs-csi-driver-addOn\u001b[22m\u001b[39m (awsebscsidriveraddOn) \n",
      "SdOnEKSStack | 162/173 | 5:15:49 AM | \u001b[32mCREATE_COMPLETE     \u001b[39m | AWS::Events::Rule                     | \u001b[32m\u001b[1mEbsThroughputTunerRule\u001b[22m\u001b[39m (EbsThroughputTunerRule5E261683) \n",
      "SdOnEKSStack | 163/173 | 5:15:55 AM | \u001b[32mCREATE_COMPLETE     \u001b[39m | AWS::CloudFormation::Stack            | \u001b[32m\u001b[1mSdOnEKSStack\u001b[22m\u001b[39m \n",
      "\u001b[32m\u001b[39m\n",
      "\u001b[32m ✅  SdOnEKSStack\u001b[39m\n",
      "\n",
      "✨  Deployment time: 1159.57s\n",
      "\n",
      "Outputs:\n",
      "\u001b[36mSdOnEKSStack\u001b[39m.\u001b[36mClusterName\u001b[39m = \u001b[4m\u001b[36mSdOnEKSStack\u001b[39m\u001b[24m\n",
      "\u001b[36mSdOnEKSStack\u001b[39m.\u001b[36mConfigCommand\u001b[39m = \u001b[4m\u001b[36maws eks update-kubeconfig --name SdOnEKSStack --region us-east-2 --role-arn arn:aws:iam::310850127430:role/SdOnEKSStack-SdOnEKSStackAccessRole9650AD2D-I64B5Cr2b9oM\u001b[39m\u001b[24m\n",
      "\u001b[36mSdOnEKSStack\u001b[39m.\u001b[36mEfsFileSystemId\u001b[39m = \u001b[4m\u001b[36mfs-0b2f8d66ecf428276\u001b[39m\u001b[24m\n",
      "\u001b[36mSdOnEKSStack\u001b[39m.\u001b[36mFrontApiEndpoint\u001b[39m = \u001b[4m\u001b[36mhttps://x29dgv69k8.execute-api.us-east-2.amazonaws.com/prod/\u001b[39m\u001b[24m\n",
      "\u001b[36mSdOnEKSStack\u001b[39m.\u001b[36mGetAPIKeyCommand\u001b[39m = \u001b[4m\u001b[36maws apigateway get-api-keys --query 'items[?id==`rkwaw22zb4`].value' --include-values --output text\u001b[39m\u001b[24m\n",
      "\u001b[36mSdOnEKSStack\u001b[39m.\u001b[36mGetTokenCommand\u001b[39m = \u001b[4m\u001b[36maws eks get-token --cluster-name SdOnEKSStack --region us-east-2 --role-arn arn:aws:iam::310850127430:role/SdOnEKSStack-SdOnEKSStackAccessRole9650AD2D-I64B5Cr2b9oM\u001b[39m\u001b[24m\n",
      "\u001b[36mSdOnEKSStack\u001b[39m.\u001b[36mKarpenterInstanceNodeRole\u001b[39m = \u001b[4m\u001b[36mSdOnEKSStack-SdOnEKSStackkarpenternoderole6390A467-4M6E2p1ihlWy\u001b[39m\u001b[24m\n",
      "\u001b[36mSdOnEKSStack\u001b[39m.\u001b[36mKarpenterInstanceProfilename\u001b[39m = \u001b[4m\u001b[36mKarpenterNodeInstanceProfile-c236044237c13f132295efd61b6b5145\u001b[39m\u001b[24m\n",
      "\u001b[36mSdOnEKSStack\u001b[39m.\u001b[36mOutputS3Bucket\u001b[39m = \u001b[4m\u001b[36marn:aws:s3:::sdoneksstack-outputs3bucket9fe85b9f-9ad1ivxhenf2\u001b[39m\u001b[24m\n",
      "\u001b[36mSdOnEKSStack\u001b[39m.\u001b[36msdNotificationLambdaARN\u001b[39m = \u001b[4m\u001b[36marn:aws:sns:us-east-2:310850127430:SdOnEKSStack-sdNotificationLambdaCfn-yHqeta59aXce\u001b[39m\u001b[24m\n",
      "\u001b[36mSdOnEKSStack\u001b[39m.\u001b[36msdNotificationOutputARN\u001b[39m = \u001b[4m\u001b[36marn:aws:sns:us-east-2:310850127430:SdOnEKSStack-sdNotificationOutputCfn-ryXHOrCHAwvr\u001b[39m\u001b[24m\n",
      "Stack ARN:\n",
      "\n",
      "✨  Total time: 1172.75s\n",
      "\n",
      "\n"
     ]
    },
    {
     "name": "stdout",
     "output_type": "stream",
     "text": [
      "arn:aws:cloudformation:us-east-2:310850127430:stack/SdOnEKSStack/662b1590-6be0-11ee-8090-06645fb9d20d\n"
     ]
    },
    {
     "data": {
      "text/plain": [
       "0"
      ]
     },
     "execution_count": 4,
     "metadata": {},
     "output_type": "execute_result"
    }
   ],
   "source": [
    "import os\n",
    "os.chdir('/home/ec2-user/SageMaker/stable-diffusion-on-eks/deploy/')\n",
    "cmd = \"/bin/sh ./cdk_deploy.sh\"\n",
    "os.system(cmd)"
   ]
  },
  {
   "cell_type": "markdown",
   "id": "e124b7bb-06fc-494d-99fc-3a8aa606eb61",
   "metadata": {},
   "source": [
    "### 四. 模型下载同步\n",
    "#### 1. 模型下载 (根据模型大小,所需时间也不同)\n",
    "找到tools目录下S3uploader文件夹,修改其中的down.csv \n",
    "修改模型下载url,和目标key列(严格按照prefix/key的结构)后保存\n",
    "\n",
    "其中prefix 允许值:\"stable-diffusion\",\"lora\",\"vae\",\"embeddings\""
   ]
  },
  {
   "cell_type": "code",
   "execution_count": 28,
   "id": "b2350732-3dfd-47d3-b2d1-3b804d123b92",
   "metadata": {
    "tags": []
   },
   "outputs": [],
   "source": [
    "%%bash\n",
    "export s3uri=<bucket_name>\n",
    "cd /home/ec2-user/SageMaker/stable-diffusion-on-eks/deploy/tools/S3uploader\n",
    "sed -i \"s/\\,\\,/\\,$s3uri,/g\" down.csv\n",
    "python3 s3uploader.py down.csv"
   ]
  },
  {
   "cell_type": "markdown",
   "id": "b6aa7260-ff82-447a-b2e9-98d3f549359b",
   "metadata": {},
   "source": [
    "#### 2. 模型同步\n",
    "进入datasync 服务访问控制台中找到历史记录是否有执行记录."
   ]
  },
  {
   "cell_type": "markdown",
   "id": "efd18c57-9111-4337-9857-c3a13c3f3cda",
   "metadata": {
    "tags": []
   },
   "source": [
    "### 五.请求测试"
   ]
  },
  {
   "cell_type": "code",
   "execution_count": 6,
   "id": "01e3ce86",
   "metadata": {
    "tags": []
   },
   "outputs": [
    {
     "name": "stdout",
     "output_type": "stream",
     "text": [
      "\"CREATE_COMPLETE\"\n"
     ]
    }
   ],
   "source": [
    "#等待cloudformation 执行完成\n",
    "!aws cloudformation describe-stacks --stack-name SdOnEKSStack --output json --query 'Stacks[0].StackStatus'"
   ]
  },
  {
   "cell_type": "markdown",
   "id": "7f7b86da-cf73-4399-bcd1-7e4590e62edd",
   "metadata": {},
   "source": [
    "执行完毕后从cloudformation输出记录 APIGateway 地址"
   ]
  },
  {
   "cell_type": "code",
   "execution_count": 33,
   "id": "50ccc101",
   "metadata": {
    "tags": []
   },
   "outputs": [],
   "source": [
    "APIGW_URL=\"$(aws cloudformation describe-stacks --stack-name SdOnEKSStack --output text --query 'Stacks[0].Outputs[?OutputKey==`FrontApiEndpoint`].OutputValue')\"\n",
    "!echo \"APIGW URL:\" $APIGW_URL\n"
   ]
  },
  {
   "cell_type": "markdown",
   "id": "481c49d3-9881-4a2a-8c9c-8d3af7c49f46",
   "metadata": {},
   "source": [
    "执行完毕后如果需要管理EKS,则执行以下命令,输出记录 eks config update命令,拷贝到bash中执行"
   ]
  },
  {
   "cell_type": "code",
   "execution_count": 31,
   "id": "afe8fd45",
   "metadata": {
    "tags": []
   },
   "outputs": [],
   "source": [
    "!aws cloudformation describe-stacks --stack-name SdOnEKSStack --output text --query 'Stacks[0].Outputs[?OutputKey==`GetAPIKeyCommand`].OutputValue'\n",
    "# 上一步输出value运行\n",
    "!aws apigateway get-api-keys --query 'items[?id==``].value' --include-values --output text\n"
   ]
  },
  {
   "cell_type": "code",
   "execution_count": 36,
   "id": "50a9a4c9-abaa-4358-8564-eb7e6c8df1ad",
   "metadata": {
    "tags": []
   },
   "outputs": [],
   "source": [
    "!aws cloudformation describe-stacks --stack-name SdOnEKSStack --output text --query 'Stacks[0].Outputs[?OutputKey==`ConfigCommand`].OutputValue'"
   ]
  },
  {
   "cell_type": "markdown",
   "id": "355ca030-db0f-4499-9b9e-b4d3b04f7392",
   "metadata": {},
   "source": [
    "### 六. Lab2 curl范例"
   ]
  },
  {
   "cell_type": "code",
   "execution_count": 32,
   "id": "1e7eff30-9327-49d8-b72f-5e48870bfde8",
   "metadata": {
    "tags": []
   },
   "outputs": [],
   "source": [
    "!curl -X POST https://12345678.execute-api.us-east-2.amazonaws.com/prod/ \\\n",
    "    -H 'Content-Type: application/json' \\\n",
    "    -H 'x-api-key: ' \\\n",
    "    -d @test.json\n"
   ]
  }
 ],
 "metadata": {
  "kernelspec": {
   "display_name": "conda_pytorch_p310",
   "language": "python",
   "name": "conda_pytorch_p310"
  },
  "language_info": {
   "codemirror_mode": {
    "name": "ipython",
    "version": 3
   },
   "file_extension": ".py",
   "mimetype": "text/x-python",
   "name": "python",
   "nbconvert_exporter": "python",
   "pygments_lexer": "ipython3",
   "version": "3.10.12"
  }
 },
 "nbformat": 4,
 "nbformat_minor": 5
}
